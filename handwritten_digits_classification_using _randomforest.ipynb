{
 "cells": [
  {
   "cell_type": "markdown",
   "metadata": {},
   "source": [
    "## MNIST digits classification using random forest classifier"
   ]
  },
  {
   "cell_type": "markdown",
   "metadata": {},
   "source": [
    "\n",
    "\n",
    "### Importing Libraries"
   ]
  },
  {
   "cell_type": "code",
   "execution_count": 2,
   "metadata": {
    "collapsed": false
   },
   "outputs": [],
   "source": [
    "import numpy as np\n",
    "import pandas as pd\n",
    "import matplotlib.pyplot as plt\n",
    "import pylab as pl\n",
    "\n",
    "\n",
    "from sklearn.ensemble import RandomForestClassifier\n",
    "from sklearn.model_selection import train_test_split\n",
    "from sklearn.ensemble import RandomForestClassifier\n",
    "from sklearn.metrics import accuracy_score\n",
    "from sklearn.model_selection import GridSearchCV\n",
    "from sklearn.model_selection import cross_val_score\n",
    "from sklearn.model_selection import RandomizedSearchCV\n",
    "from matplotlib.legend_handler import HandlerLine2D\n",
    "\n",
    "\n",
    "\n",
    "\n",
    "%matplotlib inline\n"
   ]
  },
  {
   "cell_type": "code",
   "execution_count": 3,
   "metadata": {
    "collapsed": true
   },
   "outputs": [],
   "source": [
    "# Stop deprecation warnings from being printed\n",
    "\n",
    "import warnings\n",
    "warnings.filterwarnings(\"ignore\", category=FutureWarning)\n"
   ]
  },
  {
   "cell_type": "markdown",
   "metadata": {},
   "source": [
    "MNIST ( Mixed National Institute of Standards and Technology ) is a database of handwritten digits that is commonly used for training image processing sytems.\n",
    "\n",
    "It is msotly used for training and testing in the field of machine learning. In our study we will be using the MNIST data(low-resolution) from the sklearn database . \n",
    "\n",
    "Each MNIST digits is labelled with class 0,$\\ldots$, 9. The images are 8 x 8 pixels in size with integer from range 0 to 16.."
   ]
  },
  {
   "cell_type": "markdown",
   "metadata": {},
   "source": [
    "### Loading data and checking data"
   ]
  },
  {
   "cell_type": "code",
   "execution_count": 4,
   "metadata": {
    "collapsed": true
   },
   "outputs": [],
   "source": [
    "from sklearn.datasets import load_digits\n",
    "digits = load_digits()"
   ]
  },
  {
   "cell_type": "code",
   "execution_count": 5,
   "metadata": {
    "collapsed": false
   },
   "outputs": [
    {
     "data": {
      "text/plain": [
       "{'DESCR': \".. _digits_dataset:\\n\\nOptical recognition of handwritten digits dataset\\n--------------------------------------------------\\n\\n**Data Set Characteristics:**\\n\\n    :Number of Instances: 5620\\n    :Number of Attributes: 64\\n    :Attribute Information: 8x8 image of integer pixels in the range 0..16.\\n    :Missing Attribute Values: None\\n    :Creator: E. Alpaydin (alpaydin '@' boun.edu.tr)\\n    :Date: July; 1998\\n\\nThis is a copy of the test set of the UCI ML hand-written digits datasets\\nhttp://archive.ics.uci.edu/ml/datasets/Optical+Recognition+of+Handwritten+Digits\\n\\nThe data set contains images of hand-written digits: 10 classes where\\neach class refers to a digit.\\n\\nPreprocessing programs made available by NIST were used to extract\\nnormalized bitmaps of handwritten digits from a preprinted form. From a\\ntotal of 43 people, 30 contributed to the training set and different 13\\nto the test set. 32x32 bitmaps are divided into nonoverlapping blocks of\\n4x4 and the number of on pixels are counted in each block. This generates\\nan input matrix of 8x8 where each element is an integer in the range\\n0..16. This reduces dimensionality and gives invariance to small\\ndistortions.\\n\\nFor info on NIST preprocessing routines, see M. D. Garris, J. L. Blue, G.\\nT. Candela, D. L. Dimmick, J. Geist, P. J. Grother, S. A. Janet, and C.\\nL. Wilson, NIST Form-Based Handprint Recognition System, NISTIR 5469,\\n1994.\\n\\n.. topic:: References\\n\\n  - C. Kaynak (1995) Methods of Combining Multiple Classifiers and Their\\n    Applications to Handwritten Digit Recognition, MSc Thesis, Institute of\\n    Graduate Studies in Science and Engineering, Bogazici University.\\n  - E. Alpaydin, C. Kaynak (1998) Cascading Classifiers, Kybernetika.\\n  - Ken Tang and Ponnuthurai N. Suganthan and Xi Yao and A. Kai Qin.\\n    Linear dimensionalityreduction using relevance weighted LDA. School of\\n    Electrical and Electronic Engineering Nanyang Technological University.\\n    2005.\\n  - Claudio Gentile. A New Approximate Maximal Margin Classification\\n    Algorithm. NIPS. 2000.\",\n",
       " 'data': array([[ 0.,  0.,  5., ...,  0.,  0.,  0.],\n",
       "        [ 0.,  0.,  0., ..., 10.,  0.,  0.],\n",
       "        [ 0.,  0.,  0., ..., 16.,  9.,  0.],\n",
       "        ...,\n",
       "        [ 0.,  0.,  1., ...,  6.,  0.,  0.],\n",
       "        [ 0.,  0.,  2., ..., 12.,  0.,  0.],\n",
       "        [ 0.,  0., 10., ..., 12.,  1.,  0.]]),\n",
       " 'images': array([[[ 0.,  0.,  5., ...,  1.,  0.,  0.],\n",
       "         [ 0.,  0., 13., ..., 15.,  5.,  0.],\n",
       "         [ 0.,  3., 15., ..., 11.,  8.,  0.],\n",
       "         ...,\n",
       "         [ 0.,  4., 11., ..., 12.,  7.,  0.],\n",
       "         [ 0.,  2., 14., ..., 12.,  0.,  0.],\n",
       "         [ 0.,  0.,  6., ...,  0.,  0.,  0.]],\n",
       " \n",
       "        [[ 0.,  0.,  0., ...,  5.,  0.,  0.],\n",
       "         [ 0.,  0.,  0., ...,  9.,  0.,  0.],\n",
       "         [ 0.,  0.,  3., ...,  6.,  0.,  0.],\n",
       "         ...,\n",
       "         [ 0.,  0.,  1., ...,  6.,  0.,  0.],\n",
       "         [ 0.,  0.,  1., ...,  6.,  0.,  0.],\n",
       "         [ 0.,  0.,  0., ..., 10.,  0.,  0.]],\n",
       " \n",
       "        [[ 0.,  0.,  0., ..., 12.,  0.,  0.],\n",
       "         [ 0.,  0.,  3., ..., 14.,  0.,  0.],\n",
       "         [ 0.,  0.,  8., ..., 16.,  0.,  0.],\n",
       "         ...,\n",
       "         [ 0.,  9., 16., ...,  0.,  0.,  0.],\n",
       "         [ 0.,  3., 13., ..., 11.,  5.,  0.],\n",
       "         [ 0.,  0.,  0., ..., 16.,  9.,  0.]],\n",
       " \n",
       "        ...,\n",
       " \n",
       "        [[ 0.,  0.,  1., ...,  1.,  0.,  0.],\n",
       "         [ 0.,  0., 13., ...,  2.,  1.,  0.],\n",
       "         [ 0.,  0., 16., ..., 16.,  5.,  0.],\n",
       "         ...,\n",
       "         [ 0.,  0., 16., ..., 15.,  0.,  0.],\n",
       "         [ 0.,  0., 15., ..., 16.,  0.,  0.],\n",
       "         [ 0.,  0.,  2., ...,  6.,  0.,  0.]],\n",
       " \n",
       "        [[ 0.,  0.,  2., ...,  0.,  0.,  0.],\n",
       "         [ 0.,  0., 14., ..., 15.,  1.,  0.],\n",
       "         [ 0.,  4., 16., ..., 16.,  7.,  0.],\n",
       "         ...,\n",
       "         [ 0.,  0.,  0., ..., 16.,  2.,  0.],\n",
       "         [ 0.,  0.,  4., ..., 16.,  2.,  0.],\n",
       "         [ 0.,  0.,  5., ..., 12.,  0.,  0.]],\n",
       " \n",
       "        [[ 0.,  0., 10., ...,  1.,  0.,  0.],\n",
       "         [ 0.,  2., 16., ...,  1.,  0.,  0.],\n",
       "         [ 0.,  0., 15., ..., 15.,  0.,  0.],\n",
       "         ...,\n",
       "         [ 0.,  4., 16., ..., 16.,  6.,  0.],\n",
       "         [ 0.,  8., 16., ..., 16.,  8.,  0.],\n",
       "         [ 0.,  1.,  8., ..., 12.,  1.,  0.]]]),\n",
       " 'target': array([0, 1, 2, ..., 8, 9, 8]),\n",
       " 'target_names': array([0, 1, 2, 3, 4, 5, 6, 7, 8, 9])}"
      ]
     },
     "execution_count": 5,
     "metadata": {},
     "output_type": "execute_result"
    }
   ],
   "source": [
    "digits"
   ]
  },
  {
   "cell_type": "markdown",
   "metadata": {},
   "source": [
    "### Get size of dataframes\n"
   ]
  },
  {
   "cell_type": "code",
   "execution_count": 6,
   "metadata": {
    "collapsed": false
   },
   "outputs": [
    {
     "data": {
      "text/plain": [
       "(1797,)"
      ]
     },
     "execution_count": 6,
     "metadata": {},
     "output_type": "execute_result"
    }
   ],
   "source": [
    "digits.target.shape"
   ]
  },
  {
   "cell_type": "code",
   "execution_count": 7,
   "metadata": {
    "collapsed": false
   },
   "outputs": [
    {
     "data": {
      "text/plain": [
       "(1797, 64)"
      ]
     },
     "execution_count": 7,
     "metadata": {},
     "output_type": "execute_result"
    }
   ],
   "source": [
    "digits.data.shape"
   ]
  },
  {
   "cell_type": "markdown",
   "metadata": {},
   "source": [
    "### Loading the data into pandas  dataframe"
   ]
  },
  {
   "cell_type": "code",
   "execution_count": 8,
   "metadata": {
    "collapsed": false
   },
   "outputs": [
    {
     "data": {
      "text/html": [
       "<div>\n",
       "<style scoped>\n",
       "    .dataframe tbody tr th:only-of-type {\n",
       "        vertical-align: middle;\n",
       "    }\n",
       "\n",
       "    .dataframe tbody tr th {\n",
       "        vertical-align: top;\n",
       "    }\n",
       "\n",
       "    .dataframe thead th {\n",
       "        text-align: right;\n",
       "    }\n",
       "</style>\n",
       "<table border=\"1\" class=\"dataframe\">\n",
       "  <thead>\n",
       "    <tr style=\"text-align: right;\">\n",
       "      <th></th>\n",
       "      <th>0</th>\n",
       "      <th>1</th>\n",
       "      <th>2</th>\n",
       "      <th>3</th>\n",
       "      <th>4</th>\n",
       "      <th>5</th>\n",
       "      <th>6</th>\n",
       "      <th>7</th>\n",
       "      <th>8</th>\n",
       "      <th>9</th>\n",
       "      <th>...</th>\n",
       "      <th>54</th>\n",
       "      <th>55</th>\n",
       "      <th>56</th>\n",
       "      <th>57</th>\n",
       "      <th>58</th>\n",
       "      <th>59</th>\n",
       "      <th>60</th>\n",
       "      <th>61</th>\n",
       "      <th>62</th>\n",
       "      <th>63</th>\n",
       "    </tr>\n",
       "  </thead>\n",
       "  <tbody>\n",
       "    <tr>\n",
       "      <th>0</th>\n",
       "      <td>0.0</td>\n",
       "      <td>0.0</td>\n",
       "      <td>5.0</td>\n",
       "      <td>13.0</td>\n",
       "      <td>9.0</td>\n",
       "      <td>1.0</td>\n",
       "      <td>0.0</td>\n",
       "      <td>0.0</td>\n",
       "      <td>0.0</td>\n",
       "      <td>0.0</td>\n",
       "      <td>...</td>\n",
       "      <td>0.0</td>\n",
       "      <td>0.0</td>\n",
       "      <td>0.0</td>\n",
       "      <td>0.0</td>\n",
       "      <td>6.0</td>\n",
       "      <td>13.0</td>\n",
       "      <td>10.0</td>\n",
       "      <td>0.0</td>\n",
       "      <td>0.0</td>\n",
       "      <td>0.0</td>\n",
       "    </tr>\n",
       "    <tr>\n",
       "      <th>1</th>\n",
       "      <td>0.0</td>\n",
       "      <td>0.0</td>\n",
       "      <td>0.0</td>\n",
       "      <td>12.0</td>\n",
       "      <td>13.0</td>\n",
       "      <td>5.0</td>\n",
       "      <td>0.0</td>\n",
       "      <td>0.0</td>\n",
       "      <td>0.0</td>\n",
       "      <td>0.0</td>\n",
       "      <td>...</td>\n",
       "      <td>0.0</td>\n",
       "      <td>0.0</td>\n",
       "      <td>0.0</td>\n",
       "      <td>0.0</td>\n",
       "      <td>0.0</td>\n",
       "      <td>11.0</td>\n",
       "      <td>16.0</td>\n",
       "      <td>10.0</td>\n",
       "      <td>0.0</td>\n",
       "      <td>0.0</td>\n",
       "    </tr>\n",
       "    <tr>\n",
       "      <th>2</th>\n",
       "      <td>0.0</td>\n",
       "      <td>0.0</td>\n",
       "      <td>0.0</td>\n",
       "      <td>4.0</td>\n",
       "      <td>15.0</td>\n",
       "      <td>12.0</td>\n",
       "      <td>0.0</td>\n",
       "      <td>0.0</td>\n",
       "      <td>0.0</td>\n",
       "      <td>0.0</td>\n",
       "      <td>...</td>\n",
       "      <td>5.0</td>\n",
       "      <td>0.0</td>\n",
       "      <td>0.0</td>\n",
       "      <td>0.0</td>\n",
       "      <td>0.0</td>\n",
       "      <td>3.0</td>\n",
       "      <td>11.0</td>\n",
       "      <td>16.0</td>\n",
       "      <td>9.0</td>\n",
       "      <td>0.0</td>\n",
       "    </tr>\n",
       "    <tr>\n",
       "      <th>3</th>\n",
       "      <td>0.0</td>\n",
       "      <td>0.0</td>\n",
       "      <td>7.0</td>\n",
       "      <td>15.0</td>\n",
       "      <td>13.0</td>\n",
       "      <td>1.0</td>\n",
       "      <td>0.0</td>\n",
       "      <td>0.0</td>\n",
       "      <td>0.0</td>\n",
       "      <td>8.0</td>\n",
       "      <td>...</td>\n",
       "      <td>9.0</td>\n",
       "      <td>0.0</td>\n",
       "      <td>0.0</td>\n",
       "      <td>0.0</td>\n",
       "      <td>7.0</td>\n",
       "      <td>13.0</td>\n",
       "      <td>13.0</td>\n",
       "      <td>9.0</td>\n",
       "      <td>0.0</td>\n",
       "      <td>0.0</td>\n",
       "    </tr>\n",
       "    <tr>\n",
       "      <th>4</th>\n",
       "      <td>0.0</td>\n",
       "      <td>0.0</td>\n",
       "      <td>0.0</td>\n",
       "      <td>1.0</td>\n",
       "      <td>11.0</td>\n",
       "      <td>0.0</td>\n",
       "      <td>0.0</td>\n",
       "      <td>0.0</td>\n",
       "      <td>0.0</td>\n",
       "      <td>0.0</td>\n",
       "      <td>...</td>\n",
       "      <td>0.0</td>\n",
       "      <td>0.0</td>\n",
       "      <td>0.0</td>\n",
       "      <td>0.0</td>\n",
       "      <td>0.0</td>\n",
       "      <td>2.0</td>\n",
       "      <td>16.0</td>\n",
       "      <td>4.0</td>\n",
       "      <td>0.0</td>\n",
       "      <td>0.0</td>\n",
       "    </tr>\n",
       "  </tbody>\n",
       "</table>\n",
       "<p>5 rows × 64 columns</p>\n",
       "</div>"
      ],
      "text/plain": [
       "    0    1    2     3     4     5    6    7    8    9   ...   54   55   56  \\\n",
       "0  0.0  0.0  5.0  13.0   9.0   1.0  0.0  0.0  0.0  0.0  ...  0.0  0.0  0.0   \n",
       "1  0.0  0.0  0.0  12.0  13.0   5.0  0.0  0.0  0.0  0.0  ...  0.0  0.0  0.0   \n",
       "2  0.0  0.0  0.0   4.0  15.0  12.0  0.0  0.0  0.0  0.0  ...  5.0  0.0  0.0   \n",
       "3  0.0  0.0  7.0  15.0  13.0   1.0  0.0  0.0  0.0  8.0  ...  9.0  0.0  0.0   \n",
       "4  0.0  0.0  0.0   1.0  11.0   0.0  0.0  0.0  0.0  0.0  ...  0.0  0.0  0.0   \n",
       "\n",
       "    57   58    59    60    61   62   63  \n",
       "0  0.0  6.0  13.0  10.0   0.0  0.0  0.0  \n",
       "1  0.0  0.0  11.0  16.0  10.0  0.0  0.0  \n",
       "2  0.0  0.0   3.0  11.0  16.0  9.0  0.0  \n",
       "3  0.0  7.0  13.0  13.0   9.0  0.0  0.0  \n",
       "4  0.0  0.0   2.0  16.0   4.0  0.0  0.0  \n",
       "\n",
       "[5 rows x 64 columns]"
      ]
     },
     "execution_count": 8,
     "metadata": {},
     "output_type": "execute_result"
    }
   ],
   "source": [
    "mnist_df = pd.DataFrame(digits.data)\n",
    "mnist_df.head()"
   ]
  },
  {
   "cell_type": "markdown",
   "metadata": {},
   "source": [
    "We will like to customize the features and add the target to the dataframe"
   ]
  },
  {
   "cell_type": "code",
   "execution_count": 9,
   "metadata": {
    "collapsed": true
   },
   "outputs": [],
   "source": [
    "name_columns = []\n",
    "\n",
    "for i in range (1,65):\n",
    "    name_columns += ['pixel ' + str(i)]\n",
    "\n",
    "mnist_df.columns = name_columns\n",
    "mnist_df['Labels'] = digits.target"
   ]
  },
  {
   "cell_type": "code",
   "execution_count": 10,
   "metadata": {
    "collapsed": false
   },
   "outputs": [
    {
     "data": {
      "text/html": [
       "<div>\n",
       "<style scoped>\n",
       "    .dataframe tbody tr th:only-of-type {\n",
       "        vertical-align: middle;\n",
       "    }\n",
       "\n",
       "    .dataframe tbody tr th {\n",
       "        vertical-align: top;\n",
       "    }\n",
       "\n",
       "    .dataframe thead th {\n",
       "        text-align: right;\n",
       "    }\n",
       "</style>\n",
       "<table border=\"1\" class=\"dataframe\">\n",
       "  <thead>\n",
       "    <tr style=\"text-align: right;\">\n",
       "      <th></th>\n",
       "      <th>pixel 1</th>\n",
       "      <th>pixel 2</th>\n",
       "      <th>pixel 3</th>\n",
       "      <th>pixel 4</th>\n",
       "      <th>pixel 5</th>\n",
       "      <th>pixel 6</th>\n",
       "      <th>pixel 7</th>\n",
       "      <th>pixel 8</th>\n",
       "      <th>pixel 9</th>\n",
       "      <th>pixel 10</th>\n",
       "      <th>...</th>\n",
       "      <th>pixel 56</th>\n",
       "      <th>pixel 57</th>\n",
       "      <th>pixel 58</th>\n",
       "      <th>pixel 59</th>\n",
       "      <th>pixel 60</th>\n",
       "      <th>pixel 61</th>\n",
       "      <th>pixel 62</th>\n",
       "      <th>pixel 63</th>\n",
       "      <th>pixel 64</th>\n",
       "      <th>Labels</th>\n",
       "    </tr>\n",
       "  </thead>\n",
       "  <tbody>\n",
       "    <tr>\n",
       "      <th>0</th>\n",
       "      <td>0.0</td>\n",
       "      <td>0.0</td>\n",
       "      <td>5.0</td>\n",
       "      <td>13.0</td>\n",
       "      <td>9.0</td>\n",
       "      <td>1.0</td>\n",
       "      <td>0.0</td>\n",
       "      <td>0.0</td>\n",
       "      <td>0.0</td>\n",
       "      <td>0.0</td>\n",
       "      <td>...</td>\n",
       "      <td>0.0</td>\n",
       "      <td>0.0</td>\n",
       "      <td>0.0</td>\n",
       "      <td>6.0</td>\n",
       "      <td>13.0</td>\n",
       "      <td>10.0</td>\n",
       "      <td>0.0</td>\n",
       "      <td>0.0</td>\n",
       "      <td>0.0</td>\n",
       "      <td>0</td>\n",
       "    </tr>\n",
       "    <tr>\n",
       "      <th>1</th>\n",
       "      <td>0.0</td>\n",
       "      <td>0.0</td>\n",
       "      <td>0.0</td>\n",
       "      <td>12.0</td>\n",
       "      <td>13.0</td>\n",
       "      <td>5.0</td>\n",
       "      <td>0.0</td>\n",
       "      <td>0.0</td>\n",
       "      <td>0.0</td>\n",
       "      <td>0.0</td>\n",
       "      <td>...</td>\n",
       "      <td>0.0</td>\n",
       "      <td>0.0</td>\n",
       "      <td>0.0</td>\n",
       "      <td>0.0</td>\n",
       "      <td>11.0</td>\n",
       "      <td>16.0</td>\n",
       "      <td>10.0</td>\n",
       "      <td>0.0</td>\n",
       "      <td>0.0</td>\n",
       "      <td>1</td>\n",
       "    </tr>\n",
       "    <tr>\n",
       "      <th>2</th>\n",
       "      <td>0.0</td>\n",
       "      <td>0.0</td>\n",
       "      <td>0.0</td>\n",
       "      <td>4.0</td>\n",
       "      <td>15.0</td>\n",
       "      <td>12.0</td>\n",
       "      <td>0.0</td>\n",
       "      <td>0.0</td>\n",
       "      <td>0.0</td>\n",
       "      <td>0.0</td>\n",
       "      <td>...</td>\n",
       "      <td>0.0</td>\n",
       "      <td>0.0</td>\n",
       "      <td>0.0</td>\n",
       "      <td>0.0</td>\n",
       "      <td>3.0</td>\n",
       "      <td>11.0</td>\n",
       "      <td>16.0</td>\n",
       "      <td>9.0</td>\n",
       "      <td>0.0</td>\n",
       "      <td>2</td>\n",
       "    </tr>\n",
       "    <tr>\n",
       "      <th>3</th>\n",
       "      <td>0.0</td>\n",
       "      <td>0.0</td>\n",
       "      <td>7.0</td>\n",
       "      <td>15.0</td>\n",
       "      <td>13.0</td>\n",
       "      <td>1.0</td>\n",
       "      <td>0.0</td>\n",
       "      <td>0.0</td>\n",
       "      <td>0.0</td>\n",
       "      <td>8.0</td>\n",
       "      <td>...</td>\n",
       "      <td>0.0</td>\n",
       "      <td>0.0</td>\n",
       "      <td>0.0</td>\n",
       "      <td>7.0</td>\n",
       "      <td>13.0</td>\n",
       "      <td>13.0</td>\n",
       "      <td>9.0</td>\n",
       "      <td>0.0</td>\n",
       "      <td>0.0</td>\n",
       "      <td>3</td>\n",
       "    </tr>\n",
       "    <tr>\n",
       "      <th>4</th>\n",
       "      <td>0.0</td>\n",
       "      <td>0.0</td>\n",
       "      <td>0.0</td>\n",
       "      <td>1.0</td>\n",
       "      <td>11.0</td>\n",
       "      <td>0.0</td>\n",
       "      <td>0.0</td>\n",
       "      <td>0.0</td>\n",
       "      <td>0.0</td>\n",
       "      <td>0.0</td>\n",
       "      <td>...</td>\n",
       "      <td>0.0</td>\n",
       "      <td>0.0</td>\n",
       "      <td>0.0</td>\n",
       "      <td>0.0</td>\n",
       "      <td>2.0</td>\n",
       "      <td>16.0</td>\n",
       "      <td>4.0</td>\n",
       "      <td>0.0</td>\n",
       "      <td>0.0</td>\n",
       "      <td>4</td>\n",
       "    </tr>\n",
       "  </tbody>\n",
       "</table>\n",
       "<p>5 rows × 65 columns</p>\n",
       "</div>"
      ],
      "text/plain": [
       "   pixel 1  pixel 2  pixel 3  pixel 4  pixel 5  pixel 6  pixel 7  pixel 8  \\\n",
       "0      0.0      0.0      5.0     13.0      9.0      1.0      0.0      0.0   \n",
       "1      0.0      0.0      0.0     12.0     13.0      5.0      0.0      0.0   \n",
       "2      0.0      0.0      0.0      4.0     15.0     12.0      0.0      0.0   \n",
       "3      0.0      0.0      7.0     15.0     13.0      1.0      0.0      0.0   \n",
       "4      0.0      0.0      0.0      1.0     11.0      0.0      0.0      0.0   \n",
       "\n",
       "   pixel 9  pixel 10  ...  pixel 56  pixel 57  pixel 58  pixel 59  pixel 60  \\\n",
       "0      0.0       0.0  ...       0.0       0.0       0.0       6.0      13.0   \n",
       "1      0.0       0.0  ...       0.0       0.0       0.0       0.0      11.0   \n",
       "2      0.0       0.0  ...       0.0       0.0       0.0       0.0       3.0   \n",
       "3      0.0       8.0  ...       0.0       0.0       0.0       7.0      13.0   \n",
       "4      0.0       0.0  ...       0.0       0.0       0.0       0.0       2.0   \n",
       "\n",
       "   pixel 61  pixel 62  pixel 63  pixel 64  Labels  \n",
       "0      10.0       0.0       0.0       0.0       0  \n",
       "1      16.0      10.0       0.0       0.0       1  \n",
       "2      11.0      16.0       9.0       0.0       2  \n",
       "3      13.0       9.0       0.0       0.0       3  \n",
       "4      16.0       4.0       0.0       0.0       4  \n",
       "\n",
       "[5 rows x 65 columns]"
      ]
     },
     "execution_count": 10,
     "metadata": {},
     "output_type": "execute_result"
    }
   ],
   "source": [
    "mnist_df.head()"
   ]
  },
  {
   "cell_type": "markdown",
   "metadata": {},
   "source": [
    "###  Data Description"
   ]
  },
  {
   "cell_type": "code",
   "execution_count": 11,
   "metadata": {
    "collapsed": false
   },
   "outputs": [
    {
     "data": {
      "text/html": [
       "<div>\n",
       "<style scoped>\n",
       "    .dataframe tbody tr th:only-of-type {\n",
       "        vertical-align: middle;\n",
       "    }\n",
       "\n",
       "    .dataframe tbody tr th {\n",
       "        vertical-align: top;\n",
       "    }\n",
       "\n",
       "    .dataframe thead th {\n",
       "        text-align: right;\n",
       "    }\n",
       "</style>\n",
       "<table border=\"1\" class=\"dataframe\">\n",
       "  <thead>\n",
       "    <tr style=\"text-align: right;\">\n",
       "      <th></th>\n",
       "      <th>pixel 1</th>\n",
       "      <th>pixel 2</th>\n",
       "      <th>pixel 3</th>\n",
       "      <th>pixel 4</th>\n",
       "      <th>pixel 5</th>\n",
       "      <th>pixel 6</th>\n",
       "      <th>pixel 7</th>\n",
       "      <th>pixel 8</th>\n",
       "      <th>pixel 9</th>\n",
       "      <th>pixel 10</th>\n",
       "      <th>...</th>\n",
       "      <th>pixel 56</th>\n",
       "      <th>pixel 57</th>\n",
       "      <th>pixel 58</th>\n",
       "      <th>pixel 59</th>\n",
       "      <th>pixel 60</th>\n",
       "      <th>pixel 61</th>\n",
       "      <th>pixel 62</th>\n",
       "      <th>pixel 63</th>\n",
       "      <th>pixel 64</th>\n",
       "      <th>Labels</th>\n",
       "    </tr>\n",
       "  </thead>\n",
       "  <tbody>\n",
       "    <tr>\n",
       "      <th>count</th>\n",
       "      <td>1797.0</td>\n",
       "      <td>1797.000000</td>\n",
       "      <td>1797.000000</td>\n",
       "      <td>1797.000000</td>\n",
       "      <td>1797.000000</td>\n",
       "      <td>1797.000000</td>\n",
       "      <td>1797.000000</td>\n",
       "      <td>1797.000000</td>\n",
       "      <td>1797.000000</td>\n",
       "      <td>1797.000000</td>\n",
       "      <td>...</td>\n",
       "      <td>1797.000000</td>\n",
       "      <td>1797.000000</td>\n",
       "      <td>1797.000000</td>\n",
       "      <td>1797.000000</td>\n",
       "      <td>1797.000000</td>\n",
       "      <td>1797.000000</td>\n",
       "      <td>1797.000000</td>\n",
       "      <td>1797.000000</td>\n",
       "      <td>1797.000000</td>\n",
       "      <td>1797.000000</td>\n",
       "    </tr>\n",
       "    <tr>\n",
       "      <th>mean</th>\n",
       "      <td>0.0</td>\n",
       "      <td>0.303840</td>\n",
       "      <td>5.204786</td>\n",
       "      <td>11.835838</td>\n",
       "      <td>11.848080</td>\n",
       "      <td>5.781859</td>\n",
       "      <td>1.362270</td>\n",
       "      <td>0.129661</td>\n",
       "      <td>0.005565</td>\n",
       "      <td>1.993879</td>\n",
       "      <td>...</td>\n",
       "      <td>0.206455</td>\n",
       "      <td>0.000556</td>\n",
       "      <td>0.279354</td>\n",
       "      <td>5.557596</td>\n",
       "      <td>12.089037</td>\n",
       "      <td>11.809126</td>\n",
       "      <td>6.764051</td>\n",
       "      <td>2.067891</td>\n",
       "      <td>0.364496</td>\n",
       "      <td>4.490818</td>\n",
       "    </tr>\n",
       "    <tr>\n",
       "      <th>std</th>\n",
       "      <td>0.0</td>\n",
       "      <td>0.907192</td>\n",
       "      <td>4.754826</td>\n",
       "      <td>4.248842</td>\n",
       "      <td>4.287388</td>\n",
       "      <td>5.666418</td>\n",
       "      <td>3.325775</td>\n",
       "      <td>1.037383</td>\n",
       "      <td>0.094222</td>\n",
       "      <td>3.196160</td>\n",
       "      <td>...</td>\n",
       "      <td>0.984401</td>\n",
       "      <td>0.023590</td>\n",
       "      <td>0.934302</td>\n",
       "      <td>5.103019</td>\n",
       "      <td>4.374694</td>\n",
       "      <td>4.933947</td>\n",
       "      <td>5.900623</td>\n",
       "      <td>4.090548</td>\n",
       "      <td>1.860122</td>\n",
       "      <td>2.865304</td>\n",
       "    </tr>\n",
       "    <tr>\n",
       "      <th>min</th>\n",
       "      <td>0.0</td>\n",
       "      <td>0.000000</td>\n",
       "      <td>0.000000</td>\n",
       "      <td>0.000000</td>\n",
       "      <td>0.000000</td>\n",
       "      <td>0.000000</td>\n",
       "      <td>0.000000</td>\n",
       "      <td>0.000000</td>\n",
       "      <td>0.000000</td>\n",
       "      <td>0.000000</td>\n",
       "      <td>...</td>\n",
       "      <td>0.000000</td>\n",
       "      <td>0.000000</td>\n",
       "      <td>0.000000</td>\n",
       "      <td>0.000000</td>\n",
       "      <td>0.000000</td>\n",
       "      <td>0.000000</td>\n",
       "      <td>0.000000</td>\n",
       "      <td>0.000000</td>\n",
       "      <td>0.000000</td>\n",
       "      <td>0.000000</td>\n",
       "    </tr>\n",
       "    <tr>\n",
       "      <th>25%</th>\n",
       "      <td>0.0</td>\n",
       "      <td>0.000000</td>\n",
       "      <td>1.000000</td>\n",
       "      <td>10.000000</td>\n",
       "      <td>10.000000</td>\n",
       "      <td>0.000000</td>\n",
       "      <td>0.000000</td>\n",
       "      <td>0.000000</td>\n",
       "      <td>0.000000</td>\n",
       "      <td>0.000000</td>\n",
       "      <td>...</td>\n",
       "      <td>0.000000</td>\n",
       "      <td>0.000000</td>\n",
       "      <td>0.000000</td>\n",
       "      <td>1.000000</td>\n",
       "      <td>11.000000</td>\n",
       "      <td>10.000000</td>\n",
       "      <td>0.000000</td>\n",
       "      <td>0.000000</td>\n",
       "      <td>0.000000</td>\n",
       "      <td>2.000000</td>\n",
       "    </tr>\n",
       "    <tr>\n",
       "      <th>50%</th>\n",
       "      <td>0.0</td>\n",
       "      <td>0.000000</td>\n",
       "      <td>4.000000</td>\n",
       "      <td>13.000000</td>\n",
       "      <td>13.000000</td>\n",
       "      <td>4.000000</td>\n",
       "      <td>0.000000</td>\n",
       "      <td>0.000000</td>\n",
       "      <td>0.000000</td>\n",
       "      <td>0.000000</td>\n",
       "      <td>...</td>\n",
       "      <td>0.000000</td>\n",
       "      <td>0.000000</td>\n",
       "      <td>0.000000</td>\n",
       "      <td>4.000000</td>\n",
       "      <td>13.000000</td>\n",
       "      <td>14.000000</td>\n",
       "      <td>6.000000</td>\n",
       "      <td>0.000000</td>\n",
       "      <td>0.000000</td>\n",
       "      <td>4.000000</td>\n",
       "    </tr>\n",
       "    <tr>\n",
       "      <th>75%</th>\n",
       "      <td>0.0</td>\n",
       "      <td>0.000000</td>\n",
       "      <td>9.000000</td>\n",
       "      <td>15.000000</td>\n",
       "      <td>15.000000</td>\n",
       "      <td>11.000000</td>\n",
       "      <td>0.000000</td>\n",
       "      <td>0.000000</td>\n",
       "      <td>0.000000</td>\n",
       "      <td>3.000000</td>\n",
       "      <td>...</td>\n",
       "      <td>0.000000</td>\n",
       "      <td>0.000000</td>\n",
       "      <td>0.000000</td>\n",
       "      <td>10.000000</td>\n",
       "      <td>16.000000</td>\n",
       "      <td>16.000000</td>\n",
       "      <td>12.000000</td>\n",
       "      <td>2.000000</td>\n",
       "      <td>0.000000</td>\n",
       "      <td>7.000000</td>\n",
       "    </tr>\n",
       "    <tr>\n",
       "      <th>max</th>\n",
       "      <td>0.0</td>\n",
       "      <td>8.000000</td>\n",
       "      <td>16.000000</td>\n",
       "      <td>16.000000</td>\n",
       "      <td>16.000000</td>\n",
       "      <td>16.000000</td>\n",
       "      <td>16.000000</td>\n",
       "      <td>15.000000</td>\n",
       "      <td>2.000000</td>\n",
       "      <td>16.000000</td>\n",
       "      <td>...</td>\n",
       "      <td>13.000000</td>\n",
       "      <td>1.000000</td>\n",
       "      <td>9.000000</td>\n",
       "      <td>16.000000</td>\n",
       "      <td>16.000000</td>\n",
       "      <td>16.000000</td>\n",
       "      <td>16.000000</td>\n",
       "      <td>16.000000</td>\n",
       "      <td>16.000000</td>\n",
       "      <td>9.000000</td>\n",
       "    </tr>\n",
       "  </tbody>\n",
       "</table>\n",
       "<p>8 rows × 65 columns</p>\n",
       "</div>"
      ],
      "text/plain": [
       "       pixel 1      pixel 2      pixel 3      pixel 4      pixel 5  \\\n",
       "count   1797.0  1797.000000  1797.000000  1797.000000  1797.000000   \n",
       "mean       0.0     0.303840     5.204786    11.835838    11.848080   \n",
       "std        0.0     0.907192     4.754826     4.248842     4.287388   \n",
       "min        0.0     0.000000     0.000000     0.000000     0.000000   \n",
       "25%        0.0     0.000000     1.000000    10.000000    10.000000   \n",
       "50%        0.0     0.000000     4.000000    13.000000    13.000000   \n",
       "75%        0.0     0.000000     9.000000    15.000000    15.000000   \n",
       "max        0.0     8.000000    16.000000    16.000000    16.000000   \n",
       "\n",
       "           pixel 6      pixel 7      pixel 8      pixel 9     pixel 10  ...  \\\n",
       "count  1797.000000  1797.000000  1797.000000  1797.000000  1797.000000  ...   \n",
       "mean      5.781859     1.362270     0.129661     0.005565     1.993879  ...   \n",
       "std       5.666418     3.325775     1.037383     0.094222     3.196160  ...   \n",
       "min       0.000000     0.000000     0.000000     0.000000     0.000000  ...   \n",
       "25%       0.000000     0.000000     0.000000     0.000000     0.000000  ...   \n",
       "50%       4.000000     0.000000     0.000000     0.000000     0.000000  ...   \n",
       "75%      11.000000     0.000000     0.000000     0.000000     3.000000  ...   \n",
       "max      16.000000    16.000000    15.000000     2.000000    16.000000  ...   \n",
       "\n",
       "          pixel 56     pixel 57     pixel 58     pixel 59     pixel 60  \\\n",
       "count  1797.000000  1797.000000  1797.000000  1797.000000  1797.000000   \n",
       "mean      0.206455     0.000556     0.279354     5.557596    12.089037   \n",
       "std       0.984401     0.023590     0.934302     5.103019     4.374694   \n",
       "min       0.000000     0.000000     0.000000     0.000000     0.000000   \n",
       "25%       0.000000     0.000000     0.000000     1.000000    11.000000   \n",
       "50%       0.000000     0.000000     0.000000     4.000000    13.000000   \n",
       "75%       0.000000     0.000000     0.000000    10.000000    16.000000   \n",
       "max      13.000000     1.000000     9.000000    16.000000    16.000000   \n",
       "\n",
       "          pixel 61     pixel 62     pixel 63     pixel 64       Labels  \n",
       "count  1797.000000  1797.000000  1797.000000  1797.000000  1797.000000  \n",
       "mean     11.809126     6.764051     2.067891     0.364496     4.490818  \n",
       "std       4.933947     5.900623     4.090548     1.860122     2.865304  \n",
       "min       0.000000     0.000000     0.000000     0.000000     0.000000  \n",
       "25%      10.000000     0.000000     0.000000     0.000000     2.000000  \n",
       "50%      14.000000     6.000000     0.000000     0.000000     4.000000  \n",
       "75%      16.000000    12.000000     2.000000     0.000000     7.000000  \n",
       "max      16.000000    16.000000    16.000000    16.000000     9.000000  \n",
       "\n",
       "[8 rows x 65 columns]"
      ]
     },
     "execution_count": 11,
     "metadata": {},
     "output_type": "execute_result"
    }
   ],
   "source": [
    "mnist_df.describe()"
   ]
  },
  {
   "cell_type": "markdown",
   "metadata": {},
   "source": [
    "### Data Types"
   ]
  },
  {
   "cell_type": "code",
   "execution_count": 12,
   "metadata": {
    "collapsed": false
   },
   "outputs": [
    {
     "data": {
      "text/plain": [
       "pixel 1    float64\n",
       "pixel 2    float64\n",
       "pixel 3    float64\n",
       "pixel 4    float64\n",
       "pixel 5    float64\n",
       "dtype: object"
      ]
     },
     "execution_count": 12,
     "metadata": {},
     "output_type": "execute_result"
    }
   ],
   "source": [
    "mnist_df.dtypes[:5]"
   ]
  },
  {
   "cell_type": "markdown",
   "metadata": {},
   "source": [
    "### Checking for missing data"
   ]
  },
  {
   "cell_type": "code",
   "execution_count": 13,
   "metadata": {
    "collapsed": false
   },
   "outputs": [
    {
     "data": {
      "text/plain": [
       "pixel 1     0\n",
       "pixel 2     0\n",
       "pixel 3     0\n",
       "pixel 4     0\n",
       "pixel 5     0\n",
       "pixel 6     0\n",
       "pixel 7     0\n",
       "pixel 8     0\n",
       "pixel 9     0\n",
       "pixel 10    0\n",
       "pixel 11    0\n",
       "pixel 12    0\n",
       "pixel 13    0\n",
       "pixel 14    0\n",
       "pixel 15    0\n",
       "dtype: int64"
      ]
     },
     "execution_count": 13,
     "metadata": {},
     "output_type": "execute_result"
    }
   ],
   "source": [
    "mnist_df.isnull().sum()[:15]"
   ]
  },
  {
   "cell_type": "code",
   "execution_count": 14,
   "metadata": {
    "collapsed": false
   },
   "outputs": [
    {
     "data": {
      "text/plain": [
       "pixel 56    0\n",
       "pixel 57    0\n",
       "pixel 58    0\n",
       "pixel 59    0\n",
       "pixel 60    0\n",
       "pixel 61    0\n",
       "pixel 62    0\n",
       "pixel 63    0\n",
       "pixel 64    0\n",
       "Labels      0\n",
       "dtype: int64"
      ]
     },
     "execution_count": 14,
     "metadata": {},
     "output_type": "execute_result"
    }
   ],
   "source": [
    "mnist_df.isnull().sum()[-10:]"
   ]
  },
  {
   "cell_type": "markdown",
   "metadata": {},
   "source": [
    "There is no missing data"
   ]
  },
  {
   "cell_type": "markdown",
   "metadata": {},
   "source": [
    "### Visualize the image.\n",
    "Visualizing the first 10 examples of the data."
   ]
  },
  {
   "cell_type": "code",
   "execution_count": 15,
   "metadata": {
    "collapsed": false
   },
   "outputs": [
    {
     "data": {
      "image/png": "[encoded data removed]",
      "text/plain": [
       "<Figure size 1440x648 with 10 Axes>"
      ]
     },
     "metadata": {},
     "output_type": "display_data"
    }
   ],
   "source": [
    "plt.figure(figsize = (20,9))\n",
    "pixel = mnist_df.iloc[0:10, 0:64].values\n",
    "target = mnist_df.iloc[0:10,-1 ].values\n",
    "\n",
    "for index, (image, label) in enumerate(zip(pixel,target)):\n",
    "    plt.subplot(2, 5, index + 1)\n",
    "    plt.imshow(np.reshape(image, (8,8)), cmap=plt.cm.gray)\n",
    "    plt.title('Label is %i\\n' % label, fontsize = 15)"
   ]
  },
  {
   "cell_type": "markdown",
   "metadata": {},
   "source": [
    "###  Splitting the dataset into training and testing set\n",
    " For any supervise machine learning task, the idea of building model using all the dataset is not good approach. The main goal is to find out how good your model will be when 'an unseen' dataset is evaluated. It is highly recommended to always split your data into a training and testing set. In this light we do a 70$\\%$ - 30$\\%$ random split of data between training and testing respectively."
   ]
  },
  {
   "cell_type": "code",
   "execution_count": 16,
   "metadata": {
    "collapsed": true
   },
   "outputs": [],
   "source": [
    "X = mnist_df.iloc[: , 0:64].values\n",
    "Y = mnist_df['Labels'].values\n"
   ]
  },
  {
   "cell_type": "code",
   "execution_count": 17,
   "metadata": {
    "collapsed": true
   },
   "outputs": [],
   "source": [
    "X_train, X_test, Y_train, Y_test = train_test_split(X, Y, test_size=0.3, random_state=42)\n"
   ]
  },
  {
   "cell_type": "code",
   "execution_count": 18,
   "metadata": {
    "collapsed": false
   },
   "outputs": [
    {
     "data": {
      "text/plain": [
       "((1257, 64), (1257,))"
      ]
     },
     "execution_count": 18,
     "metadata": {},
     "output_type": "execute_result"
    }
   ],
   "source": [
    "X_train.shape, Y_train.shape"
   ]
  },
  {
   "cell_type": "code",
   "execution_count": 19,
   "metadata": {
    "collapsed": false
   },
   "outputs": [
    {
     "data": {
      "text/plain": [
       "((540, 64), (540,))"
      ]
     },
     "execution_count": 19,
     "metadata": {},
     "output_type": "execute_result"
    }
   ],
   "source": [
    "X_test.shape, Y_test.shape"
   ]
  },
  {
   "cell_type": "markdown",
   "metadata": {},
   "source": [
    " ### Fitting a random forest with default parameters to get a baseline idea of the performance"
   ]
  },
  {
   "cell_type": "code",
   "execution_count": 20,
   "metadata": {
    "collapsed": false
   },
   "outputs": [
    {
     "data": {
      "text/plain": [
       "RandomForestClassifier(bootstrap=True, class_weight=None, criterion='gini',\n",
       "            max_depth=None, max_features='auto', max_leaf_nodes=None,\n",
       "            min_impurity_decrease=0.0, min_impurity_split=None,\n",
       "            min_samples_leaf=1, min_samples_split=2,\n",
       "            min_weight_fraction_leaf=0.0, n_estimators=10, n_jobs=None,\n",
       "            oob_score=False, random_state=11, verbose=0, warm_start=False)"
      ]
     },
     "execution_count": 20,
     "metadata": {},
     "output_type": "execute_result"
    }
   ],
   "source": [
    "base_model = RandomForestClassifier(random_state=11)\n",
    "base_model.fit(X_train, Y_train)"
   ]
  },
  {
   "cell_type": "markdown",
   "metadata": {},
   "source": [
    "### Testing and  Evaluating the model\n",
    "Now our model is ready, we must evaluate our model. In a classification problem, its common to evaluate the model  using the accuracy.\n"
   ]
  },
  {
   "cell_type": "code",
   "execution_count": 21,
   "metadata": {
    "collapsed": false
   },
   "outputs": [
    {
     "data": {
      "text/plain": [
       "1.0"
      ]
     },
     "execution_count": 21,
     "metadata": {},
     "output_type": "execute_result"
    }
   ],
   "source": [
    "# predicting the model for X_train sample \n",
    "\n",
    "y_predtrain = base_model.predict(X_train)\n",
    "\n",
    "\n",
    "# classification accuracy for the training data prediction verses actual\n",
    "\n",
    "accuracy_score(y_predtrain, Y_train)"
   ]
  },
  {
   "cell_type": "code",
   "execution_count": 22,
   "metadata": {
    "collapsed": false
   },
   "outputs": [
    {
     "data": {
      "text/plain": [
       "0.9388888888888889"
      ]
     },
     "execution_count": 22,
     "metadata": {},
     "output_type": "execute_result"
    }
   ],
   "source": [
    "# predicting the model for X_test sample \n",
    "\n",
    "y_predtest = base_model.predict(X_test)\n",
    "\n",
    "# classification accuracy for the test data prediction verses actual\n",
    "\n",
    "accuracy_score(y_predtest, Y_test)\n"
   ]
  },
  {
   "cell_type": "markdown",
   "metadata": {},
   "source": [
    "## Tuning parameter for random forest performance"
   ]
  },
  {
   "cell_type": "markdown",
   "metadata": {},
   "source": [
    "### Independent Parameter tuning\n",
    "\n",
    "- Tuning parameters independently is not the best approach but it will reveal or give us an insight information of the respective parameters for better random forest performance.\n"
   ]
  },
  {
   "cell_type": "code",
   "execution_count": 23,
   "metadata": {
    "collapsed": false
   },
   "outputs": [],
   "source": [
    "# tuning n_estimators\n",
    "\n",
    "n_estimators = [1, 2, 4, 10, 16, 32, 64, 100, 200]\n",
    "\n",
    "train_results = []\n",
    "test_results = []\n",
    "for estimator in n_estimators:\n",
    "    rf= RandomForestClassifier(n_estimators=estimator, n_jobs=-1, random_state= 11)\n",
    "    rf.fit(X_train, Y_train)\n",
    "\n",
    "    train_pred = rf.predict(X_train)\n",
    "\n",
    "    train_acc = accuracy_score(train_pred, Y_train)\n",
    "    train_results += [train_acc]\n",
    "\n",
    "    y_pred = rf.predict(X_test)\n",
    "    \n",
    "    pred_acc = accuracy_score(y_pred, Y_test)\n",
    "    test_results += [pred_acc] "
   ]
  },
  {
   "cell_type": "code",
   "execution_count": 24,
   "metadata": {
    "collapsed": false
   },
   "outputs": [],
   "source": [
    "# tuning max_depth\n",
    "max_depths = [int(x) for x in np.linspace(1, 30, 30, endpoint=True)]\n",
    "\n",
    "trainresult= []\n",
    "testresult = []\n",
    "for depth in max_depths:\n",
    "    rf = RandomForestClassifier(max_depth=depth, n_jobs=-1, random_state=11)\n",
    "    rf.fit(X_train, Y_train)\n",
    "\n",
    "    train_pred = rf.predict(X_train)\n",
    "\n",
    "\n",
    "    y_pred = rf.predict(X_test)\n",
    "    \n",
    "    \n",
    "    trainresult.append(accuracy_score(train_pred, Y_train))\n",
    "    \n",
    "    testresult.append(accuracy_score(y_pred, Y_test))\n",
    "    \n"
   ]
  },
  {
   "cell_type": "code",
   "execution_count": 25,
   "metadata": {
    "collapsed": false
   },
   "outputs": [],
   "source": [
    "#tuning min_samples_split with value greater or equal to 2\n",
    "\n",
    "min_samples_splits = list(range(2,12))\n",
    "train_result = []\n",
    "test_result = []\n",
    "for min_samples_split in min_samples_splits:\n",
    "    rf = RandomForestClassifier(min_samples_split=min_samples_split, random_state=11)\n",
    "    rf.fit(X_train, Y_train)\n",
    "\n",
    "    train_pred = rf.predict(X_train)\n",
    "    \n",
    "    train_accuracy = accuracy_score(train_pred,Y_train)\n",
    "    train_result.append(train_accuracy)\n",
    "\n",
    "    y_pred = rf.predict(X_test)\n",
    "    \n",
    "    pred_accuracy = accuracy_score(y_pred,Y_test)\n",
    "    test_result.append(pred_accuracy)\n",
    "\n",
    "\n"
   ]
  },
  {
   "cell_type": "code",
   "execution_count": 26,
   "metadata": {
    "collapsed": true
   },
   "outputs": [],
   "source": [
    "#tuning min_samples_split with value between (0,0.5]\n",
    "\n",
    "min_samples_splits1 = np.linspace(0.1, 1, 10, endpoint=True)\n",
    "\n",
    "train_result1 = []\n",
    "test_result1 = []\n",
    "for min_samples_split in min_samples_splits1:\n",
    "    rf = RandomForestClassifier(min_samples_split=min_samples_split, random_state=11)\n",
    "    rf.fit(X_train, Y_train)\n",
    "\n",
    "    train_pred = rf.predict(X_train)\n",
    "    \n",
    "    train_accuracy = accuracy_score(train_pred,Y_train)\n",
    "    train_result1.append(train_accuracy)\n",
    "\n",
    "    y_pred = rf.predict(X_test)\n",
    "    \n",
    "    pred_accuracy = accuracy_score(y_pred,Y_test)\n",
    "    test_result1.append(pred_accuracy)\n",
    "\n",
    "\n"
   ]
  },
  {
   "cell_type": "code",
   "execution_count": 27,
   "metadata": {
    "collapsed": false
   },
   "outputs": [],
   "source": [
    "#tuning min_samples_leaf with value greater or equal to 2\n",
    "\n",
    "min_samples_leafs = list(range(2,12))\n",
    "\n",
    "trainresults = []\n",
    "testresults = []\n",
    "for min_samples_leaf in min_samples_leafs:\n",
    "    rf = RandomForestClassifier(min_samples_leaf=min_samples_leaf, random_state=11)\n",
    "    rf.fit(X_train, Y_train)\n",
    "\n",
    "    train_pred = rf.predict(X_train)\n",
    "    \n",
    "    train_accuracy = accuracy_score(train_pred,Y_train)\n",
    "    trainresults.append(train_accuracy)\n",
    "\n",
    "    y_pred = rf.predict(X_test)\n",
    "    \n",
    "    pred_accuracy = accuracy_score(y_pred,Y_test)\n",
    "    testresults.append(pred_accuracy)\n",
    "\n"
   ]
  },
  {
   "cell_type": "code",
   "execution_count": 28,
   "metadata": {
    "collapsed": false
   },
   "outputs": [],
   "source": [
    "#tuning min_samples_leaf with value between (0,0.5]\n",
    "\n",
    "min_samples_leafs1 = np.linspace(0.1, 0.5, 10, endpoint=True)\n",
    "\n",
    "trainresults1 = []\n",
    "testresults1 = []\n",
    "for min_samples_leaf in min_samples_leafs1:\n",
    "    rf = RandomForestClassifier(min_samples_leaf=min_samples_leaf, random_state=11)\n",
    "    rf.fit(X_train, Y_train)\n",
    "\n",
    "    train_pred = rf.predict(X_train)\n",
    "    \n",
    "    train_accuracy = accuracy_score(train_pred,Y_train)\n",
    "    trainresults1.append(train_accuracy)\n",
    "\n",
    "    y_pred = rf.predict(X_test)\n",
    "    \n",
    "    pred_accuracy = accuracy_score(y_pred,Y_test)\n",
    "    testresults1.append(pred_accuracy)\n",
    "\n"
   ]
  },
  {
   "cell_type": "code",
   "execution_count": 29,
   "metadata": {
    "collapsed": false
   },
   "outputs": [],
   "source": [
    "# tuning max_feature\n",
    "\n",
    "max_features = list(range(1,mnist_df.shape[1]-1))\n",
    "\n",
    "train_res= []\n",
    "test_res = []\n",
    "for max_feature in max_features:\n",
    "    rf = RandomForestClassifier(max_features=max_feature, random_state=11)\n",
    "    rf.fit(X_train, Y_train)\n",
    "\n",
    "    train_pred = rf.predict(X_train)\n",
    "    train_acc = accuracy_score(train_pred, Y_train)\n",
    "    train_res += [train_acc]\n",
    "\n",
    "    y_pred = rf.predict(X_test)\n",
    "    pred_acc = accuracy_score(y_pred, Y_test)\n",
    "    test_res += [pred_acc]\n",
    "    \n"
   ]
  },
  {
   "cell_type": "markdown",
   "metadata": {},
   "source": [
    "Having a look at all the relationship between the Accracy score and the various parameters"
   ]
  },
  {
   "cell_type": "code",
   "execution_count": 30,
   "metadata": {
    "collapsed": false
   },
   "outputs": [
    {
     "data": {
      "image/png": "[encoded data removed]",
      "text/plain": [
       "<Figure size 1080x1080 with 7 Axes>"
      ]
     },
     "metadata": {},
     "output_type": "display_data"
    }
   ],
   "source": [
    "fig = plt.figure(figsize=(15, 15))\n",
    "\n",
    "# Ploting the Accuracy against the n_estimators \n",
    "sub1 = fig.add_subplot(421)\n",
    "sub1.plot(n_estimators, train_results, 'b', label= 'Train Accuracy' )\n",
    "sub1.plot(n_estimators, test_results, 'r',  label = 'Test Accuracy')\n",
    "sub1.set_xlabel('n_estimators')\n",
    "sub1.set_ylabel('Accuracy score')\n",
    "plt.legend()\n",
    "\n",
    "\n",
    "# Ploting Accuracy against max_depth \n",
    "sub2 = fig.add_subplot(422)\n",
    "sub2.plot(max_depths, trainresult, 'b', label= 'Train Accuracy')\n",
    "sub2.plot(max_depths, testresult, 'r',  label = 'Test Accuracy')\n",
    "sub2.set_xlabel('max_depth')\n",
    "sub2.set_ylabel('Accuracy score')\n",
    "plt.legend()\n",
    "\n",
    "#  Ploting Accuracy against min_samples_split with interval greater equal to 2\n",
    "sub3 = fig.add_subplot(423)\n",
    "sub3.plot(min_samples_splits, train_result, 'b', label= 'Train Accuracy')\n",
    "sub3.plot(min_samples_splits, test_result, 'r', label= 'Test Accuracy')\n",
    "sub3.set_xlabel('min samples split')\n",
    "sub3.set_ylabel('Accuracy score')\n",
    "plt.legend()\n",
    "\n",
    "# Ploting Accuracy against min_samples_split interval lies between (0,0.5]\n",
    "sub4 = fig.add_subplot(424)\n",
    "sub4.plot(min_samples_splits1, train_result1, 'b', label= 'Train Accuracy')\n",
    "sub4.plot(min_samples_splits1, test_result1, 'r', label= 'Test Accuracy')\n",
    "sub4.set_xlabel('min samples split')\n",
    "sub4.set_ylabel('Accuracy score')\n",
    "plt.legend()\n",
    "\n",
    "# Ploting Accuracy against min_samples_leaf with interval greater equal to 2\n",
    "sub5 = fig.add_subplot(425)\n",
    "sub5.plot(min_samples_leafs, trainresults, 'b', label='Train Accuracy')\n",
    "sub5.plot(min_samples_leafs, testresults, 'r', label='Test Accuracy')\n",
    "sub5.set_xlabel('min_samples_leafs')\n",
    "sub5.set_ylabel('Accuracy score')\n",
    "plt.legend()\n",
    "\n",
    "# Ploting Accuracy against min_samples_leaf interval lies between (0,0.5]\n",
    "sub6 = fig.add_subplot(426)\n",
    "sub6.plot(min_samples_leafs1, trainresults1, 'b', label='Train Accuracy')\n",
    "sub6.plot(min_samples_leafs1, testresults1, 'r', label='Test Accuracy')\n",
    "sub6.set_xlabel('min_samples_leafs')\n",
    "sub6.set_ylabel('Accuracy score')\n",
    "plt.legend()\n",
    "# Ploting Accuracy against max_feature\n",
    "sub7 = fig.add_subplot(427)\n",
    "sub7.plot(max_features, train_res, 'b', label='Train Accuracy')\n",
    "sub7.plot(max_features, test_res, 'r', label='Test Accuracy')\n",
    "sub7.set_xlabel('max features')\n",
    "sub7.set_ylabel('Accuracy score')\n",
    "plt.legend()\n",
    "\n",
    "\n",
    "plt.tight_layout()\n",
    "plt.show()\n",
    "\n"
   ]
  },
  {
   "cell_type": "markdown",
   "metadata": {},
   "source": [
    "I can narrow search of parameters using the plots above. For example, the tree depth has steadily constant from 15 and thus I will be considering an interval from that points. Also, the number of trees can take a a  range from 65 upwards. Similarly, min_samples_leaf decreases so I will stick with value 2 since its give a better accuracy.In the case of max_feature,I observed that at value the 8 there was a better model accuracy. Therefore I will restrict my search to default value that is 'auto' which the sqaure roots of the number of features. In our situation that will be 8."
   ]
  },
  {
   "cell_type": "markdown",
   "metadata": {},
   "source": [
    "\n",
    "\n",
    "### Searching multiple parameters simultaneously\n",
    "We will be looking at two method of parameter tuning:\n",
    "-  $\\textbf{Using GridSearchCV} $ :\n",
    "\n",
    "\n",
    "- $ \\textbf{Using RandomSearchCV} $:\n",
    "\n"
   ]
  },
  {
   "cell_type": "markdown",
   "metadata": {},
   "source": [
    "## Hyperparameter Tuning Using RandomSearch \n",
    "Random search helps optimize our parameter tuning by selecting random points in the hyperparameter space and the choose the model with the best performance. We will study the results to be able to create a hyperarameter space for a Grid search method which uses all the different combination of parameter in order to select the model with the highest accuracy score."
   ]
  },
  {
   "cell_type": "code",
   "execution_count": 31,
   "metadata": {
    "collapsed": true
   },
   "outputs": [],
   "source": [
    "# Number of trees in random forest\n",
    "n_estimators = [int(x) for x in np.linspace(start = 30, stop = 200, num = 10)]\n",
    "\n",
    "# Maximum number of levels in tree\n",
    "max_depth = [int(x) for x in np.linspace(20, 30, num = 10)]\n",
    "max_depth.append(None)\n",
    "\n",
    "# evaulation criterion \n",
    "criterion =['gini', 'entropy']\n",
    "\n",
    "#evaluation of oob_score\n",
    "oob_score = [False, True]\n",
    "\n",
    "# Create the random grid\n",
    "random_grid = {'n_estimators': n_estimators,\n",
    "               'max_depth': max_depth,\n",
    "              'criterion': criterion,\n",
    "             'oob_score': oob_score}"
   ]
  },
  {
   "cell_type": "markdown",
   "metadata": {},
   "source": [
    "Using Scikit-Learn’s RandomizedSearchCV method, we can define a grid of hyperparameter ranges, and randomly sample from the grid, performing K-Fold CV with each combination of values.\n",
    "Cross validation is a method used to improve the mdoel on unseen data. This procedure separates the X_train data set in K-folds of approximately equal size. A single subsample is used as the validaton data for testing and the model is fit on the remaining k-1 folds. For our case study we use a range from 2 to 10 for k values.\n",
    "Also we willing be looking at varying the parameter n_iter after this analysis. This parameter controls number of random combinations the algorithm will try. Lastly, vary both of them simultaneously."
   ]
  },
  {
   "cell_type": "code",
   "execution_count": 33,
   "metadata": {
    "collapsed": false
   },
   "outputs": [
    {
     "name": "stdout",
     "output_type": "stream",
     "text": [
      "CV 2 , mean_test_score 0.9649960222752586 , best_params {'oob_score': False, 'max_depth': None, 'criterion': 'entropy', 'n_estimators': 200} , Acc_train 1.0 , Acc_test 0.9740740740740741\n",
      "CV 3 , mean_test_score 0.9657915672235481 , best_params {'oob_score': True, 'max_depth': 21, 'criterion': 'entropy', 'n_estimators': 162} , Acc_train 1.0 , Acc_test 0.9722222222222222\n",
      "CV 4 , mean_test_score 0.9729514717581543 , best_params {'oob_score': True, 'max_depth': 21, 'criterion': 'entropy', 'n_estimators': 162} , Acc_train 1.0 , Acc_test 0.9722222222222222\n",
      "CV 5 , mean_test_score 0.9713603818615751 , best_params {'oob_score': False, 'max_depth': None, 'criterion': 'entropy', 'n_estimators': 200} , Acc_train 1.0 , Acc_test 0.9740740740740741\n",
      "CV 6 , mean_test_score 0.9729514717581543 , best_params {'oob_score': True, 'max_depth': 23, 'criterion': 'entropy', 'n_estimators': 124} , Acc_train 1.0 , Acc_test 0.9722222222222222\n"
     ]
    },
    {
     "name": "stderr",
     "output_type": "stream",
     "text": [
      "/usr/local/lib/python3.5/dist-packages/sklearn/model_selection/_search.py:841: DeprecationWarning: The default of the `iid` parameter will change from True to False in version 0.22 and will be removed in 0.24. This will change numeric results when test-set sizes are unequal.\n",
      "  DeprecationWarning)\n"
     ]
    },
    {
     "name": "stdout",
     "output_type": "stream",
     "text": [
      "CV 7 , mean_test_score 0.9753381066030231 , best_params {'oob_score': False, 'max_depth': None, 'criterion': 'entropy', 'n_estimators': 200} , Acc_train 1.0 , Acc_test 0.9740740740740741\n",
      "CV 8 , mean_test_score 0.9761336515513126 , best_params {'oob_score': True, 'max_depth': 21, 'criterion': 'entropy', 'n_estimators': 162} , Acc_train 1.0 , Acc_test 0.9722222222222222\n"
     ]
    },
    {
     "name": "stderr",
     "output_type": "stream",
     "text": [
      "/usr/local/lib/python3.5/dist-packages/sklearn/model_selection/_search.py:841: DeprecationWarning: The default of the `iid` parameter will change from True to False in version 0.22 and will be removed in 0.24. This will change numeric results when test-set sizes are unequal.\n",
      "  DeprecationWarning)\n"
     ]
    },
    {
     "name": "stdout",
     "output_type": "stream",
     "text": [
      "CV 9 , mean_test_score 0.9761336515513126 , best_params {'oob_score': True, 'max_depth': 23, 'criterion': 'gini', 'n_estimators': 162} , Acc_train 1.0 , Acc_test 0.9722222222222222\n",
      "CV 10 , mean_test_score 0.9769291964996022 , best_params {'oob_score': True, 'max_depth': 30, 'criterion': 'gini', 'n_estimators': 143} , Acc_train 1.0 , Acc_test 0.9703703703703703\n"
     ]
    }
   ],
   "source": [
    "'''\n",
    "Random search of parameters\n",
    "using  i- fold cross validation\n",
    "search accross n range of different possiblities\n",
    "'''\n",
    "\n",
    "\n",
    "\n",
    "# list integers 2 to 10 we want to try\n",
    "# for the number of folds\n",
    "k_range = range(2,11)\n",
    "\n",
    "\n",
    "# list of scores from niter_range\n",
    "mean_val_error = []\n",
    "train_error=[]\n",
    "test_error= []\n",
    "\n",
    "\n",
    "#for j in niter_range:\n",
    "for i in k_range:\n",
    "        rf_random = RandomizedSearchCV(estimator = base_model, param_distributions = random_grid, n_iter = 100, cv = i, \n",
    "                               verbose=0, random_state=42, n_jobs = -1)\n",
    "    \n",
    "        # Fit the random search model\n",
    "        rf_random.fit(X_train, Y_train)\n",
    "    \n",
    "        # Using the best parameter found to instantiate a model\n",
    "        cfl = RandomForestClassifier(bootstrap=True, class_weight=None, criterion=rf_random.best_params_['criterion'],\n",
    "            max_depth=rf_random.best_params_['max_depth'], max_features='auto', max_leaf_nodes=None,\n",
    "            min_impurity_decrease=0.0, min_impurity_split=None,\n",
    "            min_samples_leaf=1, min_samples_split=2,\n",
    "            min_weight_fraction_leaf=0.0, n_estimators=rf_random.best_params_['n_estimators'], n_jobs=-1,\n",
    "            oob_score=False, random_state=11, verbose=0, warm_start=False)\n",
    "        \n",
    "        cfl.fit(X_train, Y_train)\n",
    "    \n",
    "        # Accuracy on train and test data\n",
    "        Y_predtrain =cfl.predict(X_train)\n",
    "        Y_predtest = cfl.predict(X_test)\n",
    "    \n",
    "        print('CV',i, \", mean_test_score\", rf_random.best_score_,', best_params', rf_random.best_params_,\n",
    "          ', Acc_train', accuracy_score(Y_predtrain, Y_train), ', Acc_test',accuracy_score(Y_predtest, Y_test))\n",
    "    \n"
   ]
  },
  {
   "cell_type": "markdown",
   "metadata": {},
   "source": [
    "Fixing the number of iteration to 100 and k ranging from 2 to 10 we obtain the following results\n",
    " - CV stands for cross validation\n",
    " - best_params indicates the best parameter score\n",
    " - mean_test_score is the score on the validation set\n",
    " - Acc_test is the score on the test set\n",
    " \n",
    "We observe that the mean_score values are increasing and when k = 2,5 the model performs better on the test data as compared to our basemodel \n",
    " "
   ]
  },
  {
   "cell_type": "markdown",
   "metadata": {},
   "source": [
    "## Varying the k and n_iter simultaneously"
   ]
  },
  {
   "cell_type": "code",
   "execution_count": null,
   "metadata": {
    "collapsed": true
   },
   "outputs": [],
   "source": [
    "# list integers 2 to 10 we want to try\n",
    "# for the number of folds\n",
    "k_range = range(2,11)\n",
    "\n",
    "\n",
    "# list integers 2 to 10 we want to try\n",
    "# for the number of iterations\n",
    "\n",
    " niter_range = range(20,110,10)\n",
    "\n",
    "# list of scores from niter_range\n",
    "mean_val_error = []\n",
    "train_error=[]\n",
    "test_error= []\n",
    "\n",
    "\n",
    "for j in niter_range:\n",
    "    for i in k_range:\n",
    "        rf_random = RandomizedSearchCV(estimator = base_model, param_distributions = random_grid, n_iter = 100, cv = i, \n",
    "                               verbose=0, random_state=42, n_jobs = -1)\n",
    "    \n",
    "        # Fit the random search model\n",
    "        rf_random.fit(X_train, Y_train)\n",
    "    \n",
    "        # Using the best parameter found to instantiate a model\n",
    "        cfl = RandomForestClassifier(bootstrap=True, class_weight=None, criterion=rf_random.best_params_['criterion'],\n",
    "            max_depth=rf_random.best_params_['max_depth'], max_features='auto', max_leaf_nodes=None,\n",
    "            min_impurity_decrease=0.0, min_impurity_split=None,\n",
    "            min_samples_leaf=1, min_samples_split=2,\n",
    "            min_weight_fraction_leaf=0.0, n_estimators=rf_random.best_params_['n_estimators'], n_jobs=-1,\n",
    "            oob_score=False, random_state=11, verbose=0, warm_start=False)\n",
    "        \n",
    "        cfl.fit(X_train, Y_train)\n",
    "    \n",
    "        # Accuracy on train and test data\n",
    "        Y_predtrain =cfl.predict(X_train)\n",
    "        Y_predtest = cfl.predict(X_test)\n",
    "    \n",
    "        print('CV',i, \", mean_test_score\", rf_random.best_score_,', best_params', rf_random.best_params_,\n",
    "          ', Acc_train', accuracy_score(Y_predtrain, Y_train), ', Acc_test',accuracy_score(Y_predtest, Y_test))\n",
    "    \n"
   ]
  },
  {
   "cell_type": "markdown",
   "metadata": {},
   "source": [
    "### GridSearch Training"
   ]
  },
  {
   "cell_type": "code",
   "execution_count": null,
   "metadata": {
    "collapsed": true
   },
   "outputs": [],
   "source": []
  }
 ],
 "metadata": {
  "kernelspec": {
   "display_name": "Python 3",
   "language": "python",
   "name": "python3"
  },
  "language_info": {
   "codemirror_mode": {
    "name": "ipython",
    "version": 3
   },
   "file_extension": ".py",
   "mimetype": "text/x-python",
   "name": "python",
   "nbconvert_exporter": "python",
   "pygments_lexer": "ipython3",
   "version": "3.5.3"
  }
 },
 "nbformat": 4,
 "nbformat_minor": 2
}
