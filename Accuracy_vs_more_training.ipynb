{
 "cells": [
  {
   "cell_type": "markdown",
   "metadata": {},
   "source": [
    "## Experimenting on training set \n",
    "\n",
    "The aim of the experiment is to find out the performance of the model regardless of how small our dataset can be.\n",
    " - `Steps`:\n",
    "  - Firstly, we split our dataset into 594 test set and 1203 training set.\n",
    "  - Then out of our training set we get an initial subsample of size 10. Making sure all our labels are well represented.\n",
    "  - Afterwards we fit a model on the initail dataset and determine its accuracy. \n",
    "  - Later we randomly increase the subsample size to still we exhaust the training set. Each time fititng a model and determine its accuracy"
   ]
  },
  {
   "cell_type": "markdown",
   "metadata": {},
   "source": [
    "### Importimg Libraries"
   ]
  },
  {
   "cell_type": "code",
   "execution_count": 4,
   "metadata": {
    "collapsed": true
   },
   "outputs": [],
   "source": [
    "import numpy as np\n",
    "import pandas as pd\n",
    "import matplotlib.pyplot as plt\n",
    "import pylab as pl\n",
    "\n",
    "\n",
    "from sklearn.ensemble import RandomForestClassifier\n",
    "from sklearn.model_selection import train_test_split\n",
    "from sklearn.ensemble import RandomForestClassifier\n",
    "from sklearn.metrics import accuracy_score\n",
    "from sklearn.datasets import load_digits\n"
   ]
  },
  {
   "cell_type": "code",
   "execution_count": 5,
   "metadata": {
    "collapsed": true
   },
   "outputs": [],
   "source": [
    "# Stop deprecation warnings from being printed\n",
    "\n",
    "import warnings\n",
    "warnings.filterwarnings(\"ignore\", category=FutureWarning)\n",
    "warnings.filterwarnings(\"ignore\", category=DeprecationWarning)"
   ]
  },
  {
   "cell_type": "markdown",
   "metadata": {},
   "source": [
    "`Loading data`"
   ]
  },
  {
   "cell_type": "code",
   "execution_count": 6,
   "metadata": {
    "collapsed": true
   },
   "outputs": [],
   "source": [
    "digits = load_digits()\n"
   ]
  },
  {
   "cell_type": "markdown",
   "metadata": {},
   "source": [
    "`Splitting the dataset into training and testing set.`"
   ]
  },
  {
   "cell_type": "code",
   "execution_count": 7,
   "metadata": {
    "collapsed": true
   },
   "outputs": [],
   "source": [
    "X_train, X_test, Y_train, Y_test = train_test_split(digits.images, digits.target, test_size=0.33, random_state=42)\n"
   ]
  },
  {
   "cell_type": "markdown",
   "metadata": {},
   "source": [
    "`We can see the size of the training data`"
   ]
  },
  {
   "cell_type": "code",
   "execution_count": 8,
   "metadata": {
    "collapsed": false
   },
   "outputs": [
    {
     "data": {
      "text/plain": [
       "(1203, 1203)"
      ]
     },
     "execution_count": 8,
     "metadata": {},
     "output_type": "execute_result"
    }
   ],
   "source": [
    "(len(X_train) ,len(Y_train))"
   ]
  },
  {
   "cell_type": "markdown",
   "metadata": {},
   "source": [
    "`We can see the size of the testing data`"
   ]
  },
  {
   "cell_type": "code",
   "execution_count": 9,
   "metadata": {
    "collapsed": false
   },
   "outputs": [
    {
     "data": {
      "text/plain": [
       "(594, 594)"
      ]
     },
     "execution_count": 9,
     "metadata": {},
     "output_type": "execute_result"
    }
   ],
   "source": [
    "(len(X_test), len(Y_test))"
   ]
  },
  {
   "cell_type": "code",
   "execution_count": 12,
   "metadata": {
    "collapsed": true
   },
   "outputs": [],
   "source": [
    "def selector(y,pos):\n",
    "    '''\n",
    "    This function returns the indices\n",
    "    to of each label\n",
    "    y : is the array of labels\n",
    "    pos : is the indicator of the label in the \n",
    "    ''' \n",
    "\n",
    "    ind = []\n",
    "    for i in range(10):\n",
    "        ind.append(np.argwhere(Y_train==i).reshape(1, -1)[0,pos])\n",
    "    return ind"
   ]
  },
  {
   "cell_type": "code",
   "execution_count": 11,
   "metadata": {
    "collapsed": true
   },
   "outputs": [],
   "source": [
    "def Rand_checker(known_list, sample_size, upper_limit):\n",
    "    '''\n",
    "    This function generates random numbers\n",
    "    to be used as subsequence indices for \n",
    "    the other sample\n",
    "    \n",
    "    know_list : is initial indice list\n",
    "    \n",
    "    sample_size : the size of the subsample to be generated\n",
    "    \n",
    "    upper_limit : is the len of the array of labels\n",
    "    '''\n",
    "    \n",
    "    Rand_set = []\n",
    "    while len(Rand_set) < sample_size:\n",
    "        r = np.random.randint(upper_limit)\n",
    "        if r not in Rand_set and r not in known_list:\n",
    "            Rand_set.append(r)\n",
    "    return Rand_set"
   ]
  },
  {
   "cell_type": "code",
   "execution_count": 13,
   "metadata": {
    "collapsed": true
   },
   "outputs": [],
   "source": [
    "def generate_index(known_list, sample_size, upper_limit):\n",
    "    '''\n",
    "    This function return the indices  for all\n",
    "    for all the subsamples to be consider\n",
    "    \n",
    "    know_list : is initial indice list\n",
    "    \n",
    "    sample_size : the size of the subsample to be generated\n",
    "    \n",
    "    upper_limit : is the len of the array of labels\n",
    "    \n",
    "    '''\n",
    "    index_lst=[]\n",
    "    while len(known_list) < upper_limit:\n",
    "        if sample_size > upper_limit - len(known_list):\n",
    "            sample_size = upper_limit - len(known_list)\n",
    "        index_lst.append(known_list.copy())\n",
    "        L = Rand_checker(known_list, sample_size, upper_limit)\n",
    "        known_list.extend(L)\n",
    "    index_lst.append(known_list.copy())\n",
    "    return index_lst"
   ]
  },
  {
   "cell_type": "markdown",
   "metadata": {},
   "source": [
    " ### Fitting the random forest model.\n",
    " \n",
    " Making model from the first initial subsample till the final one having step size of 10 increment everytime."
   ]
  },
  {
   "cell_type": "code",
   "execution_count": 14,
   "metadata": {
    "collapsed": true
   },
   "outputs": [],
   "source": [
    "k = generate_index(selector(Y_train,0),10,len(X_train))\n",
    "\n",
    "accuracy_results=[]\n",
    "train_interval=[]\n",
    "for i in k:\n",
    "    rf_model = RandomForestClassifier(random_state=11)\n",
    "    x_train = [X_train[j].reshape(64) for j in i]\n",
    "    rf_model.fit(x_train, Y_train[i])\n",
    "    train_interval.append(len(i))\n",
    "    \n",
    "    # predicting the model for X_test sample \n",
    "    \n",
    "    x_test = [ X_test[l].reshape(64) for l in range(len(X_test))]\n",
    "    y_predtest = rf_model.predict(x_test)\n",
    "\n",
    "    # classification accuracy for the test data prediction verses actual\n",
    "\n",
    "    pred_acc = accuracy_score(y_predtest, Y_test)\n",
    "    accuracy_results.append(pred_acc)"
   ]
  },
  {
   "cell_type": "markdown",
   "metadata": {},
   "source": [
    "Visualizing the result."
   ]
  },
  {
   "cell_type": "code",
   "execution_count": 15,
   "metadata": {
    "collapsed": false
   },
   "outputs": [
    {
     "data": {
      "image/png": "[encoded data removed]",
      "text/plain": [
       "<Figure size 432x288 with 1 Axes>"
      ]
     },
     "metadata": {
      "needs_background": "light"
     },
     "output_type": "display_data"
    }
   ],
   "source": [
    "plt.plot(train_interval,accuracy_results)\n",
    "plt.xlabel('Training set')\n",
    "plt.ylabel('Accuracy')\n",
    "plt.show()"
   ]
  },
  {
   "cell_type": "markdown",
   "metadata": {},
   "source": [
    "From the above diagram with the accuracy level shows a progressing increasing level when we increase the sample size. The initail 10 data points had about 20% accuracy and when all the training was used there was an accuracy of about 90%. A significant improvement. From the diagram, we may conclude that we about 200 training set we can have a good model as the accuracy is about 80% on test data."
   ]
  },
  {
   "cell_type": "code",
   "execution_count": null,
   "metadata": {
    "collapsed": true
   },
   "outputs": [],
   "source": []
  }
 ],
 "metadata": {
  "kernelspec": {
   "display_name": "Python 3",
   "language": "python",
   "name": "python3"
  },
  "language_info": {
   "codemirror_mode": {
    "name": "ipython",
    "version": 3
   },
   "file_extension": ".py",
   "mimetype": "text/x-python",
   "name": "python",
   "nbconvert_exporter": "python",
   "pygments_lexer": "ipython3",
   "version": "3.5.3"
  }
 },
 "nbformat": 4,
 "nbformat_minor": 2
}
