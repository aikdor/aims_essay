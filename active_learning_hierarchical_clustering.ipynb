{
 "cells": [
  {
   "cell_type": "markdown",
   "metadata": {},
   "source": [
    "### `Active learning`"
   ]
  },
  {
   "cell_type": "markdown",
   "metadata": {},
   "source": [
    "### Importing libraries"
   ]
  },
  {
   "cell_type": "code",
   "execution_count": 1,
   "metadata": {
    "collapsed": true
   },
   "outputs": [],
   "source": [
    "import numpy as np\n",
    "import pandas as pd\n",
    "import matplotlib.pyplot as plt\n",
    "import pylab as pl\n",
    "import seaborn as sns\n",
    "import hdbscan\n",
    "\n",
    "\n",
    "\n",
    "from sklearn.manifold import TSNE\n",
    "from sklearn.datasets import load_digits\n",
    "from IPython.display  import display_html\n",
    "from sklearn.metrics import accuracy_score\n",
    "from sklearn.ensemble import RandomForestClassifier\n",
    "from sklearn.model_selection import train_test_split\n",
    "from sklearn.model_selection import train_test_split\n",
    "\n",
    "\n",
    "\n",
    "%matplotlib inline"
   ]
  },
  {
   "cell_type": "code",
   "execution_count": 2,
   "metadata": {
    "collapsed": true
   },
   "outputs": [],
   "source": [
    "import warnings\n",
    "warnings.filterwarnings(\"ignore\", category=FutureWarning)\n",
    "warnings.filterwarnings(\"ignore\", category=DeprecationWarning)"
   ]
  },
  {
   "cell_type": "markdown",
   "metadata": {},
   "source": [
    "`Loading data`"
   ]
  },
  {
   "cell_type": "code",
   "execution_count": 3,
   "metadata": {
    "collapsed": true
   },
   "outputs": [],
   "source": [
    "digits = load_digits()\n",
    "data = digits.data\n"
   ]
  },
  {
   "cell_type": "code",
   "execution_count": 4,
   "metadata": {
    "collapsed": true
   },
   "outputs": [],
   "source": [
    "X_train, X_test, Y_train, Y_test = train_test_split(digits.data, digits.target, test_size=0.33, random_state=42)\n"
   ]
  },
  {
   "cell_type": "code",
   "execution_count": 5,
   "metadata": {
    "collapsed": false
   },
   "outputs": [
    {
     "data": {
      "text/plain": [
       "HDBSCAN(algorithm='best', allow_single_cluster=False, alpha=1.0,\n",
       "    approx_min_span_tree=True, cluster_selection_method='eom',\n",
       "    core_dist_n_jobs=4, gen_min_span_tree=False, leaf_size=40,\n",
       "    match_reference_implementation=False, memory=Memory(location=None),\n",
       "    metric='euclidean', min_cluster_size=12, min_samples=1, p=None,\n",
       "    prediction_data=True)"
      ]
     },
     "execution_count": 5,
     "metadata": {},
     "output_type": "execute_result"
    }
   ],
   "source": [
    "clusterer= hdbscan.HDBSCAN(min_cluster_size=12, min_samples=1,prediction_data=True)\n",
    "clusterer.fit(digits.data)"
   ]
  },
  {
   "cell_type": "code",
   "execution_count": 6,
   "metadata": {
    "collapsed": true
   },
   "outputs": [],
   "source": [
    "tree = clusterer.condensed_tree_.to_pandas()\n",
    "cluster_tree = tree[tree.child_size > 1]\n",
    "lambda_value = list(set(cluster_tree['lambda_val'].values))\n",
    "lambda_value.append(0.03)\n",
    "sorted_list = sorted(lambda_value)\n"
   ]
  },
  {
   "cell_type": "code",
   "execution_count": 8,
   "metadata": {
    "collapsed": true
   },
   "outputs": [],
   "source": [
    "def average_point(n,cluster_label):\n",
    "    '''\n",
    "    \n",
    "    This function is to help find the centriod of a \n",
    "    cluster.\n",
    "    \n",
    "    Cluster_label is the number assignedf to the cluster\n",
    "    not the target label.\n",
    "    \n",
    "    '''\n",
    "    #mem_cluster= digits.data[np.argwhere(fin_clusterer.labels_==0).reshape(1, -1)[0]]\n",
    "    #when using digits,data\n",
    "    clusterpt_cut= clusterer.single_linkage_tree_.get_clusters(1/sorted_list[n], min_cluster_size=12)\n",
    "    mem_cluster = digits.images[np.argwhere(clusterpt_cut== cluster_label).reshape(1, -1)[0]]\n",
    "    #mem_cluster = digits.images[np.argwhere(clusterer.labels_== cluster_label).reshape(1, -1)[0]]\n",
    "\n",
    "    #centriod= np.zeros(64)\n",
    "    avg = np.zeros(shape=(8,8))\n",
    "    for i in range(0,len(mem_cluster)):\n",
    "        avg += mem_cluster[i]\n",
    "    return(avg/len(mem_cluster))\n",
    "\n",
    "    "
   ]
  },
  {
   "cell_type": "code",
   "execution_count": 10,
   "metadata": {
    "collapsed": false
   },
   "outputs": [],
   "source": [
    "def cen_det(n):\n",
    "    emp= np.array([[]])\n",
    "    clusterpt_cut= clusterer.single_linkage_tree_.get_clusters(1/sorted_list[n], min_cluster_size=12)\n",
    "    for j in range(0,clusterpt_cut.max()+1):\n",
    "        emp = np.append(emp,average_point(n,j))\n",
    "    \n",
    "    return np.reshape(emp, (clusterpt_cut.max()+1,8,8)) \n",
    "#t(1)"
   ]
  },
  {
   "cell_type": "code",
   "execution_count": 11,
   "metadata": {
    "collapsed": true
   },
   "outputs": [],
   "source": [
    "dict_label ={'0': np.array([5]),'1': np.array([7,5]), '2':np.array([7,5,7]),\n",
    "             '3':np.array([0,7,5,7]), '4': np.array([0,7,1,5,7]),'5': np.array([0,7,1,2,5,7]),\n",
    "             '6': np.array([4,0,7,1,2,5,7]), '7':np.array([4,0,9,1,2,5,7]),'8':np.array([4,0,9,1,2,5,6,7]),\n",
    "            '9': np.array([4,0,3,9,1,2,5,6,7]), '10':np.array([4,0,9,1,2,5,6,3,7]), \n",
    "            '11':np.array([4,0,9,9,1,2,5,6,3,7]), '12': np.array([5,4,0,9,9,1,2,5,6,3,7]),\n",
    "             '13':np.array([5,4,0,9,9,1,2,5,5,6,3,7]), '14':np.array([5,4,0,9,9,1,2,5,6,5,1,3,7]),\n",
    "            '15':np.array([5,8,4,0,9,9,1,2,5,6,1,3,7]),'16':np.array([1,5,8,4,0,9,9,1,2,5,6,1,3,7]),\n",
    "            '17':np.array([1,5,8,4,0,9,1,2,5,6,1,3,7]),'18':np.array([1,5,8,4,0,9,1,2,5,4,6,1,3,7]),\n",
    "            '19':np.array([1,5,5,8,4,0,9,1,2,5,4,6,1,3,7]),'20':np.array([1,5,5,4,0,4,9,1,2,5,4,6,1,3,7]),\n",
    "            '21': np.array([1,5,5,4,0,4,9,1,2,5,4,6,1,1,3,7]),'22':np.array([1,5,5,4,0,4,2,9,1,2,5,4,6,1,1,3,7]),\n",
    "            '23':np.array([1,5,4,0,4,9,9,1,2,5,6,1,3,7]), '24':np.array([9,1,5,4,0,4,9,9,1,2,6,1,3,7]),\n",
    "             '25':np.array([1,5,4,0,4,2,9,1,2,6,1,9,3,7]),'26':np.array([1,5,4,0,4,2,2,9,1,2,6,1,9,3,7]),\n",
    "            '27': np.array([1,5,4,0,4,7,2,2,9,1,2,6,1,3,7]), '28':np.array([1,5,4,0,4,7,2,9,1,2,6,7,1,3,7]), \n",
    "             '29':np.array([4,0,4,9,1,6,7,1,2,3,7]), '30':np.array([0,4,6,7,1,2,3]),\n",
    "             '31':np.array([0,6,4,6,7,1,6,2,3]),'32': np.array([6,0,1,0])}\n",
    "\n"
   ]
  },
  {
   "cell_type": "markdown",
   "metadata": {},
   "source": [
    "### Fitting a classifier for the centriods at each level of hierarchy"
   ]
  },
  {
   "cell_type": "code",
   "execution_count": 113,
   "metadata": {
    "collapsed": true
   },
   "outputs": [],
   "source": [
    "accuracy_results=[]\n",
    "train_interval1=[]\n",
    "for i in range(0,23):\n",
    "    rf_model = RandomForestClassifier(random_state=11)\n",
    "    x_train = [j.reshape(64) for j in cen_det(i)]\n",
    "    y_train = dict_label.get(str(i))\n",
    "    rf_model.fit(x_train, y_train)\n",
    "    train_interval1.append(len(dict_label.get(str(i))))\n",
    "    \n",
    "    # predicting the model for X_test sample \n",
    "    \n",
    "    x_test = [ X_test[l].reshape(64) for l in range(len(X_test))]\n",
    "    #y_test = digits.target\n",
    "    y_predtest = rf_model.predict(x_test)\n",
    "    # classification accuracy for the test data prediction verses actual\n",
    "\n",
    "    pred_acc = accuracy_score(y_predtest, Y_test)\n",
    "    accuracy_results.append(pred_acc)"
   ]
  },
  {
   "cell_type": "code",
   "execution_count": 114,
   "metadata": {
    "collapsed": false
   },
   "outputs": [
    {
     "data": {
      "image/png": "[encoded data removed]",
      "text/plain": [
       "<Figure size 432x288 with 1 Axes>"
      ]
     },
     "metadata": {
      "needs_background": "light"
     },
     "output_type": "display_data"
    }
   ],
   "source": [
    "plt.plot(train_interval1,accuracy_results)\n",
    "plt.xlabel('Training set')\n",
    "plt.ylabel('Accuracy')\n",
    "#plt.legend()\n",
    "plt.show()"
   ]
  },
  {
   "cell_type": "code",
   "execution_count": 97,
   "metadata": {
    "collapsed": true
   },
   "outputs": [],
   "source": [
    "def selector(y,pos):\n",
    "    '''\n",
    "    This function returns the indices\n",
    "    to  each label\n",
    "    y : is the array of labels\n",
    "    pos : is the indicator of the label in the \n",
    "    ''' \n",
    "\n",
    "    ind = []\n",
    "    for i in range(10):\n",
    "        ind.append(np.argwhere(y==i).reshape(1, -1)[0,pos])\n",
    "    return ind"
   ]
  },
  {
   "cell_type": "code",
   "execution_count": 16,
   "metadata": {
    "collapsed": true
   },
   "outputs": [],
   "source": [
    "def Rand_checker(known_list, sample_size, upper_limit):\n",
    "    '''\n",
    "    This function generates random numbers\n",
    "    to be used as subsequence indices for \n",
    "    the other sample\n",
    "    \n",
    "    know_list : is initial indice list\n",
    "    \n",
    "    sample_size : the size of the subsample to be generated\n",
    "    \n",
    "    upper_limit : is the len of the array of labels\n",
    "    '''\n",
    "    \n",
    "    Rand_set = []\n",
    "    while len(Rand_set) < sample_size:\n",
    "        r = np.random.randint(upper_limit)\n",
    "        if r not in Rand_set and r not in known_list:\n",
    "            Rand_set.append(r)\n",
    "    return Rand_set"
   ]
  },
  {
   "cell_type": "code",
   "execution_count": 17,
   "metadata": {
    "collapsed": true
   },
   "outputs": [],
   "source": [
    "def generate_index(known_list, sample_size, upper_limit):\n",
    "    '''\n",
    "    This function return the indices  for all\n",
    "    for all the subsamples to be consider\n",
    "    \n",
    "    know_list : is initial indice list\n",
    "    \n",
    "    sample_size : the size of the subsample to be generated\n",
    "    \n",
    "    upper_limit : is the len of the array of labels\n",
    "    \n",
    "    '''\n",
    "    index_lst=[]\n",
    "    while len(known_list) < upper_limit:\n",
    "        if sample_size > upper_limit - len(known_list):\n",
    "            sample_size = upper_limit - len(known_list)\n",
    "        index_lst.append(known_list.copy())\n",
    "        L = Rand_checker(known_list, sample_size, upper_limit)\n",
    "        known_list.extend(L)\n",
    "    index_lst.append(known_list.copy())\n",
    "    return index_lst"
   ]
  },
  {
   "cell_type": "code",
   "execution_count": 100,
   "metadata": {
    "collapsed": true
   },
   "outputs": [],
   "source": [
    "labelpt= []\n",
    "for i in range(0,33):\n",
    "    labelpt+=list(dict_label.get(str(i)))\n",
    "y1 = np.array(labelpt)"
   ]
  },
  {
   "cell_type": "code",
   "execution_count": 101,
   "metadata": {
    "collapsed": false
   },
   "outputs": [],
   "source": [
    "creat_all = np.array([])\n",
    "for i in range(0,len(sorted_list)):\n",
    "    creat_all = np.append(creat_all,cen_det(i))\n",
    "df = creat_all.reshape(len(y1),8,8)\n"
   ]
  },
  {
   "cell_type": "markdown",
   "metadata": {},
   "source": [
    "### `I decided to gather all the centriod at each level and now build a classifer by first choosing a sample of ten that representative of our labels and subsequently increasing the size of the training set`"
   ]
  },
  {
   "cell_type": "code",
   "execution_count": 102,
   "metadata": {
    "collapsed": true
   },
   "outputs": [],
   "source": [
    "k = generate_index(selector(y1,0),10,len(df))\n",
    "\n",
    "#train_results = []\n",
    "accuracy_results1=[]\n",
    "train_interval=[]\n",
    "for i in k:\n",
    "    rf_model = RandomForestClassifier(random_state=11)\n",
    "    x_train = [df[j].reshape(64) for j in i]\n",
    "    rf_model.fit(x_train, y1[i])\n",
    "    train_interval.append(len(i))\n",
    "    #x_train = [X_train[j].reshape(64) for j in i]\n",
    "    # predicting the model for X_test sample \n",
    "    \n",
    "    #x_test = [ l.reshape(64) for l in digits.images]\n",
    "    x_test = [ X_test[l].reshape(64) for l in range(len(X_test))]\n",
    "    #y_test = digits.target\n",
    "    #x_train = [X_train[r].reshape(64) for r in range(len(X_train))]\n",
    "    y_predtest = rf_model.predict(x_test)\n",
    "    #y_predtrain = rf_model.predict(x_train)\n",
    "\n",
    "    # classification accuracy for the test data prediction verses actual\n",
    "    #pred_trac = accuracy_score(y_predtrain, Y_train[i])\n",
    "    pred_acc1 = accuracy_score(y_predtest, Y_test)\n",
    "#train_results.append(pred_trac)\n",
    "    accuracy_results1.append(pred_acc1)\n",
    "    "
   ]
  },
  {
   "cell_type": "code",
   "execution_count": 103,
   "metadata": {
    "collapsed": false
   },
   "outputs": [
    {
     "data": {
      "image/png": "[encoded data removed]",
      "text/plain": [
       "<Figure size 432x288 with 1 Axes>"
      ]
     },
     "metadata": {
      "needs_background": "light"
     },
     "output_type": "display_data"
    }
   ],
   "source": [
    "plt.plot(train_interval,accuracy_results1)\n",
    "plt.xlabel('Training set')\n",
    "plt.ylabel('Accuracy')\n",
    "#plt.legend()\n",
    "plt.show()"
   ]
  },
  {
   "cell_type": "markdown",
   "metadata": {},
   "source": [
    "### `Following this, I decision to not only collect the centriod but randomly take two more extra members of the cluster at each level and repeat the procedure`."
   ]
  },
  {
   "cell_type": "code",
   "execution_count": 49,
   "metadata": {
    "collapsed": true
   },
   "outputs": [],
   "source": [
    "def selecting_other(n,cluster_label,num):\n",
    "    clusterpt_cut= clusterer.single_linkage_tree_.get_clusters(1/sorted_list[n], min_cluster_size=12)\n",
    "    mem_cluster = digits.images[np.argwhere(clusterpt_cut== cluster_label).reshape(1, -1)[0]]\n",
    "    return mem_cluster[0:num]\n",
    "    \n",
    "    \n",
    "#len(selecting_other(1,1))"
   ]
  },
  {
   "cell_type": "code",
   "execution_count": 66,
   "metadata": {
    "collapsed": false
   },
   "outputs": [],
   "source": [
    "def t(n,num):\n",
    "    emp= np.array([[]])\n",
    "    clusterpt_cut= clusterer.single_linkage_tree_.get_clusters(1/sorted_list[n], min_cluster_size=12)\n",
    "    for j in range(0,clusterpt_cut.max()+1):\n",
    "        emp = np.append(emp,average_point(n,j))\n",
    "        emp = np.append(emp,selecting_other(n,j,num))\n",
    "    b= (clusterpt_cut.max()+1)*num\n",
    "    return np.reshape(emp, (clusterpt_cut.max()+1+b,8,8)) \n",
    "#t(0,1).shape"
   ]
  },
  {
   "cell_type": "code",
   "execution_count": 51,
   "metadata": {
    "collapsed": true
   },
   "outputs": [],
   "source": [
    "def assign_label(cluster_label):\n",
    "    dict_label ={'0': np.array([5]),'1': np.array([7,5]), '2':np.array([7,5,7]),\n",
    "             '3':np.array([0,7,5,7]), '4': np.array([0,7,1,5,7]),'5': np.array([0,7,1,2,5,7]),\n",
    "             '6': np.array([4,0,7,1,2,5,7]), '7':np.array([4,0,9,1,2,5,7]),'8':np.array([4,0,9,1,2,5,6,7]),\n",
    "            '9': np.array([4,0,3,9,1,2,5,6,7]), '10':np.array([4,0,9,1,2,5,6,3,7]), \n",
    "            '11':np.array([4,0,9,9,1,2,5,6,3,7]), '12': np.array([5,4,0,9,9,1,2,5,6,3,7]),\n",
    "             '13':np.array([5,4,0,9,9,1,2,5,5,6,3,7]), '14':np.array([5,4,0,9,9,1,2,5,6,5,1,3,7]),\n",
    "            '15':np.array([5,8,4,0,9,9,1,2,5,6,1,3,7]),'16':np.array([1,5,8,4,0,9,9,1,2,5,6,1,3,7]),\n",
    "            '17':np.array([1,5,8,4,0,9,1,2,5,6,1,3,7]),'18':np.array([1,5,8,4,0,9,1,2,5,4,6,1,3,7]),\n",
    "            '19':np.array([1,5,5,8,4,0,9,1,2,5,4,6,1,3,7]),'20':np.array([1,5,5,4,0,4,9,1,2,5,4,6,1,3,7]),\n",
    "            '21': np.array([1,5,5,4,0,4,9,1,2,5,4,6,1,1,3,7]),'22':np.array([1,5,5,4,0,4,2,9,1,2,5,4,6,1,1,3,7]),\n",
    "            '23':np.array([1,5,4,0,4,9,9,1,2,5,6,1,3,7]), '24':np.array([9,1,5,4,0,4,9,9,1,2,6,1,3,7]),\n",
    "             '25':np.array([1,5,4,0,4,2,9,1,2,6,1,9,3,7]),'26':np.array([1,5,4,0,4,2,2,9,1,2,6,1,9,3,7]),\n",
    "            '27': np.array([1,5,4,0,4,7,2,2,9,1,2,6,1,3,7]), '28':np.array([1,5,4,0,4,7,2,9,1,2,6,7,1,3,7]), \n",
    "             '29':np.array([4,0,4,9,1,6,7,1,2,3,7]), '30':np.array([0,4,6,7,1,2,3]),\n",
    "             '31':np.array([0,6,4,6,7,1,6,2,3]),'32': np.array([6,0,1,0])}\n",
    "\n",
    "\n",
    "    return dict_label.get(str(cluster_label))\n",
    "#[assign_label(1)[0]]*12"
   ]
  },
  {
   "cell_type": "code",
   "execution_count": 108,
   "metadata": {
    "collapsed": false
   },
   "outputs": [],
   "source": [
    "def yla(n,num):\n",
    "    o_= []\n",
    "    r= assign_label(n)\n",
    "    clusterpt_cut= clusterer.single_linkage_tree_.get_clusters(1/sorted_list[n], min_cluster_size=12)\n",
    "    for j in range(0,clusterpt_cut.max()+1):\n",
    "            o_ += [r[j]]*(num+1)\n",
    "    return o_\n",
    "#     for i in range(0,4):\n",
    "#         \n",
    "#yla(0,2)"
   ]
  },
  {
   "cell_type": "code",
   "execution_count": 109,
   "metadata": {
    "collapsed": false
   },
   "outputs": [
    {
     "data": {
      "text/plain": [
       "(1026,)"
      ]
     },
     "execution_count": 109,
     "metadata": {},
     "output_type": "execute_result"
    }
   ],
   "source": [
    "# def finlab(num):\n",
    "#     lst = []\n",
    "#     for i in range(0,33):\n",
    "#         lst += yla(i,num)\n",
    "#     y3 = np.array(lst)\n",
    "#     return y3\n",
    "# len(finlab(1))\n",
    "lst = []\n",
    "for i in range(0,33):\n",
    "    lst += yla(i,2)\n",
    "y3 = np.array(lst)\n",
    "y3.shape"
   ]
  },
  {
   "cell_type": "code",
   "execution_count": 110,
   "metadata": {
    "collapsed": false
   },
   "outputs": [
    {
     "data": {
      "text/plain": [
       "(1026, 8, 8)"
      ]
     },
     "execution_count": 110,
     "metadata": {},
     "output_type": "execute_result"
    }
   ],
   "source": [
    "# def findata(num):\n",
    "#     lstda = np.array([])\n",
    "#     for i in range (0,33):\n",
    "#         lstda = np.append(lstda, t(i,num))\n",
    "#     df3 = lstda.reshape(len(finlab(num)),8,8)   \n",
    "#     return df3\n",
    "# findata(1).shape\n",
    "lstda = np.array([])\n",
    "for i in range (0,33):\n",
    "    lstda = np.append(lstda, t(i,2))\n",
    "df3 = lstda.reshape(len(y3),8,8)   \n",
    "df3.shape"
   ]
  },
  {
   "cell_type": "code",
   "execution_count": 111,
   "metadata": {
    "collapsed": false
   },
   "outputs": [],
   "source": [
    "k3 = generate_index(selector(y3,0),10,len(df3))\n",
    "\n",
    "#train_results = []\n",
    "accuracy_results3=[]\n",
    "train_interval3=[]\n",
    "for i in k3:\n",
    "    rf_model = RandomForestClassifier(random_state=11)\n",
    "    x_train = [df3[j].reshape(64) for j in i]\n",
    "    rf_model.fit(x_train, y3[i])\n",
    "    train_interval3.append(len(i))\n",
    "    #x_train = [X_train[j].reshape(64) for j in i]\n",
    "    # predicting the model for X_test sample \n",
    "    \n",
    "    #x_test = [ l.reshape(64) for l in digits.images]\n",
    "    x_test = [ X_test[l].reshape(64) for l in range(len(X_test))]\n",
    "    #y_test = digits.target\n",
    "    #x_train = [X_train[r].reshape(64) for r in range(len(X_train))]\n",
    "    y_predtest = rf_model.predict(x_test)\n",
    "    #y_predtrain = rf_model.predict(x_train)\n",
    "\n",
    "    # classification accuracy for the test data prediction verses actual\n",
    "    pred_acc1 = accuracy_score(y_predtest, Y_test)\n",
    "    accuracy_results3.append(pred_acc1)\n",
    "    "
   ]
  },
  {
   "cell_type": "code",
   "execution_count": 112,
   "metadata": {
    "collapsed": false
   },
   "outputs": [
    {
     "data": {
      "image/png": "[encoded data removed]",
      "text/plain": [
       "<Figure size 432x288 with 1 Axes>"
      ]
     },
     "metadata": {
      "needs_background": "light"
     },
     "output_type": "display_data"
    }
   ],
   "source": [
    "plt.plot(train_interval3,accuracy_results3)\n",
    "plt.xlabel('Training set')\n",
    "plt.ylabel('Accuracy')\n",
    "plt.show()"
   ]
  },
  {
   "cell_type": "code",
   "execution_count": null,
   "metadata": {
    "collapsed": true
   },
   "outputs": [],
   "source": []
  }
 ],
 "metadata": {
  "kernelspec": {
   "display_name": "Python 3",
   "language": "python",
   "name": "python3"
  },
  "language_info": {
   "codemirror_mode": {
    "name": "ipython",
    "version": 3
   },
   "file_extension": ".py",
   "mimetype": "text/x-python",
   "name": "python",
   "nbconvert_exporter": "python",
   "pygments_lexer": "ipython3",
   "version": "3.5.3"
  }
 },
 "nbformat": 4,
 "nbformat_minor": 2
}
