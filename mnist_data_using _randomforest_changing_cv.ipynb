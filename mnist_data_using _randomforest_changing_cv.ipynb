{
 "cells": [
  {
   "cell_type": "code",
   "execution_count": 70,
   "metadata": {
    "collapsed": true
   },
   "outputs": [],
   "source": [
    "import numpy as np\n",
    "import pandas as pd\n",
    "import matplotlib.pyplot as plt\n",
    "import pylab as pl\n",
    "\n",
    "\n",
    "from sklearn.ensemble import RandomForestClassifier\n",
    "from sklearn.model_selection import train_test_split\n",
    "from sklearn.ensemble import RandomForestClassifier\n",
    "from sklearn.metrics import accuracy_score\n",
    "from sklearn.model_selection import GridSearchCV\n",
    "from sklearn.model_selection import cross_val_score\n",
    "from sklearn.model_selection import RandomizedSearchCV\n",
    "from matplotlib.legend_handler import HandlerLine2D\n",
    "\n",
    "\n",
    "\n",
    "\n",
    "%matplotlib inline\n"
   ]
  },
  {
   "cell_type": "code",
   "execution_count": 71,
   "metadata": {
    "collapsed": true
   },
   "outputs": [],
   "source": [
    "# Stop deprecation warnings from being printed\n",
    "\n",
    "import warnings\n",
    "warnings.filterwarnings(\"ignore\", category=FutureWarning)\n"
   ]
  },
  {
   "cell_type": "markdown",
   "metadata": {},
   "source": [
    "### Loading data and checking data"
   ]
  },
  {
   "cell_type": "code",
   "execution_count": 72,
   "metadata": {
    "collapsed": true
   },
   "outputs": [],
   "source": [
    "from sklearn.datasets import load_digits\n",
    "m_data = load_digits()"
   ]
  },
  {
   "cell_type": "code",
   "execution_count": 73,
   "metadata": {
    "collapsed": false
   },
   "outputs": [
    {
     "data": {
      "text/plain": [
       "{'data': array([[ 0.,  0.,  5., ...,  0.,  0.,  0.],\n",
       "        [ 0.,  0.,  0., ..., 10.,  0.,  0.],\n",
       "        [ 0.,  0.,  0., ..., 16.,  9.,  0.],\n",
       "        ...,\n",
       "        [ 0.,  0.,  1., ...,  6.,  0.,  0.],\n",
       "        [ 0.,  0.,  2., ..., 12.,  0.,  0.],\n",
       "        [ 0.,  0., 10., ..., 12.,  1.,  0.]]),\n",
       " 'target': array([0, 1, 2, ..., 8, 9, 8]),\n",
       " 'target_names': array([0, 1, 2, 3, 4, 5, 6, 7, 8, 9]),\n",
       " 'images': array([[[ 0.,  0.,  5., ...,  1.,  0.,  0.],\n",
       "         [ 0.,  0., 13., ..., 15.,  5.,  0.],\n",
       "         [ 0.,  3., 15., ..., 11.,  8.,  0.],\n",
       "         ...,\n",
       "         [ 0.,  4., 11., ..., 12.,  7.,  0.],\n",
       "         [ 0.,  2., 14., ..., 12.,  0.,  0.],\n",
       "         [ 0.,  0.,  6., ...,  0.,  0.,  0.]],\n",
       " \n",
       "        [[ 0.,  0.,  0., ...,  5.,  0.,  0.],\n",
       "         [ 0.,  0.,  0., ...,  9.,  0.,  0.],\n",
       "         [ 0.,  0.,  3., ...,  6.,  0.,  0.],\n",
       "         ...,\n",
       "         [ 0.,  0.,  1., ...,  6.,  0.,  0.],\n",
       "         [ 0.,  0.,  1., ...,  6.,  0.,  0.],\n",
       "         [ 0.,  0.,  0., ..., 10.,  0.,  0.]],\n",
       " \n",
       "        [[ 0.,  0.,  0., ..., 12.,  0.,  0.],\n",
       "         [ 0.,  0.,  3., ..., 14.,  0.,  0.],\n",
       "         [ 0.,  0.,  8., ..., 16.,  0.,  0.],\n",
       "         ...,\n",
       "         [ 0.,  9., 16., ...,  0.,  0.,  0.],\n",
       "         [ 0.,  3., 13., ..., 11.,  5.,  0.],\n",
       "         [ 0.,  0.,  0., ..., 16.,  9.,  0.]],\n",
       " \n",
       "        ...,\n",
       " \n",
       "        [[ 0.,  0.,  1., ...,  1.,  0.,  0.],\n",
       "         [ 0.,  0., 13., ...,  2.,  1.,  0.],\n",
       "         [ 0.,  0., 16., ..., 16.,  5.,  0.],\n",
       "         ...,\n",
       "         [ 0.,  0., 16., ..., 15.,  0.,  0.],\n",
       "         [ 0.,  0., 15., ..., 16.,  0.,  0.],\n",
       "         [ 0.,  0.,  2., ...,  6.,  0.,  0.]],\n",
       " \n",
       "        [[ 0.,  0.,  2., ...,  0.,  0.,  0.],\n",
       "         [ 0.,  0., 14., ..., 15.,  1.,  0.],\n",
       "         [ 0.,  4., 16., ..., 16.,  7.,  0.],\n",
       "         ...,\n",
       "         [ 0.,  0.,  0., ..., 16.,  2.,  0.],\n",
       "         [ 0.,  0.,  4., ..., 16.,  2.,  0.],\n",
       "         [ 0.,  0.,  5., ..., 12.,  0.,  0.]],\n",
       " \n",
       "        [[ 0.,  0., 10., ...,  1.,  0.,  0.],\n",
       "         [ 0.,  2., 16., ...,  1.,  0.,  0.],\n",
       "         [ 0.,  0., 15., ..., 15.,  0.,  0.],\n",
       "         ...,\n",
       "         [ 0.,  4., 16., ..., 16.,  6.,  0.],\n",
       "         [ 0.,  8., 16., ..., 16.,  8.,  0.],\n",
       "         [ 0.,  1.,  8., ..., 12.,  1.,  0.]]]),\n",
       " 'DESCR': \"Optical Recognition of Handwritten Digits Data Set\\n===================================================\\n\\nNotes\\n-----\\nData Set Characteristics:\\n    :Number of Instances: 5620\\n    :Number of Attributes: 64\\n    :Attribute Information: 8x8 image of integer pixels in the range 0..16.\\n    :Missing Attribute Values: None\\n    :Creator: E. Alpaydin (alpaydin '@' boun.edu.tr)\\n    :Date: July; 1998\\n\\nThis is a copy of the test set of the UCI ML hand-written digits datasets\\nhttp://archive.ics.uci.edu/ml/datasets/Optical+Recognition+of+Handwritten+Digits\\n\\nThe data set contains images of hand-written digits: 10 classes where\\neach class refers to a digit.\\n\\nPreprocessing programs made available by NIST were used to extract\\nnormalized bitmaps of handwritten digits from a preprinted form. From a\\ntotal of 43 people, 30 contributed to the training set and different 13\\nto the test set. 32x32 bitmaps are divided into nonoverlapping blocks of\\n4x4 and the number of on pixels are counted in each block. This generates\\nan input matrix of 8x8 where each element is an integer in the range\\n0..16. This reduces dimensionality and gives invariance to small\\ndistortions.\\n\\nFor info on NIST preprocessing routines, see M. D. Garris, J. L. Blue, G.\\nT. Candela, D. L. Dimmick, J. Geist, P. J. Grother, S. A. Janet, and C.\\nL. Wilson, NIST Form-Based Handprint Recognition System, NISTIR 5469,\\n1994.\\n\\nReferences\\n----------\\n  - C. Kaynak (1995) Methods of Combining Multiple Classifiers and Their\\n    Applications to Handwritten Digit Recognition, MSc Thesis, Institute of\\n    Graduate Studies in Science and Engineering, Bogazici University.\\n  - E. Alpaydin, C. Kaynak (1998) Cascading Classifiers, Kybernetika.\\n  - Ken Tang and Ponnuthurai N. Suganthan and Xi Yao and A. Kai Qin.\\n    Linear dimensionalityreduction using relevance weighted LDA. School of\\n    Electrical and Electronic Engineering Nanyang Technological University.\\n    2005.\\n  - Claudio Gentile. A New Approximate Maximal Margin Classification\\n    Algorithm. NIPS. 2000.\\n\"}"
      ]
     },
     "execution_count": 73,
     "metadata": {},
     "output_type": "execute_result"
    }
   ],
   "source": [
    "m_data"
   ]
  },
  {
   "cell_type": "markdown",
   "metadata": {},
   "source": [
    "### Get size of dataframes\n"
   ]
  },
  {
   "cell_type": "code",
   "execution_count": 74,
   "metadata": {
    "collapsed": false
   },
   "outputs": [
    {
     "data": {
      "text/plain": [
       "(1797,)"
      ]
     },
     "execution_count": 74,
     "metadata": {},
     "output_type": "execute_result"
    }
   ],
   "source": [
    "m_data.target.shape"
   ]
  },
  {
   "cell_type": "code",
   "execution_count": 75,
   "metadata": {
    "collapsed": false
   },
   "outputs": [
    {
     "data": {
      "text/plain": [
       "(1797, 64)"
      ]
     },
     "execution_count": 75,
     "metadata": {},
     "output_type": "execute_result"
    }
   ],
   "source": [
    "m_data.data.shape"
   ]
  },
  {
   "cell_type": "markdown",
   "metadata": {},
   "source": [
    "### Loading the data into pandas  dataframe"
   ]
  },
  {
   "cell_type": "code",
   "execution_count": 76,
   "metadata": {
    "collapsed": false
   },
   "outputs": [
    {
     "data": {
      "text/html": [
       "<div>\n",
       "<style scoped>\n",
       "    .dataframe tbody tr th:only-of-type {\n",
       "        vertical-align: middle;\n",
       "    }\n",
       "\n",
       "    .dataframe tbody tr th {\n",
       "        vertical-align: top;\n",
       "    }\n",
       "\n",
       "    .dataframe thead th {\n",
       "        text-align: right;\n",
       "    }\n",
       "</style>\n",
       "<table border=\"1\" class=\"dataframe\">\n",
       "  <thead>\n",
       "    <tr style=\"text-align: right;\">\n",
       "      <th></th>\n",
       "      <th>0</th>\n",
       "      <th>1</th>\n",
       "      <th>2</th>\n",
       "      <th>3</th>\n",
       "      <th>4</th>\n",
       "      <th>5</th>\n",
       "      <th>6</th>\n",
       "      <th>7</th>\n",
       "      <th>8</th>\n",
       "      <th>9</th>\n",
       "      <th>...</th>\n",
       "      <th>54</th>\n",
       "      <th>55</th>\n",
       "      <th>56</th>\n",
       "      <th>57</th>\n",
       "      <th>58</th>\n",
       "      <th>59</th>\n",
       "      <th>60</th>\n",
       "      <th>61</th>\n",
       "      <th>62</th>\n",
       "      <th>63</th>\n",
       "    </tr>\n",
       "  </thead>\n",
       "  <tbody>\n",
       "    <tr>\n",
       "      <th>0</th>\n",
       "      <td>0.0</td>\n",
       "      <td>0.0</td>\n",
       "      <td>5.0</td>\n",
       "      <td>13.0</td>\n",
       "      <td>9.0</td>\n",
       "      <td>1.0</td>\n",
       "      <td>0.0</td>\n",
       "      <td>0.0</td>\n",
       "      <td>0.0</td>\n",
       "      <td>0.0</td>\n",
       "      <td>...</td>\n",
       "      <td>0.0</td>\n",
       "      <td>0.0</td>\n",
       "      <td>0.0</td>\n",
       "      <td>0.0</td>\n",
       "      <td>6.0</td>\n",
       "      <td>13.0</td>\n",
       "      <td>10.0</td>\n",
       "      <td>0.0</td>\n",
       "      <td>0.0</td>\n",
       "      <td>0.0</td>\n",
       "    </tr>\n",
       "    <tr>\n",
       "      <th>1</th>\n",
       "      <td>0.0</td>\n",
       "      <td>0.0</td>\n",
       "      <td>0.0</td>\n",
       "      <td>12.0</td>\n",
       "      <td>13.0</td>\n",
       "      <td>5.0</td>\n",
       "      <td>0.0</td>\n",
       "      <td>0.0</td>\n",
       "      <td>0.0</td>\n",
       "      <td>0.0</td>\n",
       "      <td>...</td>\n",
       "      <td>0.0</td>\n",
       "      <td>0.0</td>\n",
       "      <td>0.0</td>\n",
       "      <td>0.0</td>\n",
       "      <td>0.0</td>\n",
       "      <td>11.0</td>\n",
       "      <td>16.0</td>\n",
       "      <td>10.0</td>\n",
       "      <td>0.0</td>\n",
       "      <td>0.0</td>\n",
       "    </tr>\n",
       "    <tr>\n",
       "      <th>2</th>\n",
       "      <td>0.0</td>\n",
       "      <td>0.0</td>\n",
       "      <td>0.0</td>\n",
       "      <td>4.0</td>\n",
       "      <td>15.0</td>\n",
       "      <td>12.0</td>\n",
       "      <td>0.0</td>\n",
       "      <td>0.0</td>\n",
       "      <td>0.0</td>\n",
       "      <td>0.0</td>\n",
       "      <td>...</td>\n",
       "      <td>5.0</td>\n",
       "      <td>0.0</td>\n",
       "      <td>0.0</td>\n",
       "      <td>0.0</td>\n",
       "      <td>0.0</td>\n",
       "      <td>3.0</td>\n",
       "      <td>11.0</td>\n",
       "      <td>16.0</td>\n",
       "      <td>9.0</td>\n",
       "      <td>0.0</td>\n",
       "    </tr>\n",
       "    <tr>\n",
       "      <th>3</th>\n",
       "      <td>0.0</td>\n",
       "      <td>0.0</td>\n",
       "      <td>7.0</td>\n",
       "      <td>15.0</td>\n",
       "      <td>13.0</td>\n",
       "      <td>1.0</td>\n",
       "      <td>0.0</td>\n",
       "      <td>0.0</td>\n",
       "      <td>0.0</td>\n",
       "      <td>8.0</td>\n",
       "      <td>...</td>\n",
       "      <td>9.0</td>\n",
       "      <td>0.0</td>\n",
       "      <td>0.0</td>\n",
       "      <td>0.0</td>\n",
       "      <td>7.0</td>\n",
       "      <td>13.0</td>\n",
       "      <td>13.0</td>\n",
       "      <td>9.0</td>\n",
       "      <td>0.0</td>\n",
       "      <td>0.0</td>\n",
       "    </tr>\n",
       "    <tr>\n",
       "      <th>4</th>\n",
       "      <td>0.0</td>\n",
       "      <td>0.0</td>\n",
       "      <td>0.0</td>\n",
       "      <td>1.0</td>\n",
       "      <td>11.0</td>\n",
       "      <td>0.0</td>\n",
       "      <td>0.0</td>\n",
       "      <td>0.0</td>\n",
       "      <td>0.0</td>\n",
       "      <td>0.0</td>\n",
       "      <td>...</td>\n",
       "      <td>0.0</td>\n",
       "      <td>0.0</td>\n",
       "      <td>0.0</td>\n",
       "      <td>0.0</td>\n",
       "      <td>0.0</td>\n",
       "      <td>2.0</td>\n",
       "      <td>16.0</td>\n",
       "      <td>4.0</td>\n",
       "      <td>0.0</td>\n",
       "      <td>0.0</td>\n",
       "    </tr>\n",
       "  </tbody>\n",
       "</table>\n",
       "<p>5 rows × 64 columns</p>\n",
       "</div>"
      ],
      "text/plain": [
       "    0    1    2     3     4     5    6    7    8    9  ...    54   55   56  \\\n",
       "0  0.0  0.0  5.0  13.0   9.0   1.0  0.0  0.0  0.0  0.0 ...   0.0  0.0  0.0   \n",
       "1  0.0  0.0  0.0  12.0  13.0   5.0  0.0  0.0  0.0  0.0 ...   0.0  0.0  0.0   \n",
       "2  0.0  0.0  0.0   4.0  15.0  12.0  0.0  0.0  0.0  0.0 ...   5.0  0.0  0.0   \n",
       "3  0.0  0.0  7.0  15.0  13.0   1.0  0.0  0.0  0.0  8.0 ...   9.0  0.0  0.0   \n",
       "4  0.0  0.0  0.0   1.0  11.0   0.0  0.0  0.0  0.0  0.0 ...   0.0  0.0  0.0   \n",
       "\n",
       "    57   58    59    60    61   62   63  \n",
       "0  0.0  6.0  13.0  10.0   0.0  0.0  0.0  \n",
       "1  0.0  0.0  11.0  16.0  10.0  0.0  0.0  \n",
       "2  0.0  0.0   3.0  11.0  16.0  9.0  0.0  \n",
       "3  0.0  7.0  13.0  13.0   9.0  0.0  0.0  \n",
       "4  0.0  0.0   2.0  16.0   4.0  0.0  0.0  \n",
       "\n",
       "[5 rows x 64 columns]"
      ]
     },
     "execution_count": 76,
     "metadata": {},
     "output_type": "execute_result"
    }
   ],
   "source": [
    "mnist_df = pd.DataFrame(m_data.data)\n",
    "mnist_df.head()"
   ]
  },
  {
   "cell_type": "code",
   "execution_count": 77,
   "metadata": {
    "collapsed": true
   },
   "outputs": [],
   "source": [
    "name_columns = []\n",
    "\n",
    "for i in range (1,65):\n",
    "    name_columns += ['pixel ' + str(i)]\n",
    "\n",
    "mnist_df.columns = name_columns\n",
    "mnist_df['Labels'] = m_data.target"
   ]
  },
  {
   "cell_type": "code",
   "execution_count": 78,
   "metadata": {
    "collapsed": false
   },
   "outputs": [
    {
     "data": {
      "text/html": [
       "<div>\n",
       "<style scoped>\n",
       "    .dataframe tbody tr th:only-of-type {\n",
       "        vertical-align: middle;\n",
       "    }\n",
       "\n",
       "    .dataframe tbody tr th {\n",
       "        vertical-align: top;\n",
       "    }\n",
       "\n",
       "    .dataframe thead th {\n",
       "        text-align: right;\n",
       "    }\n",
       "</style>\n",
       "<table border=\"1\" class=\"dataframe\">\n",
       "  <thead>\n",
       "    <tr style=\"text-align: right;\">\n",
       "      <th></th>\n",
       "      <th>pixel 1</th>\n",
       "      <th>pixel 2</th>\n",
       "      <th>pixel 3</th>\n",
       "      <th>pixel 4</th>\n",
       "      <th>pixel 5</th>\n",
       "      <th>pixel 6</th>\n",
       "      <th>pixel 7</th>\n",
       "      <th>pixel 8</th>\n",
       "      <th>pixel 9</th>\n",
       "      <th>pixel 10</th>\n",
       "      <th>...</th>\n",
       "      <th>pixel 56</th>\n",
       "      <th>pixel 57</th>\n",
       "      <th>pixel 58</th>\n",
       "      <th>pixel 59</th>\n",
       "      <th>pixel 60</th>\n",
       "      <th>pixel 61</th>\n",
       "      <th>pixel 62</th>\n",
       "      <th>pixel 63</th>\n",
       "      <th>pixel 64</th>\n",
       "      <th>Labels</th>\n",
       "    </tr>\n",
       "  </thead>\n",
       "  <tbody>\n",
       "    <tr>\n",
       "      <th>0</th>\n",
       "      <td>0.0</td>\n",
       "      <td>0.0</td>\n",
       "      <td>5.0</td>\n",
       "      <td>13.0</td>\n",
       "      <td>9.0</td>\n",
       "      <td>1.0</td>\n",
       "      <td>0.0</td>\n",
       "      <td>0.0</td>\n",
       "      <td>0.0</td>\n",
       "      <td>0.0</td>\n",
       "      <td>...</td>\n",
       "      <td>0.0</td>\n",
       "      <td>0.0</td>\n",
       "      <td>0.0</td>\n",
       "      <td>6.0</td>\n",
       "      <td>13.0</td>\n",
       "      <td>10.0</td>\n",
       "      <td>0.0</td>\n",
       "      <td>0.0</td>\n",
       "      <td>0.0</td>\n",
       "      <td>0</td>\n",
       "    </tr>\n",
       "    <tr>\n",
       "      <th>1</th>\n",
       "      <td>0.0</td>\n",
       "      <td>0.0</td>\n",
       "      <td>0.0</td>\n",
       "      <td>12.0</td>\n",
       "      <td>13.0</td>\n",
       "      <td>5.0</td>\n",
       "      <td>0.0</td>\n",
       "      <td>0.0</td>\n",
       "      <td>0.0</td>\n",
       "      <td>0.0</td>\n",
       "      <td>...</td>\n",
       "      <td>0.0</td>\n",
       "      <td>0.0</td>\n",
       "      <td>0.0</td>\n",
       "      <td>0.0</td>\n",
       "      <td>11.0</td>\n",
       "      <td>16.0</td>\n",
       "      <td>10.0</td>\n",
       "      <td>0.0</td>\n",
       "      <td>0.0</td>\n",
       "      <td>1</td>\n",
       "    </tr>\n",
       "    <tr>\n",
       "      <th>2</th>\n",
       "      <td>0.0</td>\n",
       "      <td>0.0</td>\n",
       "      <td>0.0</td>\n",
       "      <td>4.0</td>\n",
       "      <td>15.0</td>\n",
       "      <td>12.0</td>\n",
       "      <td>0.0</td>\n",
       "      <td>0.0</td>\n",
       "      <td>0.0</td>\n",
       "      <td>0.0</td>\n",
       "      <td>...</td>\n",
       "      <td>0.0</td>\n",
       "      <td>0.0</td>\n",
       "      <td>0.0</td>\n",
       "      <td>0.0</td>\n",
       "      <td>3.0</td>\n",
       "      <td>11.0</td>\n",
       "      <td>16.0</td>\n",
       "      <td>9.0</td>\n",
       "      <td>0.0</td>\n",
       "      <td>2</td>\n",
       "    </tr>\n",
       "    <tr>\n",
       "      <th>3</th>\n",
       "      <td>0.0</td>\n",
       "      <td>0.0</td>\n",
       "      <td>7.0</td>\n",
       "      <td>15.0</td>\n",
       "      <td>13.0</td>\n",
       "      <td>1.0</td>\n",
       "      <td>0.0</td>\n",
       "      <td>0.0</td>\n",
       "      <td>0.0</td>\n",
       "      <td>8.0</td>\n",
       "      <td>...</td>\n",
       "      <td>0.0</td>\n",
       "      <td>0.0</td>\n",
       "      <td>0.0</td>\n",
       "      <td>7.0</td>\n",
       "      <td>13.0</td>\n",
       "      <td>13.0</td>\n",
       "      <td>9.0</td>\n",
       "      <td>0.0</td>\n",
       "      <td>0.0</td>\n",
       "      <td>3</td>\n",
       "    </tr>\n",
       "    <tr>\n",
       "      <th>4</th>\n",
       "      <td>0.0</td>\n",
       "      <td>0.0</td>\n",
       "      <td>0.0</td>\n",
       "      <td>1.0</td>\n",
       "      <td>11.0</td>\n",
       "      <td>0.0</td>\n",
       "      <td>0.0</td>\n",
       "      <td>0.0</td>\n",
       "      <td>0.0</td>\n",
       "      <td>0.0</td>\n",
       "      <td>...</td>\n",
       "      <td>0.0</td>\n",
       "      <td>0.0</td>\n",
       "      <td>0.0</td>\n",
       "      <td>0.0</td>\n",
       "      <td>2.0</td>\n",
       "      <td>16.0</td>\n",
       "      <td>4.0</td>\n",
       "      <td>0.0</td>\n",
       "      <td>0.0</td>\n",
       "      <td>4</td>\n",
       "    </tr>\n",
       "  </tbody>\n",
       "</table>\n",
       "<p>5 rows × 65 columns</p>\n",
       "</div>"
      ],
      "text/plain": [
       "   pixel 1  pixel 2  pixel 3  pixel 4  pixel 5  pixel 6  pixel 7  pixel 8  \\\n",
       "0      0.0      0.0      5.0     13.0      9.0      1.0      0.0      0.0   \n",
       "1      0.0      0.0      0.0     12.0     13.0      5.0      0.0      0.0   \n",
       "2      0.0      0.0      0.0      4.0     15.0     12.0      0.0      0.0   \n",
       "3      0.0      0.0      7.0     15.0     13.0      1.0      0.0      0.0   \n",
       "4      0.0      0.0      0.0      1.0     11.0      0.0      0.0      0.0   \n",
       "\n",
       "   pixel 9  pixel 10   ...    pixel 56  pixel 57  pixel 58  pixel 59  \\\n",
       "0      0.0       0.0   ...         0.0       0.0       0.0       6.0   \n",
       "1      0.0       0.0   ...         0.0       0.0       0.0       0.0   \n",
       "2      0.0       0.0   ...         0.0       0.0       0.0       0.0   \n",
       "3      0.0       8.0   ...         0.0       0.0       0.0       7.0   \n",
       "4      0.0       0.0   ...         0.0       0.0       0.0       0.0   \n",
       "\n",
       "   pixel 60  pixel 61  pixel 62  pixel 63  pixel 64  Labels  \n",
       "0      13.0      10.0       0.0       0.0       0.0       0  \n",
       "1      11.0      16.0      10.0       0.0       0.0       1  \n",
       "2       3.0      11.0      16.0       9.0       0.0       2  \n",
       "3      13.0      13.0       9.0       0.0       0.0       3  \n",
       "4       2.0      16.0       4.0       0.0       0.0       4  \n",
       "\n",
       "[5 rows x 65 columns]"
      ]
     },
     "execution_count": 78,
     "metadata": {},
     "output_type": "execute_result"
    }
   ],
   "source": [
    "mnist_df.head()"
   ]
  },
  {
   "cell_type": "markdown",
   "metadata": {},
   "source": [
    "###  Data Description"
   ]
  },
  {
   "cell_type": "code",
   "execution_count": 79,
   "metadata": {
    "collapsed": false
   },
   "outputs": [
    {
     "data": {
      "text/html": [
       "<div>\n",
       "<style scoped>\n",
       "    .dataframe tbody tr th:only-of-type {\n",
       "        vertical-align: middle;\n",
       "    }\n",
       "\n",
       "    .dataframe tbody tr th {\n",
       "        vertical-align: top;\n",
       "    }\n",
       "\n",
       "    .dataframe thead th {\n",
       "        text-align: right;\n",
       "    }\n",
       "</style>\n",
       "<table border=\"1\" class=\"dataframe\">\n",
       "  <thead>\n",
       "    <tr style=\"text-align: right;\">\n",
       "      <th></th>\n",
       "      <th>pixel 1</th>\n",
       "      <th>pixel 2</th>\n",
       "      <th>pixel 3</th>\n",
       "      <th>pixel 4</th>\n",
       "      <th>pixel 5</th>\n",
       "      <th>pixel 6</th>\n",
       "      <th>pixel 7</th>\n",
       "      <th>pixel 8</th>\n",
       "      <th>pixel 9</th>\n",
       "      <th>pixel 10</th>\n",
       "      <th>...</th>\n",
       "      <th>pixel 56</th>\n",
       "      <th>pixel 57</th>\n",
       "      <th>pixel 58</th>\n",
       "      <th>pixel 59</th>\n",
       "      <th>pixel 60</th>\n",
       "      <th>pixel 61</th>\n",
       "      <th>pixel 62</th>\n",
       "      <th>pixel 63</th>\n",
       "      <th>pixel 64</th>\n",
       "      <th>Labels</th>\n",
       "    </tr>\n",
       "  </thead>\n",
       "  <tbody>\n",
       "    <tr>\n",
       "      <th>count</th>\n",
       "      <td>1797.0</td>\n",
       "      <td>1797.000000</td>\n",
       "      <td>1797.000000</td>\n",
       "      <td>1797.000000</td>\n",
       "      <td>1797.000000</td>\n",
       "      <td>1797.000000</td>\n",
       "      <td>1797.000000</td>\n",
       "      <td>1797.000000</td>\n",
       "      <td>1797.000000</td>\n",
       "      <td>1797.000000</td>\n",
       "      <td>...</td>\n",
       "      <td>1797.000000</td>\n",
       "      <td>1797.000000</td>\n",
       "      <td>1797.000000</td>\n",
       "      <td>1797.000000</td>\n",
       "      <td>1797.000000</td>\n",
       "      <td>1797.000000</td>\n",
       "      <td>1797.000000</td>\n",
       "      <td>1797.000000</td>\n",
       "      <td>1797.000000</td>\n",
       "      <td>1797.000000</td>\n",
       "    </tr>\n",
       "    <tr>\n",
       "      <th>mean</th>\n",
       "      <td>0.0</td>\n",
       "      <td>0.303840</td>\n",
       "      <td>5.204786</td>\n",
       "      <td>11.835838</td>\n",
       "      <td>11.848080</td>\n",
       "      <td>5.781859</td>\n",
       "      <td>1.362270</td>\n",
       "      <td>0.129661</td>\n",
       "      <td>0.005565</td>\n",
       "      <td>1.993879</td>\n",
       "      <td>...</td>\n",
       "      <td>0.206455</td>\n",
       "      <td>0.000556</td>\n",
       "      <td>0.279354</td>\n",
       "      <td>5.557596</td>\n",
       "      <td>12.089037</td>\n",
       "      <td>11.809126</td>\n",
       "      <td>6.764051</td>\n",
       "      <td>2.067891</td>\n",
       "      <td>0.364496</td>\n",
       "      <td>4.490818</td>\n",
       "    </tr>\n",
       "    <tr>\n",
       "      <th>std</th>\n",
       "      <td>0.0</td>\n",
       "      <td>0.907192</td>\n",
       "      <td>4.754826</td>\n",
       "      <td>4.248842</td>\n",
       "      <td>4.287388</td>\n",
       "      <td>5.666418</td>\n",
       "      <td>3.325775</td>\n",
       "      <td>1.037383</td>\n",
       "      <td>0.094222</td>\n",
       "      <td>3.196160</td>\n",
       "      <td>...</td>\n",
       "      <td>0.984401</td>\n",
       "      <td>0.023590</td>\n",
       "      <td>0.934302</td>\n",
       "      <td>5.103019</td>\n",
       "      <td>4.374694</td>\n",
       "      <td>4.933947</td>\n",
       "      <td>5.900623</td>\n",
       "      <td>4.090548</td>\n",
       "      <td>1.860122</td>\n",
       "      <td>2.865304</td>\n",
       "    </tr>\n",
       "    <tr>\n",
       "      <th>min</th>\n",
       "      <td>0.0</td>\n",
       "      <td>0.000000</td>\n",
       "      <td>0.000000</td>\n",
       "      <td>0.000000</td>\n",
       "      <td>0.000000</td>\n",
       "      <td>0.000000</td>\n",
       "      <td>0.000000</td>\n",
       "      <td>0.000000</td>\n",
       "      <td>0.000000</td>\n",
       "      <td>0.000000</td>\n",
       "      <td>...</td>\n",
       "      <td>0.000000</td>\n",
       "      <td>0.000000</td>\n",
       "      <td>0.000000</td>\n",
       "      <td>0.000000</td>\n",
       "      <td>0.000000</td>\n",
       "      <td>0.000000</td>\n",
       "      <td>0.000000</td>\n",
       "      <td>0.000000</td>\n",
       "      <td>0.000000</td>\n",
       "      <td>0.000000</td>\n",
       "    </tr>\n",
       "    <tr>\n",
       "      <th>25%</th>\n",
       "      <td>0.0</td>\n",
       "      <td>0.000000</td>\n",
       "      <td>1.000000</td>\n",
       "      <td>10.000000</td>\n",
       "      <td>10.000000</td>\n",
       "      <td>0.000000</td>\n",
       "      <td>0.000000</td>\n",
       "      <td>0.000000</td>\n",
       "      <td>0.000000</td>\n",
       "      <td>0.000000</td>\n",
       "      <td>...</td>\n",
       "      <td>0.000000</td>\n",
       "      <td>0.000000</td>\n",
       "      <td>0.000000</td>\n",
       "      <td>1.000000</td>\n",
       "      <td>11.000000</td>\n",
       "      <td>10.000000</td>\n",
       "      <td>0.000000</td>\n",
       "      <td>0.000000</td>\n",
       "      <td>0.000000</td>\n",
       "      <td>2.000000</td>\n",
       "    </tr>\n",
       "    <tr>\n",
       "      <th>50%</th>\n",
       "      <td>0.0</td>\n",
       "      <td>0.000000</td>\n",
       "      <td>4.000000</td>\n",
       "      <td>13.000000</td>\n",
       "      <td>13.000000</td>\n",
       "      <td>4.000000</td>\n",
       "      <td>0.000000</td>\n",
       "      <td>0.000000</td>\n",
       "      <td>0.000000</td>\n",
       "      <td>0.000000</td>\n",
       "      <td>...</td>\n",
       "      <td>0.000000</td>\n",
       "      <td>0.000000</td>\n",
       "      <td>0.000000</td>\n",
       "      <td>4.000000</td>\n",
       "      <td>13.000000</td>\n",
       "      <td>14.000000</td>\n",
       "      <td>6.000000</td>\n",
       "      <td>0.000000</td>\n",
       "      <td>0.000000</td>\n",
       "      <td>4.000000</td>\n",
       "    </tr>\n",
       "    <tr>\n",
       "      <th>75%</th>\n",
       "      <td>0.0</td>\n",
       "      <td>0.000000</td>\n",
       "      <td>9.000000</td>\n",
       "      <td>15.000000</td>\n",
       "      <td>15.000000</td>\n",
       "      <td>11.000000</td>\n",
       "      <td>0.000000</td>\n",
       "      <td>0.000000</td>\n",
       "      <td>0.000000</td>\n",
       "      <td>3.000000</td>\n",
       "      <td>...</td>\n",
       "      <td>0.000000</td>\n",
       "      <td>0.000000</td>\n",
       "      <td>0.000000</td>\n",
       "      <td>10.000000</td>\n",
       "      <td>16.000000</td>\n",
       "      <td>16.000000</td>\n",
       "      <td>12.000000</td>\n",
       "      <td>2.000000</td>\n",
       "      <td>0.000000</td>\n",
       "      <td>7.000000</td>\n",
       "    </tr>\n",
       "    <tr>\n",
       "      <th>max</th>\n",
       "      <td>0.0</td>\n",
       "      <td>8.000000</td>\n",
       "      <td>16.000000</td>\n",
       "      <td>16.000000</td>\n",
       "      <td>16.000000</td>\n",
       "      <td>16.000000</td>\n",
       "      <td>16.000000</td>\n",
       "      <td>15.000000</td>\n",
       "      <td>2.000000</td>\n",
       "      <td>16.000000</td>\n",
       "      <td>...</td>\n",
       "      <td>13.000000</td>\n",
       "      <td>1.000000</td>\n",
       "      <td>9.000000</td>\n",
       "      <td>16.000000</td>\n",
       "      <td>16.000000</td>\n",
       "      <td>16.000000</td>\n",
       "      <td>16.000000</td>\n",
       "      <td>16.000000</td>\n",
       "      <td>16.000000</td>\n",
       "      <td>9.000000</td>\n",
       "    </tr>\n",
       "  </tbody>\n",
       "</table>\n",
       "<p>8 rows × 65 columns</p>\n",
       "</div>"
      ],
      "text/plain": [
       "       pixel 1      pixel 2      pixel 3      pixel 4      pixel 5  \\\n",
       "count   1797.0  1797.000000  1797.000000  1797.000000  1797.000000   \n",
       "mean       0.0     0.303840     5.204786    11.835838    11.848080   \n",
       "std        0.0     0.907192     4.754826     4.248842     4.287388   \n",
       "min        0.0     0.000000     0.000000     0.000000     0.000000   \n",
       "25%        0.0     0.000000     1.000000    10.000000    10.000000   \n",
       "50%        0.0     0.000000     4.000000    13.000000    13.000000   \n",
       "75%        0.0     0.000000     9.000000    15.000000    15.000000   \n",
       "max        0.0     8.000000    16.000000    16.000000    16.000000   \n",
       "\n",
       "           pixel 6      pixel 7      pixel 8      pixel 9     pixel 10  \\\n",
       "count  1797.000000  1797.000000  1797.000000  1797.000000  1797.000000   \n",
       "mean      5.781859     1.362270     0.129661     0.005565     1.993879   \n",
       "std       5.666418     3.325775     1.037383     0.094222     3.196160   \n",
       "min       0.000000     0.000000     0.000000     0.000000     0.000000   \n",
       "25%       0.000000     0.000000     0.000000     0.000000     0.000000   \n",
       "50%       4.000000     0.000000     0.000000     0.000000     0.000000   \n",
       "75%      11.000000     0.000000     0.000000     0.000000     3.000000   \n",
       "max      16.000000    16.000000    15.000000     2.000000    16.000000   \n",
       "\n",
       "          ...          pixel 56     pixel 57     pixel 58     pixel 59  \\\n",
       "count     ...       1797.000000  1797.000000  1797.000000  1797.000000   \n",
       "mean      ...          0.206455     0.000556     0.279354     5.557596   \n",
       "std       ...          0.984401     0.023590     0.934302     5.103019   \n",
       "min       ...          0.000000     0.000000     0.000000     0.000000   \n",
       "25%       ...          0.000000     0.000000     0.000000     1.000000   \n",
       "50%       ...          0.000000     0.000000     0.000000     4.000000   \n",
       "75%       ...          0.000000     0.000000     0.000000    10.000000   \n",
       "max       ...         13.000000     1.000000     9.000000    16.000000   \n",
       "\n",
       "          pixel 60     pixel 61     pixel 62     pixel 63     pixel 64  \\\n",
       "count  1797.000000  1797.000000  1797.000000  1797.000000  1797.000000   \n",
       "mean     12.089037    11.809126     6.764051     2.067891     0.364496   \n",
       "std       4.374694     4.933947     5.900623     4.090548     1.860122   \n",
       "min       0.000000     0.000000     0.000000     0.000000     0.000000   \n",
       "25%      11.000000    10.000000     0.000000     0.000000     0.000000   \n",
       "50%      13.000000    14.000000     6.000000     0.000000     0.000000   \n",
       "75%      16.000000    16.000000    12.000000     2.000000     0.000000   \n",
       "max      16.000000    16.000000    16.000000    16.000000    16.000000   \n",
       "\n",
       "            Labels  \n",
       "count  1797.000000  \n",
       "mean      4.490818  \n",
       "std       2.865304  \n",
       "min       0.000000  \n",
       "25%       2.000000  \n",
       "50%       4.000000  \n",
       "75%       7.000000  \n",
       "max       9.000000  \n",
       "\n",
       "[8 rows x 65 columns]"
      ]
     },
     "execution_count": 79,
     "metadata": {},
     "output_type": "execute_result"
    }
   ],
   "source": [
    "mnist_df.describe()"
   ]
  },
  {
   "cell_type": "markdown",
   "metadata": {},
   "source": [
    "### Data Types"
   ]
  },
  {
   "cell_type": "code",
   "execution_count": 80,
   "metadata": {
    "collapsed": false
   },
   "outputs": [
    {
     "data": {
      "text/plain": [
       "pixel 1     float64\n",
       "pixel 2     float64\n",
       "pixel 3     float64\n",
       "pixel 4     float64\n",
       "pixel 5     float64\n",
       "pixel 6     float64\n",
       "pixel 7     float64\n",
       "pixel 8     float64\n",
       "pixel 9     float64\n",
       "pixel 10    float64\n",
       "pixel 11    float64\n",
       "pixel 12    float64\n",
       "pixel 13    float64\n",
       "pixel 14    float64\n",
       "pixel 15    float64\n",
       "pixel 16    float64\n",
       "pixel 17    float64\n",
       "pixel 18    float64\n",
       "pixel 19    float64\n",
       "pixel 20    float64\n",
       "pixel 21    float64\n",
       "pixel 22    float64\n",
       "pixel 23    float64\n",
       "pixel 24    float64\n",
       "pixel 25    float64\n",
       "pixel 26    float64\n",
       "pixel 27    float64\n",
       "pixel 28    float64\n",
       "pixel 29    float64\n",
       "pixel 30    float64\n",
       "             ...   \n",
       "pixel 36    float64\n",
       "pixel 37    float64\n",
       "pixel 38    float64\n",
       "pixel 39    float64\n",
       "pixel 40    float64\n",
       "pixel 41    float64\n",
       "pixel 42    float64\n",
       "pixel 43    float64\n",
       "pixel 44    float64\n",
       "pixel 45    float64\n",
       "pixel 46    float64\n",
       "pixel 47    float64\n",
       "pixel 48    float64\n",
       "pixel 49    float64\n",
       "pixel 50    float64\n",
       "pixel 51    float64\n",
       "pixel 52    float64\n",
       "pixel 53    float64\n",
       "pixel 54    float64\n",
       "pixel 55    float64\n",
       "pixel 56    float64\n",
       "pixel 57    float64\n",
       "pixel 58    float64\n",
       "pixel 59    float64\n",
       "pixel 60    float64\n",
       "pixel 61    float64\n",
       "pixel 62    float64\n",
       "pixel 63    float64\n",
       "pixel 64    float64\n",
       "Labels        int64\n",
       "Length: 65, dtype: object"
      ]
     },
     "execution_count": 80,
     "metadata": {},
     "output_type": "execute_result"
    }
   ],
   "source": [
    "mnist_df.dtypes"
   ]
  },
  {
   "cell_type": "markdown",
   "metadata": {},
   "source": [
    "### Checking for missing data"
   ]
  },
  {
   "cell_type": "code",
   "execution_count": 81,
   "metadata": {
    "collapsed": false
   },
   "outputs": [
    {
     "data": {
      "text/plain": [
       "pixel 1     0\n",
       "pixel 2     0\n",
       "pixel 3     0\n",
       "pixel 4     0\n",
       "pixel 5     0\n",
       "pixel 6     0\n",
       "pixel 7     0\n",
       "pixel 8     0\n",
       "pixel 9     0\n",
       "pixel 10    0\n",
       "pixel 11    0\n",
       "pixel 12    0\n",
       "pixel 13    0\n",
       "pixel 14    0\n",
       "pixel 15    0\n",
       "pixel 16    0\n",
       "pixel 17    0\n",
       "pixel 18    0\n",
       "pixel 19    0\n",
       "pixel 20    0\n",
       "pixel 21    0\n",
       "pixel 22    0\n",
       "pixel 23    0\n",
       "pixel 24    0\n",
       "pixel 25    0\n",
       "pixel 26    0\n",
       "pixel 27    0\n",
       "pixel 28    0\n",
       "pixel 29    0\n",
       "pixel 30    0\n",
       "           ..\n",
       "pixel 36    0\n",
       "pixel 37    0\n",
       "pixel 38    0\n",
       "pixel 39    0\n",
       "pixel 40    0\n",
       "pixel 41    0\n",
       "pixel 42    0\n",
       "pixel 43    0\n",
       "pixel 44    0\n",
       "pixel 45    0\n",
       "pixel 46    0\n",
       "pixel 47    0\n",
       "pixel 48    0\n",
       "pixel 49    0\n",
       "pixel 50    0\n",
       "pixel 51    0\n",
       "pixel 52    0\n",
       "pixel 53    0\n",
       "pixel 54    0\n",
       "pixel 55    0\n",
       "pixel 56    0\n",
       "pixel 57    0\n",
       "pixel 58    0\n",
       "pixel 59    0\n",
       "pixel 60    0\n",
       "pixel 61    0\n",
       "pixel 62    0\n",
       "pixel 63    0\n",
       "pixel 64    0\n",
       "Labels      0\n",
       "Length: 65, dtype: int64"
      ]
     },
     "execution_count": 81,
     "metadata": {},
     "output_type": "execute_result"
    }
   ],
   "source": [
    "mnist_df.isnull().sum()"
   ]
  },
  {
   "cell_type": "markdown",
   "metadata": {},
   "source": [
    "There is no missing data"
   ]
  },
  {
   "cell_type": "markdown",
   "metadata": {},
   "source": [
    "### Visualize the image.\n",
    "Showing the first 10 examples of the training data."
   ]
  },
  {
   "cell_type": "code",
   "execution_count": 82,
   "metadata": {
    "collapsed": false
   },
   "outputs": [
    {
     "data": {
      "image/png": "[encoded data removed]",
      "text/plain": [
       "<Figure size 1440x648 with 10 Axes>"
      ]
     },
     "metadata": {},
     "output_type": "display_data"
    }
   ],
   "source": [
    "plt.figure(figsize = (20,9))\n",
    "pixel = mnist_df.iloc[0:10, 0:64].values\n",
    "target = mnist_df.iloc[0:10,-1 ].values\n",
    "\n",
    "for index, (image, label) in enumerate(zip(pixel,target)):\n",
    "    plt.subplot(2, 5, index + 1)\n",
    "    plt.imshow(np.reshape(image, (8,8)), cmap=plt.cm.gray)\n",
    "    plt.title('Label is %i\\n' % label, fontsize = 15)"
   ]
  },
  {
   "cell_type": "markdown",
   "metadata": {},
   "source": [
    "###  Splitting the dataset into training and testing set\n",
    " For any supervise machine learning task, the idea of building model using all the dataset is not good idea. The main goal is to find out how good your model will be when 'an unseen' dataset is evaluated. It is highly recommended to always split your data into a training and testing set. In this light we do a 70$\\%$ - 30$\\%$ random split of data between training and testing respectively."
   ]
  },
  {
   "cell_type": "code",
   "execution_count": 83,
   "metadata": {
    "collapsed": true
   },
   "outputs": [],
   "source": [
    "X = mnist_df.iloc[: , 0:64].values\n",
    "Y = mnist_df['Labels'].values\n"
   ]
  },
  {
   "cell_type": "code",
   "execution_count": 84,
   "metadata": {
    "collapsed": true
   },
   "outputs": [],
   "source": [
    "#X_train, X_test, Y_train, Y_test = train_test_split(X, Y, test_size=0.3)\n",
    "# training dataset\n",
    "X_train = mnist_df.iloc[0:1257,0:64]\n",
    "Y_train = mnist_df.iloc[0:1257,64]\n",
    "\n",
    "#testing dataset \n",
    "X_test = mnist_df.iloc[1257:, 0:64]\n",
    "Y_test = mnist_df.iloc[1257:, 64]"
   ]
  },
  {
   "cell_type": "code",
   "execution_count": 85,
   "metadata": {
    "collapsed": false
   },
   "outputs": [
    {
     "data": {
      "text/plain": [
       "((1257, 64), (1257,))"
      ]
     },
     "execution_count": 85,
     "metadata": {},
     "output_type": "execute_result"
    }
   ],
   "source": [
    "X_train.shape, Y_train.shape"
   ]
  },
  {
   "cell_type": "code",
   "execution_count": 169,
   "metadata": {},
   "outputs": [
    {
     "data": {
      "text/plain": [
       "((540, 64), (540,))"
      ]
     },
     "execution_count": 169,
     "metadata": {},
     "output_type": "execute_result"
    }
   ],
   "source": [
    "X_test.shape, Y_test.shape"
   ]
  },
  {
   "cell_type": "markdown",
   "metadata": {},
   "source": [
    " ### Fitting a random forest with default parameters to get a baseline idea of the performance"
   ]
  },
  {
   "cell_type": "code",
   "execution_count": 86,
   "metadata": {
    "collapsed": false
   },
   "outputs": [
    {
     "data": {
      "text/plain": [
       "RandomForestClassifier(bootstrap=True, class_weight=None, criterion='gini',\n",
       "            max_depth=None, max_features='auto', max_leaf_nodes=None,\n",
       "            min_impurity_decrease=0.0, min_impurity_split=None,\n",
       "            min_samples_leaf=1, min_samples_split=2,\n",
       "            min_weight_fraction_leaf=0.0, n_estimators=10, n_jobs=1,\n",
       "            oob_score=False, random_state=11, verbose=0, warm_start=False)"
      ]
     },
     "execution_count": 86,
     "metadata": {},
     "output_type": "execute_result"
    }
   ],
   "source": [
    "base_model = RandomForestClassifier(random_state=11)\n",
    "base_model.fit(X_train, Y_train)"
   ]
  },
  {
   "cell_type": "markdown",
   "metadata": {},
   "source": [
    "### Testing and  Evaluating the model\n",
    "Now our model is ready, we must evaluate our model. In a classification problem, its common to evaluate the model  using the accuracy or confusion matrix.\n"
   ]
  },
  {
   "cell_type": "code",
   "execution_count": 87,
   "metadata": {
    "collapsed": false
   },
   "outputs": [
    {
     "data": {
      "text/plain": [
       "1.0"
      ]
     },
     "execution_count": 87,
     "metadata": {},
     "output_type": "execute_result"
    }
   ],
   "source": [
    "# predicting the model for X_train sample \n",
    "\n",
    "y_predtrain = base_model.predict(X_train)\n",
    "\n",
    "\n",
    "# classification accuracy for the training data prediction verses actual\n",
    "\n",
    "accuracy_score(y_predtrain, Y_train)"
   ]
  },
  {
   "cell_type": "code",
   "execution_count": 88,
   "metadata": {
    "collapsed": false
   },
   "outputs": [
    {
     "data": {
      "text/plain": [
       "0.9037037037037037"
      ]
     },
     "execution_count": 88,
     "metadata": {},
     "output_type": "execute_result"
    }
   ],
   "source": [
    "# predicting the model for X_test sample \n",
    "\n",
    "y_predtest = base_model.predict(X_test)\n",
    "\n",
    "# classification accuracy for the test data prediction verses actual\n",
    "\n",
    "accuracy_score(y_predtest, Y_test)\n"
   ]
  },
  {
   "cell_type": "markdown",
   "metadata": {},
   "source": [
    "## Tuning parameter for random forest performance"
   ]
  },
  {
   "cell_type": "markdown",
   "metadata": {},
   "source": [
    "### Independent Parameter tuning\n",
    "\n",
    "- Tuning parameters independently is not the best approach but it will reveal or give us an insight information of the respective parameters for better random forest peroformance.\n"
   ]
  },
  {
   "cell_type": "code",
   "execution_count": 89,
   "metadata": {
    "collapsed": false
   },
   "outputs": [],
   "source": [
    "# tuning n_estimators\n",
    "\n",
    "n_estimators = [1, 2, 4, 10, 16, 32, 64, 100, 200]\n",
    "\n",
    "train_results = []\n",
    "test_results = []\n",
    "for estimator in n_estimators:\n",
    "    rf= RandomForestClassifier(n_estimators=estimator, n_jobs=-1, random_state= 11)\n",
    "    rf.fit(X_train, Y_train)\n",
    "\n",
    "    train_pred = rf.predict(X_train)\n",
    "\n",
    "    train_acc = accuracy_score(train_pred, Y_train)\n",
    "    train_results += [train_acc]\n",
    "\n",
    "    y_pred = rf.predict(X_test)\n",
    "    \n",
    "    pred_acc = accuracy_score(y_pred, Y_test)\n",
    "    test_results += [pred_acc] "
   ]
  },
  {
   "cell_type": "code",
   "execution_count": 90,
   "metadata": {
    "collapsed": false
   },
   "outputs": [],
   "source": [
    "# tuning max_depth\n",
    "max_depths = [int(x) for x in np.linspace(1, 30, 30, endpoint=True)]\n",
    "\n",
    "trainresult= []\n",
    "testresult = []\n",
    "for depth in max_depths:\n",
    "    rf = RandomForestClassifier(max_depth=depth, n_jobs=-1, random_state=11)\n",
    "    rf.fit(X_train, Y_train)\n",
    "\n",
    "    train_pred = rf.predict(X_train)\n",
    "\n",
    "\n",
    "    y_pred = rf.predict(X_test)\n",
    "    \n",
    "    \n",
    "    trainresult.append(accuracy_score(train_pred, Y_train))\n",
    "    \n",
    "    testresult.append(accuracy_score(y_pred, Y_test))\n",
    "    \n"
   ]
  },
  {
   "cell_type": "code",
   "execution_count": 91,
   "metadata": {
    "collapsed": false
   },
   "outputs": [],
   "source": [
    "#tuning min_samples_split with value greater or equal to 2\n",
    "\n",
    "min_samples_splits = list(range(2,12))\n",
    "train_result = []\n",
    "test_result = []\n",
    "for min_samples_split in min_samples_splits:\n",
    "    rf = RandomForestClassifier(min_samples_split=min_samples_split, random_state=11)\n",
    "    rf.fit(X_train, Y_train)\n",
    "\n",
    "    train_pred = rf.predict(X_train)\n",
    "    \n",
    "    train_accuracy = accuracy_score(train_pred,Y_train)\n",
    "    train_result.append(train_accuracy)\n",
    "\n",
    "    y_pred = rf.predict(X_test)\n",
    "    \n",
    "    pred_accuracy = accuracy_score(y_pred,Y_test)\n",
    "    test_result.append(pred_accuracy)\n",
    "\n",
    "\n"
   ]
  },
  {
   "cell_type": "code",
   "execution_count": 92,
   "metadata": {
    "collapsed": true
   },
   "outputs": [],
   "source": [
    "#tuning min_samples_split with value between (0,0.5]\n",
    "\n",
    "min_samples_splits1 = np.linspace(0.1, 1, 10, endpoint=True)\n",
    "\n",
    "train_result1 = []\n",
    "test_result1 = []\n",
    "for min_samples_split in min_samples_splits1:\n",
    "    rf = RandomForestClassifier(min_samples_split=min_samples_split, random_state=11)\n",
    "    rf.fit(X_train, Y_train)\n",
    "\n",
    "    train_pred = rf.predict(X_train)\n",
    "    \n",
    "    train_accuracy = accuracy_score(train_pred,Y_train)\n",
    "    train_result1.append(train_accuracy)\n",
    "\n",
    "    y_pred = rf.predict(X_test)\n",
    "    \n",
    "    pred_accuracy = accuracy_score(y_pred,Y_test)\n",
    "    test_result1.append(pred_accuracy)\n",
    "\n",
    "\n"
   ]
  },
  {
   "cell_type": "code",
   "execution_count": 93,
   "metadata": {
    "collapsed": false
   },
   "outputs": [],
   "source": [
    "#tuning min_samples_leaf with value greater or equal to 2\n",
    "\n",
    "min_samples_leafs = list(range(2,12))\n",
    "\n",
    "trainresults = []\n",
    "testresults = []\n",
    "for min_samples_leaf in min_samples_leafs:\n",
    "    rf = RandomForestClassifier(min_samples_leaf=min_samples_leaf, random_state=11)\n",
    "    rf.fit(X_train, Y_train)\n",
    "\n",
    "    train_pred = rf.predict(X_train)\n",
    "    \n",
    "    train_accuracy = accuracy_score(train_pred,Y_train)\n",
    "    trainresults.append(train_accuracy)\n",
    "\n",
    "    y_pred = rf.predict(X_test)\n",
    "    \n",
    "    pred_accuracy = accuracy_score(y_pred,Y_test)\n",
    "    testresults.append(pred_accuracy)\n",
    "\n"
   ]
  },
  {
   "cell_type": "code",
   "execution_count": 94,
   "metadata": {
    "collapsed": false
   },
   "outputs": [],
   "source": [
    "#tuning min_samples_leaf with value between (0,0.5]\n",
    "\n",
    "min_samples_leafs1 = np.linspace(0.1, 0.5, 10, endpoint=True)\n",
    "\n",
    "trainresults1 = []\n",
    "testresults1 = []\n",
    "for min_samples_leaf in min_samples_leafs1:\n",
    "    rf = RandomForestClassifier(min_samples_leaf=min_samples_leaf, random_state=11)\n",
    "    rf.fit(X_train, Y_train)\n",
    "\n",
    "    train_pred = rf.predict(X_train)\n",
    "    \n",
    "    train_accuracy = accuracy_score(train_pred,Y_train)\n",
    "    trainresults1.append(train_accuracy)\n",
    "\n",
    "    y_pred = rf.predict(X_test)\n",
    "    \n",
    "    pred_accuracy = accuracy_score(y_pred,Y_test)\n",
    "    testresults1.append(pred_accuracy)\n",
    "\n"
   ]
  },
  {
   "cell_type": "code",
   "execution_count": 95,
   "metadata": {
    "collapsed": false
   },
   "outputs": [],
   "source": [
    "# tuning max_feature\n",
    "\n",
    "max_features = list(range(1,mnist_df.shape[1]-1))\n",
    "\n",
    "train_res= []\n",
    "test_res = []\n",
    "for max_feature in max_features:\n",
    "    rf = RandomForestClassifier(max_features=max_feature, random_state=11)\n",
    "    rf.fit(X_train, Y_train)\n",
    "\n",
    "    train_pred = rf.predict(X_train)\n",
    "    train_acc = accuracy_score(train_pred, Y_train)\n",
    "    train_res += [train_acc]\n",
    "\n",
    "    y_pred = rf.predict(X_test)\n",
    "    pred_acc = accuracy_score(y_pred, Y_test)\n",
    "    test_res += [pred_acc]\n",
    "    \n"
   ]
  },
  {
   "cell_type": "code",
   "execution_count": 96,
   "metadata": {
    "collapsed": false
   },
   "outputs": [
    {
     "data": {
      "image/png": "[encoded data removed]",
      "text/plain": [
       "<Figure size 1080x1080 with 7 Axes>"
      ]
     },
     "metadata": {},
     "output_type": "display_data"
    }
   ],
   "source": [
    "fig = plt.figure(figsize=(15, 15))\n",
    "\n",
    "# Ploting the Accuracy against the n_estimators \n",
    "sub1 = fig.add_subplot(421)\n",
    "sub1.plot(n_estimators, train_results, 'b', label= 'Train Accuracy' )\n",
    "sub1.plot(n_estimators, test_results, 'r',  label = 'Test Accuracy')\n",
    "sub1.set_xlabel('n_estimators')\n",
    "sub1.set_ylabel('Accuracy score')\n",
    "plt.legend()\n",
    "\n",
    "\n",
    "# Ploting Accuracy against max_depth \n",
    "sub2 = fig.add_subplot(422)\n",
    "sub2.plot(max_depths, trainresult, 'b', label= 'Train Accuracy')\n",
    "sub2.plot(max_depths, testresult, 'r',  label = 'Test Accuracy')\n",
    "sub2.set_xlabel('max_depth')\n",
    "sub2.set_ylabel('Accuracy score')\n",
    "plt.legend()\n",
    "\n",
    "#  Ploting Accuracy against min_samples_split with interval greater equal to 2\n",
    "sub3 = fig.add_subplot(423)\n",
    "sub3.plot(min_samples_splits, train_result, 'b', label= 'Train Accuracy')\n",
    "sub3.plot(min_samples_splits, test_result, 'r', label= 'Test Accuracy')\n",
    "sub3.set_xlabel('min samples split')\n",
    "sub3.set_ylabel('Accuracy score')\n",
    "plt.legend()\n",
    "\n",
    "# Ploting Accuracy against min_samples_split interval lies between (0,0.5]\n",
    "sub4 = fig.add_subplot(424)\n",
    "sub4.plot(min_samples_splits1, train_result1, 'b', label= 'Train Accuracy')\n",
    "sub4.plot(min_samples_splits1, test_result1, 'r', label= 'Test Accuracy')\n",
    "sub4.set_xlabel('min samples split')\n",
    "sub4.set_ylabel('Accuracy score')\n",
    "plt.legend()\n",
    "\n",
    "# Ploting Accuracy against min_samples_leaf with interval greater equal to 2\n",
    "sub5 = fig.add_subplot(425)\n",
    "sub5.plot(min_samples_leafs, trainresults, 'b', label='Train Accuracy')\n",
    "sub5.plot(min_samples_leafs, testresults, 'r', label='Test Accuracy')\n",
    "sub5.set_xlabel('min_samples_leafs')\n",
    "sub5.set_ylabel('Accuracy score')\n",
    "plt.legend()\n",
    "\n",
    "# Ploting Accuracy against min_samples_leaf interval lies between (0,0.5]\n",
    "sub6 = fig.add_subplot(426)\n",
    "sub6.plot(min_samples_leafs1, trainresults1, 'b', label='Train Accuracy')\n",
    "sub6.plot(min_samples_leafs1, testresults1, 'r', label='Test Accuracy')\n",
    "sub6.set_xlabel('min_samples_leafs')\n",
    "sub6.set_ylabel('Accuracy score')\n",
    "plt.legend()\n",
    "# Ploting Accuracy against max_feature\n",
    "sub7 = fig.add_subplot(427)\n",
    "sub7.plot(max_features, train_res, 'b', label='Train Accuracy')\n",
    "sub7.plot(max_features, test_res, 'r', label='Test Accuracy')\n",
    "sub7.set_xlabel('max features')\n",
    "sub7.set_ylabel('Accuracy score')\n",
    "plt.legend()\n",
    "\n",
    "\n",
    "plt.tight_layout()\n",
    "plt.show()\n",
    "\n"
   ]
  },
  {
   "cell_type": "markdown",
   "metadata": {},
   "source": [
    "I can narrow search of parameters using the plots above. For example, the tree depth has steadily constant from 15 and thus I will be considering an interval from that points. Also, the number of trees can take a a  range from 65 upwards. Similarly, min_samples_leaf decreases so I will stick with value 2 since its give a better accuracy.In the case of max_feature,I observed that at value the 8 there was a better model accuracy. Therefore I will restrict my search to default value that is 'auto' which the sqaure roots of the number of features. In our situation that will be 8."
   ]
  },
  {
   "cell_type": "markdown",
   "metadata": {},
   "source": [
    "\n",
    "\n",
    "### Searching multiple parameters simultaneously\n",
    "We will be looking at two method of parameter tuning:\n",
    "-  $\\textbf{Using GridSearchCV} $ :\n",
    "\n",
    "\n",
    "- $ \\textbf{Using RandomSearchCV} $:\n",
    "\n",
    "Using Scikit-Learn’s RandomizedSearchCV method, we can define a grid of hyperparameter ranges, and randomly sample from the grid, performing K-Fold CV with each combination of values.\n"
   ]
  },
  {
   "cell_type": "markdown",
   "metadata": {},
   "source": [
    "### RandomSearchCV"
   ]
  },
  {
   "cell_type": "code",
   "execution_count": 97,
   "metadata": {
    "collapsed": true
   },
   "outputs": [],
   "source": [
    "# Number of trees in random forest\n",
    "n_estimators = [int(x) for x in np.linspace(start = 65, stop = 200, num = 10)]\n",
    "\n",
    "# Maximum number of levels in tree\n",
    "max_depth = [int(x) for x in np.linspace(15, 30, num = 10)]\n",
    "max_depth.append(None)\n",
    "\n",
    "# evaulation criterion \n",
    "criterion =['gini', 'entropy']\n",
    "\n",
    "# Create the random grid\n",
    "random_grid = {'n_estimators': n_estimators,\n",
    "               'max_depth': max_depth,\n",
    "              'criterion': criterion}"
   ]
  },
  {
   "cell_type": "code",
   "execution_count": 98,
   "metadata": {
    "collapsed": true
   },
   "outputs": [],
   "source": [
    "rf_random = RandomizedSearchCV(estimator = base_model, param_distributions = random_grid, n_iter = 100, cv = 5, \n",
    "                               verbose=0, random_state=42, n_jobs = -1)"
   ]
  },
  {
   "cell_type": "code",
   "execution_count": 99,
   "metadata": {
    "collapsed": false
   },
   "outputs": [
    {
     "data": {
      "text/plain": [
       "RandomizedSearchCV(cv=5, error_score='raise',\n",
       "          estimator=RandomForestClassifier(bootstrap=True, class_weight=None, criterion='gini',\n",
       "            max_depth=None, max_features='auto', max_leaf_nodes=None,\n",
       "            min_impurity_decrease=0.0, min_impurity_split=None,\n",
       "            min_samples_leaf=1, min_samples_split=2,\n",
       "            min_weight_fraction_leaf=0.0, n_estimators=10, n_jobs=1,\n",
       "            oob_score=False, random_state=11, verbose=0, warm_start=False),\n",
       "          fit_params=None, iid=True, n_iter=100, n_jobs=-1,\n",
       "          param_distributions={'n_estimators': [65, 80, 95, 110, 125, 140, 155, 170, 185, 200], 'max_depth': [15, 16, 18, 20, 21, 23, 25, 26, 28, 30, None], 'criterion': ['gini', 'entropy']},\n",
       "          pre_dispatch='2*n_jobs', random_state=42, refit=True,\n",
       "          return_train_score='warn', scoring=None, verbose=0)"
      ]
     },
     "execution_count": 99,
     "metadata": {},
     "output_type": "execute_result"
    }
   ],
   "source": [
    "rf_random.fit(X_train, Y_train)"
   ]
  },
  {
   "cell_type": "code",
   "execution_count": 100,
   "metadata": {},
   "outputs": [
    {
     "data": {
      "text/html": [
       "<div>\n",
       "<style scoped>\n",
       "    .dataframe tbody tr th:only-of-type {\n",
       "        vertical-align: middle;\n",
       "    }\n",
       "\n",
       "    .dataframe tbody tr th {\n",
       "        vertical-align: top;\n",
       "    }\n",
       "\n",
       "    .dataframe thead th {\n",
       "        text-align: right;\n",
       "    }\n",
       "</style>\n",
       "<table border=\"1\" class=\"dataframe\">\n",
       "  <thead>\n",
       "    <tr style=\"text-align: right;\">\n",
       "      <th></th>\n",
       "      <th>mean_test_score</th>\n",
       "      <th>std_test_score</th>\n",
       "      <th>params</th>\n",
       "    </tr>\n",
       "  </thead>\n",
       "  <tbody>\n",
       "    <tr>\n",
       "      <th>0</th>\n",
       "      <td>0.919650</td>\n",
       "      <td>0.032344</td>\n",
       "      <td>{'n_estimators': 95, 'max_depth': 18, 'criteri...</td>\n",
       "    </tr>\n",
       "    <tr>\n",
       "      <th>1</th>\n",
       "      <td>0.922832</td>\n",
       "      <td>0.029310</td>\n",
       "      <td>{'n_estimators': 185, 'max_depth': 20, 'criter...</td>\n",
       "    </tr>\n",
       "    <tr>\n",
       "      <th>2</th>\n",
       "      <td>0.926014</td>\n",
       "      <td>0.033481</td>\n",
       "      <td>{'n_estimators': 110, 'max_depth': 30, 'criter...</td>\n",
       "    </tr>\n",
       "    <tr>\n",
       "      <th>3</th>\n",
       "      <td>0.929992</td>\n",
       "      <td>0.026726</td>\n",
       "      <td>{'n_estimators': 65, 'max_depth': 26, 'criteri...</td>\n",
       "    </tr>\n",
       "    <tr>\n",
       "      <th>4</th>\n",
       "      <td>0.921241</td>\n",
       "      <td>0.039441</td>\n",
       "      <td>{'n_estimators': 140, 'max_depth': 16, 'criter...</td>\n",
       "    </tr>\n",
       "    <tr>\n",
       "      <th>5</th>\n",
       "      <td>0.922832</td>\n",
       "      <td>0.030704</td>\n",
       "      <td>{'n_estimators': 140, 'max_depth': 15, 'criter...</td>\n",
       "    </tr>\n",
       "    <tr>\n",
       "      <th>6</th>\n",
       "      <td>0.919650</td>\n",
       "      <td>0.032344</td>\n",
       "      <td>{'n_estimators': 95, 'max_depth': 25, 'criteri...</td>\n",
       "    </tr>\n",
       "    <tr>\n",
       "      <th>7</th>\n",
       "      <td>0.925219</td>\n",
       "      <td>0.029466</td>\n",
       "      <td>{'n_estimators': 200, 'max_depth': 30, 'criter...</td>\n",
       "    </tr>\n",
       "    <tr>\n",
       "      <th>8</th>\n",
       "      <td>0.922037</td>\n",
       "      <td>0.038182</td>\n",
       "      <td>{'n_estimators': 140, 'max_depth': 26, 'criter...</td>\n",
       "    </tr>\n",
       "    <tr>\n",
       "      <th>9</th>\n",
       "      <td>0.919650</td>\n",
       "      <td>0.032344</td>\n",
       "      <td>{'n_estimators': 95, 'max_depth': 20, 'criteri...</td>\n",
       "    </tr>\n",
       "    <tr>\n",
       "      <th>10</th>\n",
       "      <td>0.917263</td>\n",
       "      <td>0.041121</td>\n",
       "      <td>{'n_estimators': 65, 'max_depth': None, 'crite...</td>\n",
       "    </tr>\n",
       "    <tr>\n",
       "      <th>11</th>\n",
       "      <td>0.917263</td>\n",
       "      <td>0.041121</td>\n",
       "      <td>{'n_estimators': 65, 'max_depth': 20, 'criteri...</td>\n",
       "    </tr>\n",
       "    <tr>\n",
       "      <th>12</th>\n",
       "      <td>0.929992</td>\n",
       "      <td>0.026726</td>\n",
       "      <td>{'n_estimators': 65, 'max_depth': 28, 'criteri...</td>\n",
       "    </tr>\n",
       "    <tr>\n",
       "      <th>13</th>\n",
       "      <td>0.921241</td>\n",
       "      <td>0.036671</td>\n",
       "      <td>{'n_estimators': 200, 'max_depth': 15, 'criter...</td>\n",
       "    </tr>\n",
       "    <tr>\n",
       "      <th>14</th>\n",
       "      <td>0.921241</td>\n",
       "      <td>0.036913</td>\n",
       "      <td>{'n_estimators': 170, 'max_depth': 25, 'criter...</td>\n",
       "    </tr>\n",
       "    <tr>\n",
       "      <th>15</th>\n",
       "      <td>0.922832</td>\n",
       "      <td>0.029310</td>\n",
       "      <td>{'n_estimators': 185, 'max_depth': None, 'crit...</td>\n",
       "    </tr>\n",
       "    <tr>\n",
       "      <th>16</th>\n",
       "      <td>0.922832</td>\n",
       "      <td>0.030704</td>\n",
       "      <td>{'n_estimators': 140, 'max_depth': 25, 'criter...</td>\n",
       "    </tr>\n",
       "    <tr>\n",
       "      <th>17</th>\n",
       "      <td>0.922832</td>\n",
       "      <td>0.034948</td>\n",
       "      <td>{'n_estimators': 185, 'max_depth': 16, 'criter...</td>\n",
       "    </tr>\n",
       "    <tr>\n",
       "      <th>18</th>\n",
       "      <td>0.924423</td>\n",
       "      <td>0.031269</td>\n",
       "      <td>{'n_estimators': 170, 'max_depth': 28, 'criter...</td>\n",
       "    </tr>\n",
       "    <tr>\n",
       "      <th>19</th>\n",
       "      <td>0.918854</td>\n",
       "      <td>0.036229</td>\n",
       "      <td>{'n_estimators': 155, 'max_depth': 25, 'criter...</td>\n",
       "    </tr>\n",
       "    <tr>\n",
       "      <th>20</th>\n",
       "      <td>0.925219</td>\n",
       "      <td>0.029466</td>\n",
       "      <td>{'n_estimators': 200, 'max_depth': 26, 'criter...</td>\n",
       "    </tr>\n",
       "    <tr>\n",
       "      <th>21</th>\n",
       "      <td>0.918854</td>\n",
       "      <td>0.036229</td>\n",
       "      <td>{'n_estimators': 155, 'max_depth': 30, 'criter...</td>\n",
       "    </tr>\n",
       "    <tr>\n",
       "      <th>22</th>\n",
       "      <td>0.929992</td>\n",
       "      <td>0.026726</td>\n",
       "      <td>{'n_estimators': 65, 'max_depth': None, 'crite...</td>\n",
       "    </tr>\n",
       "    <tr>\n",
       "      <th>23</th>\n",
       "      <td>0.922037</td>\n",
       "      <td>0.038182</td>\n",
       "      <td>{'n_estimators': 140, 'max_depth': 18, 'criter...</td>\n",
       "    </tr>\n",
       "    <tr>\n",
       "      <th>24</th>\n",
       "      <td>0.924423</td>\n",
       "      <td>0.031269</td>\n",
       "      <td>{'n_estimators': 170, 'max_depth': 16, 'criter...</td>\n",
       "    </tr>\n",
       "    <tr>\n",
       "      <th>25</th>\n",
       "      <td>0.928401</td>\n",
       "      <td>0.027492</td>\n",
       "      <td>{'n_estimators': 80, 'max_depth': 30, 'criteri...</td>\n",
       "    </tr>\n",
       "    <tr>\n",
       "      <th>26</th>\n",
       "      <td>0.921241</td>\n",
       "      <td>0.036913</td>\n",
       "      <td>{'n_estimators': 170, 'max_depth': 30, 'criter...</td>\n",
       "    </tr>\n",
       "    <tr>\n",
       "      <th>27</th>\n",
       "      <td>0.918854</td>\n",
       "      <td>0.036229</td>\n",
       "      <td>{'n_estimators': 155, 'max_depth': 16, 'criter...</td>\n",
       "    </tr>\n",
       "    <tr>\n",
       "      <th>28</th>\n",
       "      <td>0.922037</td>\n",
       "      <td>0.038182</td>\n",
       "      <td>{'n_estimators': 140, 'max_depth': 21, 'criter...</td>\n",
       "    </tr>\n",
       "    <tr>\n",
       "      <th>29</th>\n",
       "      <td>0.924423</td>\n",
       "      <td>0.033173</td>\n",
       "      <td>{'n_estimators': 125, 'max_depth': 21, 'criter...</td>\n",
       "    </tr>\n",
       "    <tr>\n",
       "      <th>...</th>\n",
       "      <td>...</td>\n",
       "      <td>...</td>\n",
       "      <td>...</td>\n",
       "    </tr>\n",
       "    <tr>\n",
       "      <th>70</th>\n",
       "      <td>0.922832</td>\n",
       "      <td>0.030704</td>\n",
       "      <td>{'n_estimators': 140, 'max_depth': 21, 'criter...</td>\n",
       "    </tr>\n",
       "    <tr>\n",
       "      <th>71</th>\n",
       "      <td>0.919650</td>\n",
       "      <td>0.036074</td>\n",
       "      <td>{'n_estimators': 80, 'max_depth': 20, 'criteri...</td>\n",
       "    </tr>\n",
       "    <tr>\n",
       "      <th>72</th>\n",
       "      <td>0.918059</td>\n",
       "      <td>0.036920</td>\n",
       "      <td>{'n_estimators': 95, 'max_depth': 16, 'criteri...</td>\n",
       "    </tr>\n",
       "    <tr>\n",
       "      <th>73</th>\n",
       "      <td>0.922037</td>\n",
       "      <td>0.038182</td>\n",
       "      <td>{'n_estimators': 140, 'max_depth': 20, 'criter...</td>\n",
       "    </tr>\n",
       "    <tr>\n",
       "      <th>74</th>\n",
       "      <td>0.922832</td>\n",
       "      <td>0.034948</td>\n",
       "      <td>{'n_estimators': 185, 'max_depth': 18, 'criter...</td>\n",
       "    </tr>\n",
       "    <tr>\n",
       "      <th>75</th>\n",
       "      <td>0.918059</td>\n",
       "      <td>0.036920</td>\n",
       "      <td>{'n_estimators': 95, 'max_depth': 21, 'criteri...</td>\n",
       "    </tr>\n",
       "    <tr>\n",
       "      <th>76</th>\n",
       "      <td>0.921241</td>\n",
       "      <td>0.035027</td>\n",
       "      <td>{'n_estimators': 125, 'max_depth': 28, 'criter...</td>\n",
       "    </tr>\n",
       "    <tr>\n",
       "      <th>77</th>\n",
       "      <td>0.921241</td>\n",
       "      <td>0.035027</td>\n",
       "      <td>{'n_estimators': 125, 'max_depth': None, 'crit...</td>\n",
       "    </tr>\n",
       "    <tr>\n",
       "      <th>78</th>\n",
       "      <td>0.929992</td>\n",
       "      <td>0.026726</td>\n",
       "      <td>{'n_estimators': 65, 'max_depth': 21, 'criteri...</td>\n",
       "    </tr>\n",
       "    <tr>\n",
       "      <th>79</th>\n",
       "      <td>0.919650</td>\n",
       "      <td>0.036074</td>\n",
       "      <td>{'n_estimators': 80, 'max_depth': 23, 'criteri...</td>\n",
       "    </tr>\n",
       "    <tr>\n",
       "      <th>80</th>\n",
       "      <td>0.924423</td>\n",
       "      <td>0.033173</td>\n",
       "      <td>{'n_estimators': 125, 'max_depth': 16, 'criter...</td>\n",
       "    </tr>\n",
       "    <tr>\n",
       "      <th>81</th>\n",
       "      <td>0.924423</td>\n",
       "      <td>0.031269</td>\n",
       "      <td>{'n_estimators': 170, 'max_depth': 25, 'criter...</td>\n",
       "    </tr>\n",
       "    <tr>\n",
       "      <th>82</th>\n",
       "      <td>0.918854</td>\n",
       "      <td>0.036229</td>\n",
       "      <td>{'n_estimators': 155, 'max_depth': 26, 'criter...</td>\n",
       "    </tr>\n",
       "    <tr>\n",
       "      <th>83</th>\n",
       "      <td>0.919650</td>\n",
       "      <td>0.036074</td>\n",
       "      <td>{'n_estimators': 80, 'max_depth': 21, 'criteri...</td>\n",
       "    </tr>\n",
       "    <tr>\n",
       "      <th>84</th>\n",
       "      <td>0.922832</td>\n",
       "      <td>0.030704</td>\n",
       "      <td>{'n_estimators': 140, 'max_depth': 18, 'criter...</td>\n",
       "    </tr>\n",
       "    <tr>\n",
       "      <th>85</th>\n",
       "      <td>0.922832</td>\n",
       "      <td>0.034948</td>\n",
       "      <td>{'n_estimators': 185, 'max_depth': 26, 'criter...</td>\n",
       "    </tr>\n",
       "    <tr>\n",
       "      <th>86</th>\n",
       "      <td>0.922832</td>\n",
       "      <td>0.029310</td>\n",
       "      <td>{'n_estimators': 185, 'max_depth': 25, 'criter...</td>\n",
       "    </tr>\n",
       "    <tr>\n",
       "      <th>87</th>\n",
       "      <td>0.918854</td>\n",
       "      <td>0.036229</td>\n",
       "      <td>{'n_estimators': 155, 'max_depth': 18, 'criter...</td>\n",
       "    </tr>\n",
       "    <tr>\n",
       "      <th>88</th>\n",
       "      <td>0.921241</td>\n",
       "      <td>0.033051</td>\n",
       "      <td>{'n_estimators': 155, 'max_depth': 20, 'criter...</td>\n",
       "    </tr>\n",
       "    <tr>\n",
       "      <th>89</th>\n",
       "      <td>0.922037</td>\n",
       "      <td>0.033574</td>\n",
       "      <td>{'n_estimators': 110, 'max_depth': 25, 'criter...</td>\n",
       "    </tr>\n",
       "    <tr>\n",
       "      <th>90</th>\n",
       "      <td>0.921241</td>\n",
       "      <td>0.033051</td>\n",
       "      <td>{'n_estimators': 155, 'max_depth': 30, 'criter...</td>\n",
       "    </tr>\n",
       "    <tr>\n",
       "      <th>91</th>\n",
       "      <td>0.916468</td>\n",
       "      <td>0.040541</td>\n",
       "      <td>{'n_estimators': 65, 'max_depth': 15, 'criteri...</td>\n",
       "    </tr>\n",
       "    <tr>\n",
       "      <th>92</th>\n",
       "      <td>0.918059</td>\n",
       "      <td>0.036920</td>\n",
       "      <td>{'n_estimators': 95, 'max_depth': 15, 'criteri...</td>\n",
       "    </tr>\n",
       "    <tr>\n",
       "      <th>93</th>\n",
       "      <td>0.921241</td>\n",
       "      <td>0.036913</td>\n",
       "      <td>{'n_estimators': 170, 'max_depth': 26, 'criter...</td>\n",
       "    </tr>\n",
       "    <tr>\n",
       "      <th>94</th>\n",
       "      <td>0.918854</td>\n",
       "      <td>0.036229</td>\n",
       "      <td>{'n_estimators': 155, 'max_depth': 21, 'criter...</td>\n",
       "    </tr>\n",
       "    <tr>\n",
       "      <th>95</th>\n",
       "      <td>0.922037</td>\n",
       "      <td>0.033574</td>\n",
       "      <td>{'n_estimators': 110, 'max_depth': 21, 'criter...</td>\n",
       "    </tr>\n",
       "    <tr>\n",
       "      <th>96</th>\n",
       "      <td>0.922832</td>\n",
       "      <td>0.029310</td>\n",
       "      <td>{'n_estimators': 185, 'max_depth': 15, 'criter...</td>\n",
       "    </tr>\n",
       "    <tr>\n",
       "      <th>97</th>\n",
       "      <td>0.917263</td>\n",
       "      <td>0.041121</td>\n",
       "      <td>{'n_estimators': 65, 'max_depth': 30, 'criteri...</td>\n",
       "    </tr>\n",
       "    <tr>\n",
       "      <th>98</th>\n",
       "      <td>0.922037</td>\n",
       "      <td>0.038182</td>\n",
       "      <td>{'n_estimators': 140, 'max_depth': 28, 'criter...</td>\n",
       "    </tr>\n",
       "    <tr>\n",
       "      <th>99</th>\n",
       "      <td>0.924423</td>\n",
       "      <td>0.031269</td>\n",
       "      <td>{'n_estimators': 170, 'max_depth': 20, 'criter...</td>\n",
       "    </tr>\n",
       "  </tbody>\n",
       "</table>\n",
       "<p>100 rows × 3 columns</p>\n",
       "</div>"
      ],
      "text/plain": [
       "    mean_test_score  std_test_score  \\\n",
       "0          0.919650        0.032344   \n",
       "1          0.922832        0.029310   \n",
       "2          0.926014        0.033481   \n",
       "3          0.929992        0.026726   \n",
       "4          0.921241        0.039441   \n",
       "5          0.922832        0.030704   \n",
       "6          0.919650        0.032344   \n",
       "7          0.925219        0.029466   \n",
       "8          0.922037        0.038182   \n",
       "9          0.919650        0.032344   \n",
       "10         0.917263        0.041121   \n",
       "11         0.917263        0.041121   \n",
       "12         0.929992        0.026726   \n",
       "13         0.921241        0.036671   \n",
       "14         0.921241        0.036913   \n",
       "15         0.922832        0.029310   \n",
       "16         0.922832        0.030704   \n",
       "17         0.922832        0.034948   \n",
       "18         0.924423        0.031269   \n",
       "19         0.918854        0.036229   \n",
       "20         0.925219        0.029466   \n",
       "21         0.918854        0.036229   \n",
       "22         0.929992        0.026726   \n",
       "23         0.922037        0.038182   \n",
       "24         0.924423        0.031269   \n",
       "25         0.928401        0.027492   \n",
       "26         0.921241        0.036913   \n",
       "27         0.918854        0.036229   \n",
       "28         0.922037        0.038182   \n",
       "29         0.924423        0.033173   \n",
       "..              ...             ...   \n",
       "70         0.922832        0.030704   \n",
       "71         0.919650        0.036074   \n",
       "72         0.918059        0.036920   \n",
       "73         0.922037        0.038182   \n",
       "74         0.922832        0.034948   \n",
       "75         0.918059        0.036920   \n",
       "76         0.921241        0.035027   \n",
       "77         0.921241        0.035027   \n",
       "78         0.929992        0.026726   \n",
       "79         0.919650        0.036074   \n",
       "80         0.924423        0.033173   \n",
       "81         0.924423        0.031269   \n",
       "82         0.918854        0.036229   \n",
       "83         0.919650        0.036074   \n",
       "84         0.922832        0.030704   \n",
       "85         0.922832        0.034948   \n",
       "86         0.922832        0.029310   \n",
       "87         0.918854        0.036229   \n",
       "88         0.921241        0.033051   \n",
       "89         0.922037        0.033574   \n",
       "90         0.921241        0.033051   \n",
       "91         0.916468        0.040541   \n",
       "92         0.918059        0.036920   \n",
       "93         0.921241        0.036913   \n",
       "94         0.918854        0.036229   \n",
       "95         0.922037        0.033574   \n",
       "96         0.922832        0.029310   \n",
       "97         0.917263        0.041121   \n",
       "98         0.922037        0.038182   \n",
       "99         0.924423        0.031269   \n",
       "\n",
       "                                               params  \n",
       "0   {'n_estimators': 95, 'max_depth': 18, 'criteri...  \n",
       "1   {'n_estimators': 185, 'max_depth': 20, 'criter...  \n",
       "2   {'n_estimators': 110, 'max_depth': 30, 'criter...  \n",
       "3   {'n_estimators': 65, 'max_depth': 26, 'criteri...  \n",
       "4   {'n_estimators': 140, 'max_depth': 16, 'criter...  \n",
       "5   {'n_estimators': 140, 'max_depth': 15, 'criter...  \n",
       "6   {'n_estimators': 95, 'max_depth': 25, 'criteri...  \n",
       "7   {'n_estimators': 200, 'max_depth': 30, 'criter...  \n",
       "8   {'n_estimators': 140, 'max_depth': 26, 'criter...  \n",
       "9   {'n_estimators': 95, 'max_depth': 20, 'criteri...  \n",
       "10  {'n_estimators': 65, 'max_depth': None, 'crite...  \n",
       "11  {'n_estimators': 65, 'max_depth': 20, 'criteri...  \n",
       "12  {'n_estimators': 65, 'max_depth': 28, 'criteri...  \n",
       "13  {'n_estimators': 200, 'max_depth': 15, 'criter...  \n",
       "14  {'n_estimators': 170, 'max_depth': 25, 'criter...  \n",
       "15  {'n_estimators': 185, 'max_depth': None, 'crit...  \n",
       "16  {'n_estimators': 140, 'max_depth': 25, 'criter...  \n",
       "17  {'n_estimators': 185, 'max_depth': 16, 'criter...  \n",
       "18  {'n_estimators': 170, 'max_depth': 28, 'criter...  \n",
       "19  {'n_estimators': 155, 'max_depth': 25, 'criter...  \n",
       "20  {'n_estimators': 200, 'max_depth': 26, 'criter...  \n",
       "21  {'n_estimators': 155, 'max_depth': 30, 'criter...  \n",
       "22  {'n_estimators': 65, 'max_depth': None, 'crite...  \n",
       "23  {'n_estimators': 140, 'max_depth': 18, 'criter...  \n",
       "24  {'n_estimators': 170, 'max_depth': 16, 'criter...  \n",
       "25  {'n_estimators': 80, 'max_depth': 30, 'criteri...  \n",
       "26  {'n_estimators': 170, 'max_depth': 30, 'criter...  \n",
       "27  {'n_estimators': 155, 'max_depth': 16, 'criter...  \n",
       "28  {'n_estimators': 140, 'max_depth': 21, 'criter...  \n",
       "29  {'n_estimators': 125, 'max_depth': 21, 'criter...  \n",
       "..                                                ...  \n",
       "70  {'n_estimators': 140, 'max_depth': 21, 'criter...  \n",
       "71  {'n_estimators': 80, 'max_depth': 20, 'criteri...  \n",
       "72  {'n_estimators': 95, 'max_depth': 16, 'criteri...  \n",
       "73  {'n_estimators': 140, 'max_depth': 20, 'criter...  \n",
       "74  {'n_estimators': 185, 'max_depth': 18, 'criter...  \n",
       "75  {'n_estimators': 95, 'max_depth': 21, 'criteri...  \n",
       "76  {'n_estimators': 125, 'max_depth': 28, 'criter...  \n",
       "77  {'n_estimators': 125, 'max_depth': None, 'crit...  \n",
       "78  {'n_estimators': 65, 'max_depth': 21, 'criteri...  \n",
       "79  {'n_estimators': 80, 'max_depth': 23, 'criteri...  \n",
       "80  {'n_estimators': 125, 'max_depth': 16, 'criter...  \n",
       "81  {'n_estimators': 170, 'max_depth': 25, 'criter...  \n",
       "82  {'n_estimators': 155, 'max_depth': 26, 'criter...  \n",
       "83  {'n_estimators': 80, 'max_depth': 21, 'criteri...  \n",
       "84  {'n_estimators': 140, 'max_depth': 18, 'criter...  \n",
       "85  {'n_estimators': 185, 'max_depth': 26, 'criter...  \n",
       "86  {'n_estimators': 185, 'max_depth': 25, 'criter...  \n",
       "87  {'n_estimators': 155, 'max_depth': 18, 'criter...  \n",
       "88  {'n_estimators': 155, 'max_depth': 20, 'criter...  \n",
       "89  {'n_estimators': 110, 'max_depth': 25, 'criter...  \n",
       "90  {'n_estimators': 155, 'max_depth': 30, 'criter...  \n",
       "91  {'n_estimators': 65, 'max_depth': 15, 'criteri...  \n",
       "92  {'n_estimators': 95, 'max_depth': 15, 'criteri...  \n",
       "93  {'n_estimators': 170, 'max_depth': 26, 'criter...  \n",
       "94  {'n_estimators': 155, 'max_depth': 21, 'criter...  \n",
       "95  {'n_estimators': 110, 'max_depth': 21, 'criter...  \n",
       "96  {'n_estimators': 185, 'max_depth': 15, 'criter...  \n",
       "97  {'n_estimators': 65, 'max_depth': 30, 'criteri...  \n",
       "98  {'n_estimators': 140, 'max_depth': 28, 'criter...  \n",
       "99  {'n_estimators': 170, 'max_depth': 20, 'criter...  \n",
       "\n",
       "[100 rows x 3 columns]"
      ]
     },
     "execution_count": 100,
     "metadata": {},
     "output_type": "execute_result"
    }
   ],
   "source": [
    "rd = pd.DataFrame(rf_random.cv_results_)[['mean_test_score', 'std_test_score', 'params']]\n",
    "rd"
   ]
  },
  {
   "cell_type": "code",
   "execution_count": 109,
   "metadata": {},
   "outputs": [
    {
     "data": {
      "text/plain": [
       "0.9299920445505171"
      ]
     },
     "execution_count": 109,
     "metadata": {},
     "output_type": "execute_result"
    }
   ],
   "source": [
    "rf_random.best_score_"
   ]
  },
  {
   "cell_type": "code",
   "execution_count": 110,
   "metadata": {},
   "outputs": [
    {
     "data": {
      "text/plain": [
       "{'n_estimators': 65, 'max_depth': 26, 'criterion': 'entropy'}"
      ]
     },
     "execution_count": 110,
     "metadata": {},
     "output_type": "execute_result"
    }
   ],
   "source": [
    "rf_random.best_params_"
   ]
  },
  {
   "cell_type": "code",
   "execution_count": 112,
   "metadata": {},
   "outputs": [
    {
     "name": "stdout",
     "output_type": "stream",
     "text": [
      "{'n_estimators': 65, 'max_depth': 26, 'criterion': 'entropy'}\n",
      "{'n_estimators': 65, 'max_depth': 28, 'criterion': 'entropy'}\n",
      "{'n_estimators': 65, 'max_depth': None, 'criterion': 'entropy'}\n",
      "{'n_estimators': 65, 'max_depth': 16, 'criterion': 'entropy'}\n",
      "{'n_estimators': 65, 'max_depth': 20, 'criterion': 'entropy'}\n",
      "{'n_estimators': 65, 'max_depth': 21, 'criterion': 'entropy'}\n"
     ]
    }
   ],
   "source": [
    "for i in range(100):\n",
    "    if rd.iloc[i][0]==0.9299920445505171:\n",
    "        print(rd.iloc[i][2])"
   ]
  },
  {
   "cell_type": "code",
   "execution_count": 182,
   "metadata": {
    "collapsed": true
   },
   "outputs": [],
   "source": [
    "cfl = RandomForestClassifier(bootstrap=True, class_weight=None, criterion='entropy',\n",
    "            max_depth=20, max_features='auto', max_leaf_nodes=None,\n",
    "            min_impurity_decrease=0.0, min_impurity_split=None,\n",
    "            min_samples_leaf=1, min_samples_split=2,\n",
    "            min_weight_fraction_leaf=0.0, n_estimators=140, n_jobs=-1,\n",
    "            oob_score=False, random_state=11, verbose=0, warm_start=False)"
   ]
  },
  {
   "cell_type": "code",
   "execution_count": 183,
   "metadata": {
    "collapsed": false
   },
   "outputs": [
    {
     "data": {
      "text/plain": [
       "RandomForestClassifier(bootstrap=True, class_weight=None, criterion='entropy',\n",
       "            max_depth=20, max_features='auto', max_leaf_nodes=None,\n",
       "            min_impurity_decrease=0.0, min_impurity_split=None,\n",
       "            min_samples_leaf=1, min_samples_split=2,\n",
       "            min_weight_fraction_leaf=0.0, n_estimators=140, n_jobs=-1,\n",
       "            oob_score=False, random_state=11, verbose=0, warm_start=False)"
      ]
     },
     "execution_count": 183,
     "metadata": {},
     "output_type": "execute_result"
    }
   ],
   "source": [
    "cfl.fit(X_train, Y_train)"
   ]
  },
  {
   "cell_type": "code",
   "execution_count": 184,
   "metadata": {
    "collapsed": true
   },
   "outputs": [],
   "source": [
    "Y_predtrain =cfl.predict(X_train)\n"
   ]
  },
  {
   "cell_type": "code",
   "execution_count": 190,
   "metadata": {
    "collapsed": true
   },
   "outputs": [
    {
     "data": {
      "text/plain": [
       "500"
      ]
     },
     "execution_count": 190,
     "metadata": {},
     "output_type": "execute_result"
    }
   ],
   "source": [
    "Y_predtest = cfl.predict(X_test)\n",
    "count = 0\n",
    "for i in range(540):\n",
    "    if Y_predtest[i]== Y_test.values[i]:\n",
    "        count += 1\n",
    "count"
   ]
  },
  {
   "cell_type": "code",
   "execution_count": 188,
   "metadata": {
    "collapsed": false
   },
   "outputs": [
    {
     "data": {
      "text/plain": [
       "(1.0, 0.9259259259259259)"
      ]
     },
     "execution_count": 188,
     "metadata": {},
     "output_type": "execute_result"
    }
   ],
   "source": [
    "accuracy_score(Y_predtrain, Y_train), accuracy_score(Y_predtest, Y_test)"
   ]
  },
  {
   "cell_type": "code",
   "execution_count": null,
   "metadata": {
    "collapsed": false
   },
   "outputs": [],
   "source": []
  },
  {
   "cell_type": "code",
   "execution_count": null,
   "metadata": {},
   "outputs": [],
   "source": []
  }
 ],
 "metadata": {
  "kernelspec": {
   "display_name": "Python 3",
   "language": "python",
   "name": "python3"
  },
  "language_info": {
   "codemirror_mode": {
    "name": "ipython",
    "version": 3
   },
   "file_extension": ".py",
   "mimetype": "text/x-python",
   "name": "python",
   "nbconvert_exporter": "python",
   "pygments_lexer": "ipython3",
   "version": "3.6.6"
  }
 },
 "nbformat": 4,
 "nbformat_minor": 2
}
