{
 "cells": [
  {
   "cell_type": "markdown",
   "metadata": {},
   "source": [
    "### `HBDSCAN Clustering`"
   ]
  },
  {
   "cell_type": "code",
   "execution_count": 1,
   "metadata": {
    "collapsed": true
   },
   "outputs": [],
   "source": [
    "import numpy as np\n",
    "import pandas as pd\n",
    "import matplotlib.pyplot as plt\n",
    "import pylab as pl\n",
    "import seaborn as sns\n",
    "import hdbscan\n",
    "\n",
    "\n",
    "\n",
    "from sklearn.manifold import TSNE\n",
    "from sklearn.datasets import load_digits\n",
    "from IPython.display  import display_html\n",
    "from sklearn.metrics import accuracy_score\n",
    "from sklearn.ensemble import RandomForestClassifier\n",
    "from sklearn.model_selection import train_test_split\n",
    "from sklearn.model_selection import train_test_split\n",
    "\n",
    "\n",
    "\n",
    "%matplotlib inline"
   ]
  },
  {
   "cell_type": "code",
   "execution_count": 2,
   "metadata": {
    "collapsed": true
   },
   "outputs": [],
   "source": [
    "import warnings\n",
    "warnings.filterwarnings(\"ignore\", category=FutureWarning)\n",
    "warnings.filterwarnings(\"ignore\", category=DeprecationWarning)"
   ]
  },
  {
   "cell_type": "code",
   "execution_count": 3,
   "metadata": {
    "collapsed": true
   },
   "outputs": [],
   "source": [
    "digits = load_digits()\n",
    "data = digits.data"
   ]
  },
  {
   "cell_type": "code",
   "execution_count": 4,
   "metadata": {
    "collapsed": true
   },
   "outputs": [],
   "source": [
    "X_train, X_test, Y_train, Y_test = train_test_split(digits.data, digits.target,test_size=0.33, random_state=42)\n"
   ]
  },
  {
   "cell_type": "code",
   "execution_count": 5,
   "metadata": {
    "collapsed": false
   },
   "outputs": [
    {
     "data": {
      "text/plain": [
       "HDBSCAN(algorithm='best', allow_single_cluster=False, alpha=1.0,\n",
       "    approx_min_span_tree=True, cluster_selection_method='eom',\n",
       "    core_dist_n_jobs=4, gen_min_span_tree=False, leaf_size=40,\n",
       "    match_reference_implementation=False, memory=Memory(location=None),\n",
       "    metric='euclidean', min_cluster_size=12, min_samples=1, p=None,\n",
       "    prediction_data=True)"
      ]
     },
     "execution_count": 5,
     "metadata": {},
     "output_type": "execute_result"
    }
   ],
   "source": [
    "clusterer= hdbscan.HDBSCAN(min_cluster_size=12, min_samples=1,prediction_data=True)\n",
    "clusterer.fit(digits.data)"
   ]
  },
  {
   "cell_type": "code",
   "execution_count": 6,
   "metadata": {
    "collapsed": true
   },
   "outputs": [],
   "source": [
    "tree = clusterer.condensed_tree_.to_pandas()\n",
    "cluster_tree = tree[tree.child_size > 1]\n",
    "lambda_value = list(set(cluster_tree['lambda_val'].values))\n",
    "lambda_value.append(0.03)\n",
    "sorted_list = sorted(lambda_value)\n"
   ]
  },
  {
   "cell_type": "code",
   "execution_count": 7,
   "metadata": {
    "collapsed": false
   },
   "outputs": [
    {
     "data": {
      "text/plain": [
       "<matplotlib.axes._subplots.AxesSubplot at 0x7fdd62a9bd68>"
      ]
     },
     "execution_count": 7,
     "metadata": {},
     "output_type": "execute_result"
    },
    {
     "data": {
      "image/png": "[encoded data removed]",
      "text/plain": [
       "<Figure size 720x576 with 2 Axes>"
      ]
     },
     "metadata": {
      "needs_background": "light"
     },
     "output_type": "display_data"
    }
   ],
   "source": [
    "plt.figure(figsize=(10,8))\n",
    "clusterer.condensed_tree_.plot(log_size=True)"
   ]
  },
  {
   "cell_type": "code",
   "execution_count": 8,
   "metadata": {
    "collapsed": true
   },
   "outputs": [],
   "source": [
    "indices = []\n",
    "for i in range(0,len(X_test)):\n",
    "    for j in range(0,len(digits.data)):\n",
    "        a = np.equal(X_test[i], digits.data[j]).all()\n",
    "        if a == True:\n",
    "            indices.append(j)\n",
    "            \n",
    "            "
   ]
  },
  {
   "cell_type": "code",
   "execution_count": 9,
   "metadata": {
    "collapsed": true
   },
   "outputs": [],
   "source": [
    "def assign_label(cluster_label):\n",
    "    dict_label ={'0': np.array([5]),'1': np.array([7,5]), '2':np.array([7,5,7]),\n",
    "             '3':np.array([0,7,5,7]), '4': np.array([0,7,1,5,7]),'5': np.array([0,7,1,2,5,7]),\n",
    "             '6': np.array([4,0,7,1,2,5,7]), '7':np.array([4,0,9,1,2,5,7]),'8':np.array([4,0,9,1,2,5,6,7]),\n",
    "            '9': np.array([4,0,3,9,1,2,5,6,7]), '10':np.array([4,0,9,1,2,5,6,3,7]), \n",
    "            '11':np.array([4,0,9,9,1,2,5,6,3,7]), '12': np.array([5,4,0,9,9,1,2,5,6,3,7]),\n",
    "             '13':np.array([5,4,0,9,9,1,2,5,5,6,3,7]), '14':np.array([5,4,0,9,9,1,2,5,6,5,1,3,7]),\n",
    "            '15':np.array([5,8,4,0,9,9,1,2,5,6,1,3,7]),'16':np.array([1,5,8,4,0,9,9,1,2,5,6,1,3,7]),\n",
    "            '17':np.array([1,5,8,4,0,9,1,2,5,6,1,3,7]),'18':np.array([1,5,8,4,0,9,1,2,5,4,6,1,3,7]),\n",
    "            '19':np.array([1,5,5,8,4,0,9,1,2,5,4,6,1,3,7]),'20':np.array([1,5,5,4,0,4,9,1,2,5,4,6,1,3,7]),\n",
    "            '21': np.array([1,5,5,4,0,4,9,1,2,5,4,6,1,1,3,7]),'22':np.array([1,5,5,4,0,4,2,9,1,2,5,4,6,1,1,3,7]),\n",
    "            '23':np.array([1,5,4,0,4,9,9,1,2,5,6,1,3,7]), '24':np.array([9,1,5,4,0,4,9,9,1,2,6,1,3,7]),\n",
    "             '25':np.array([1,5,4,0,4,2,9,1,2,6,1,9,3,7]),'26':np.array([1,5,4,0,4,2,2,9,1,2,6,1,9,3,7]),\n",
    "            '27': np.array([1,5,4,0,4,7,2,2,9,1,2,6,1,3,7]), '28':np.array([1,5,4,0,4,7,2,9,1,2,6,7,1,3,7]), \n",
    "             '29':np.array([4,0,4,9,1,6,7,1,2,3,7]), '30':np.array([0,4,6,7,1,2,3]),\n",
    "             '31':np.array([0,6,4,6,7,1,6,2,3]),'32': np.array([6,0,1,0])}\n",
    "\n",
    "\n",
    "    return dict_label.get(str(cluster_label))"
   ]
  },
  {
   "cell_type": "code",
   "execution_count": 10,
   "metadata": {
    "collapsed": true
   },
   "outputs": [],
   "source": [
    "def classifier(l,index):\n",
    "    pred_labels = []\n",
    "    clusterpt_cut= clusterer.single_linkage_tree_.get_clusters(1/sorted_list[l], min_cluster_size=12)\n",
    "    #s=assign_label(l)\n",
    "    b= clusterpt_cut[index]\n",
    "    for i in range(0,len(b)):\n",
    "        if b[i] == -1:\n",
    "            pred_labels.append(-1)\n",
    "        else:\n",
    "            pred_labels.append(assign_label(l)[b[i]])\n",
    "    return np.array(pred_labels)\n",
    "    "
   ]
  },
  {
   "cell_type": "code",
   "execution_count": 11,
   "metadata": {
    "collapsed": true
   },
   "outputs": [],
   "source": [
    "def labels_testdata(l,index):\n",
    "    top_cluster = classifier(0,indices)\n",
    "    if l==0:\n",
    "        return top_cluster\n",
    "    else:\n",
    "    \n",
    "        for i in range(1,l+1):\n",
    "            next_cluster = classifier(i,indices)\n",
    "            noiseptindex = np.argwhere(next_cluster == -1).reshape(1,-1)[0]\n",
    "            for f in noiseptindex:\n",
    "                next_cluster[f]= top_cluster[f]\n",
    "            top_cluster = next_cluster\n",
    "    return next_cluster\n",
    "            \n",
    "        "
   ]
  },
  {
   "cell_type": "code",
   "execution_count": 12,
   "metadata": {
    "collapsed": true
   },
   "outputs": [],
   "source": [
    "def accuracy(num_cut):\n",
    "    acc_lst =[]\n",
    "    for j in range(0,num_cut):\n",
    "        acc_lst.append(len(np.argwhere(np.equal(Y_test,labels_testdata(j,indices))== True))/len(Y_test))\n",
    "    return acc_lst"
   ]
  },
  {
   "cell_type": "markdown",
   "metadata": {},
   "source": [
    "### ` Below is the accuracy at each lambda value`"
   ]
  },
  {
   "cell_type": "code",
   "execution_count": 26,
   "metadata": {
    "collapsed": false
   },
   "outputs": [],
   "source": [
    "df_acc = pd.DataFrame(sorted_list, columns = ['lambda'])\n",
    "df_acc['Accuracy'] =accuracy(33)"
   ]
  },
  {
   "cell_type": "code",
   "execution_count": 27,
   "metadata": {
    "collapsed": false
   },
   "outputs": [
    {
     "data": {
      "text/html": [
       "<div>\n",
       "<style scoped>\n",
       "    .dataframe tbody tr th:only-of-type {\n",
       "        vertical-align: middle;\n",
       "    }\n",
       "\n",
       "    .dataframe tbody tr th {\n",
       "        vertical-align: top;\n",
       "    }\n",
       "\n",
       "    .dataframe thead th {\n",
       "        text-align: right;\n",
       "    }\n",
       "</style>\n",
       "<table border=\"1\" class=\"dataframe\">\n",
       "  <thead>\n",
       "    <tr style=\"text-align: right;\">\n",
       "      <th></th>\n",
       "      <th>lambda</th>\n",
       "      <th>Accuracy</th>\n",
       "    </tr>\n",
       "  </thead>\n",
       "  <tbody>\n",
       "    <tr>\n",
       "      <th>0</th>\n",
       "      <td>0.030000</td>\n",
       "      <td>0.122896</td>\n",
       "    </tr>\n",
       "    <tr>\n",
       "      <th>1</th>\n",
       "      <td>0.039559</td>\n",
       "      <td>0.129630</td>\n",
       "    </tr>\n",
       "    <tr>\n",
       "      <th>2</th>\n",
       "      <td>0.040193</td>\n",
       "      <td>0.223906</td>\n",
       "    </tr>\n",
       "    <tr>\n",
       "      <th>3</th>\n",
       "      <td>0.040291</td>\n",
       "      <td>0.316498</td>\n",
       "    </tr>\n",
       "    <tr>\n",
       "      <th>4</th>\n",
       "      <td>0.040996</td>\n",
       "      <td>0.335017</td>\n",
       "    </tr>\n",
       "    <tr>\n",
       "      <th>5</th>\n",
       "      <td>0.041204</td>\n",
       "      <td>0.415825</td>\n",
       "    </tr>\n",
       "    <tr>\n",
       "      <th>6</th>\n",
       "      <td>0.044237</td>\n",
       "      <td>0.516835</td>\n",
       "    </tr>\n",
       "    <tr>\n",
       "      <th>7</th>\n",
       "      <td>0.044544</td>\n",
       "      <td>0.526936</td>\n",
       "    </tr>\n",
       "    <tr>\n",
       "      <th>8</th>\n",
       "      <td>0.044632</td>\n",
       "      <td>0.617845</td>\n",
       "    </tr>\n",
       "    <tr>\n",
       "      <th>9</th>\n",
       "      <td>0.045268</td>\n",
       "      <td>0.627946</td>\n",
       "    </tr>\n",
       "    <tr>\n",
       "      <th>10</th>\n",
       "      <td>0.046727</td>\n",
       "      <td>0.693603</td>\n",
       "    </tr>\n",
       "    <tr>\n",
       "      <th>11</th>\n",
       "      <td>0.047088</td>\n",
       "      <td>0.776094</td>\n",
       "    </tr>\n",
       "    <tr>\n",
       "      <th>12</th>\n",
       "      <td>0.049507</td>\n",
       "      <td>0.776094</td>\n",
       "    </tr>\n",
       "    <tr>\n",
       "      <th>13</th>\n",
       "      <td>0.049814</td>\n",
       "      <td>0.776094</td>\n",
       "    </tr>\n",
       "    <tr>\n",
       "      <th>14</th>\n",
       "      <td>0.050252</td>\n",
       "      <td>0.848485</td>\n",
       "    </tr>\n",
       "    <tr>\n",
       "      <th>15</th>\n",
       "      <td>0.051232</td>\n",
       "      <td>0.865320</td>\n",
       "    </tr>\n",
       "    <tr>\n",
       "      <th>16</th>\n",
       "      <td>0.051503</td>\n",
       "      <td>0.865320</td>\n",
       "    </tr>\n",
       "    <tr>\n",
       "      <th>17</th>\n",
       "      <td>0.053000</td>\n",
       "      <td>0.865320</td>\n",
       "    </tr>\n",
       "    <tr>\n",
       "      <th>18</th>\n",
       "      <td>0.054153</td>\n",
       "      <td>0.865320</td>\n",
       "    </tr>\n",
       "    <tr>\n",
       "      <th>19</th>\n",
       "      <td>0.054233</td>\n",
       "      <td>0.865320</td>\n",
       "    </tr>\n",
       "    <tr>\n",
       "      <th>20</th>\n",
       "      <td>0.054718</td>\n",
       "      <td>0.865320</td>\n",
       "    </tr>\n",
       "    <tr>\n",
       "      <th>21</th>\n",
       "      <td>0.054965</td>\n",
       "      <td>0.865320</td>\n",
       "    </tr>\n",
       "    <tr>\n",
       "      <th>22</th>\n",
       "      <td>0.055300</td>\n",
       "      <td>0.865320</td>\n",
       "    </tr>\n",
       "    <tr>\n",
       "      <th>23</th>\n",
       "      <td>0.056166</td>\n",
       "      <td>0.865320</td>\n",
       "    </tr>\n",
       "    <tr>\n",
       "      <th>24</th>\n",
       "      <td>0.057735</td>\n",
       "      <td>0.865320</td>\n",
       "    </tr>\n",
       "    <tr>\n",
       "      <th>25</th>\n",
       "      <td>0.057928</td>\n",
       "      <td>0.865320</td>\n",
       "    </tr>\n",
       "    <tr>\n",
       "      <th>26</th>\n",
       "      <td>0.058321</td>\n",
       "      <td>0.865320</td>\n",
       "    </tr>\n",
       "    <tr>\n",
       "      <th>27</th>\n",
       "      <td>0.058621</td>\n",
       "      <td>0.865320</td>\n",
       "    </tr>\n",
       "    <tr>\n",
       "      <th>28</th>\n",
       "      <td>0.058722</td>\n",
       "      <td>0.865320</td>\n",
       "    </tr>\n",
       "    <tr>\n",
       "      <th>29</th>\n",
       "      <td>0.061430</td>\n",
       "      <td>0.865320</td>\n",
       "    </tr>\n",
       "    <tr>\n",
       "      <th>30</th>\n",
       "      <td>0.064550</td>\n",
       "      <td>0.865320</td>\n",
       "    </tr>\n",
       "    <tr>\n",
       "      <th>31</th>\n",
       "      <td>0.065372</td>\n",
       "      <td>0.865320</td>\n",
       "    </tr>\n",
       "    <tr>\n",
       "      <th>32</th>\n",
       "      <td>0.074953</td>\n",
       "      <td>0.865320</td>\n",
       "    </tr>\n",
       "  </tbody>\n",
       "</table>\n",
       "</div>"
      ],
      "text/plain": [
       "      lambda  Accuracy\n",
       "0   0.030000  0.122896\n",
       "1   0.039559  0.129630\n",
       "2   0.040193  0.223906\n",
       "3   0.040291  0.316498\n",
       "4   0.040996  0.335017\n",
       "5   0.041204  0.415825\n",
       "6   0.044237  0.516835\n",
       "7   0.044544  0.526936\n",
       "8   0.044632  0.617845\n",
       "9   0.045268  0.627946\n",
       "10  0.046727  0.693603\n",
       "11  0.047088  0.776094\n",
       "12  0.049507  0.776094\n",
       "13  0.049814  0.776094\n",
       "14  0.050252  0.848485\n",
       "15  0.051232  0.865320\n",
       "16  0.051503  0.865320\n",
       "17  0.053000  0.865320\n",
       "18  0.054153  0.865320\n",
       "19  0.054233  0.865320\n",
       "20  0.054718  0.865320\n",
       "21  0.054965  0.865320\n",
       "22  0.055300  0.865320\n",
       "23  0.056166  0.865320\n",
       "24  0.057735  0.865320\n",
       "25  0.057928  0.865320\n",
       "26  0.058321  0.865320\n",
       "27  0.058621  0.865320\n",
       "28  0.058722  0.865320\n",
       "29  0.061430  0.865320\n",
       "30  0.064550  0.865320\n",
       "31  0.065372  0.865320\n",
       "32  0.074953  0.865320"
      ]
     },
     "execution_count": 27,
     "metadata": {},
     "output_type": "execute_result"
    }
   ],
   "source": [
    "df_acc"
   ]
  },
  {
   "cell_type": "markdown",
   "metadata": {},
   "source": [
    "`From lambda value = 0.51232 downwards we notice that the accuracy becomes stable as no new information is obtain.`"
   ]
  },
  {
   "cell_type": "code",
   "execution_count": null,
   "metadata": {
    "collapsed": true
   },
   "outputs": [],
   "source": []
  }
 ],
 "metadata": {
  "kernelspec": {
   "display_name": "Python 3",
   "language": "python",
   "name": "python3"
  },
  "language_info": {
   "codemirror_mode": {
    "name": "ipython",
    "version": 3
   },
   "file_extension": ".py",
   "mimetype": "text/x-python",
   "name": "python",
   "nbconvert_exporter": "python",
   "pygments_lexer": "ipython3",
   "version": "3.5.3"
  }
 },
 "nbformat": 4,
 "nbformat_minor": 2
}
